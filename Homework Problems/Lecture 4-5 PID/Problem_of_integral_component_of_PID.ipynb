{
 "cells": [
  {
   "cell_type": "markdown",
   "metadata": {
    "id": "W3FQJUi_tokQ"
   },
   "source": [
    "# Постановка проблемы\n",
    "По некоторым оценкам около 90% современных промышленных контроллеров относятся к ПИД-регуляторам из-за их простоты, низкой стоимости и надежности. Однако ПИД-регуляторы обладают рядом проблем, о которых нужно знать и иметь представление как их решать. Напомним формулу управляющего воздействия:\n",
    "\n",
    "$$u\\left(t\\right)=k_pe\\left(t\\right)+\\;k_i\\int_0^te(\\tau)\\operatorname d\\tau+k_d\\dot e(t)$$\n",
    "\n",
    "В этой работе рассматривается **проблема насыщения**.\n",
    "\n",
    "Интегральная составляющая продолжает действовать, если исполнительный механизм не в состоянии обеспечить слишком большое управляющее воздействие. Это может произойти, например, если мощности нагревательного элемента не хватает для выхода на заданную температуру или размер вентиля недостаточен, чтобы обеспечить необходимый поток. В таких случаях говорят о насыщении исполнительного механизма, о достижении его предельного значения - максимального или минимального выходного параметра.\n",
    "\n",
    "Когда параметр процесса перестает расти из-за насыщения, регулятор продолжает регистрировать отклонение параметров процесса от требуемых. Интеграл ошибки управления продолжает расти, и интегральная составляющая продолжает увеличивать требуемое управляющее воздействие. Тем не менее, исполнительный механизм уже работает на максимуме, так что траектория системы не выходит на требуемый режим.\n",
    "\n",
    "Если требуемый режим изменится или исчезнет влияние неучтенных воздействий (например шумы), то ПИД-регулятор не сможет сразу отреагировать на это. Все дело в слишком большой величине интеграла ошибки, который накопился за время работы исполнительного механизма в предельном режиме. Значение интеграла надолго останется очень большим, вне зависимости от текущей величины отклонения. Воздействие интегральной составляющей будет долго оставаться очень большим, так что исполнительный механизм не выйдет из предельного режима.\n",
    "\n",
    "Существует несколько решений данной проблемы. Ниже рассматриваются два из них, дающих одинаковые результаты."
   ]
  },
  {
   "cell_type": "markdown",
   "metadata": {
    "id": "aEUc1qwC6Jw2"
   },
   "source": [
    "# Реализация системы и регулятора"
   ]
  },
  {
   "cell_type": "code",
   "execution_count": 4,
   "metadata": {
    "id": "aEGOxrYzC4Sm"
   },
   "outputs": [],
   "source": [
    "# Импортируем нужные библиотеки\n",
    "import numpy as np\n",
    "import scipy.integrate as sci\n",
    "import matplotlib.pyplot as plt"
   ]
  },
  {
   "cell_type": "code",
   "execution_count": 5,
   "metadata": {
    "id": "yAgXqiCUC4So"
   },
   "outputs": [],
   "source": [
    "# Класс ПИД-регулятора\n",
    "class PID_controller():\n",
    "    def __init__(self, kp = 0, ki = 0, kd = 0, mode = \"original\"):\n",
    "    \n",
    "        self.kp = kp\n",
    "        self.ki = ki\n",
    "        self.kd = kd\n",
    "        self.dt = 0.01\n",
    "    \n",
    "        self.integral = 0\n",
    "        self.e_prev = None # ошибка на предыдущем шаге\n",
    "        self.e_prev_prev = None # ошибка на предпредыдущем шаге\n",
    "        self.control_output = 0 # вычисляемое упарвление\n",
    "        self.control_output_prev = 0 # управление на предыдущем шаге\n",
    "\n",
    "        self.u_max_abs = 5. / 1. # Максимальное возможное управление, которое мы можем мовершить\n",
    "        self.mode = mode\n",
    "        # mode отражает в каком режиме будет работать ПИД - регулятор\n",
    "        # В этой программе их три:\n",
    "        # 1. original - без изменений, стандартный ПИД - регулятор, подверженный проблеме насыщения\n",
    "        # 2. simple_algorithm - простейший алгоритм, решающий проблему насыщения. Его суть в следующем:\n",
    "        # если рассчитанное стандартным ПИД - регулятором воздействие больше максимально доступного нам,\n",
    "        # то мы НЕ увеличиваем интеграл, отвечающий за накопление ошибки. \n",
    "        # Таким образом интеграл не накапливается.\n",
    "        # 3. incremental_algorithm - алгоритм, взятый из статьи \n",
    "        # https://folk.ntnu.no/skoge/prost/proceedings/PID-2018/0061.PDF, страницы 2-3\n",
    "        # Алгоритм состоит в вычислении приращения управления ∆u(k) на каждом шаге и\n",
    "        # добавлении к предыдущему управляющему сигналу u(k−1) только той величины, \n",
    "        # которая не приводит к насыщению исполнительного механизма.\n",
    "        \n",
    "    def set_kp(kp):    \n",
    "        self.kp = kp\n",
    "        \n",
    "    def set_ki(ki):    \n",
    "        self.ki = ki\n",
    "    \n",
    "    def set_kd(kd):    \n",
    "        self.kd = kd        \n",
    "        \n",
    "    # реализация трех режимов\n",
    "    def update(self, state, reference):\n",
    "        error = reference - state\n",
    "        \n",
    "        if self.e_prev == None:\n",
    "            e_dot = 0\n",
    "        else:\n",
    "            e_dot = (error - self.e_prev) / self.dt\n",
    "\n",
    "        self.integral += error * self.dt\n",
    "        \n",
    "        self.control_output = self.kp * error + self.kd * e_dot + self.ki * self.integral\n",
    "\n",
    "        if self.mode == \"simple_algorithm\":\n",
    "            if abs(self.control_output) >= self.u_max_abs:\n",
    "                self.integral -= error * self.dt\n",
    "\n",
    "        # Отмечу, что я взял alpha = 0 для простоты\n",
    "        if self.mode == \"incremental_algorithm\":\n",
    "            if self.e_prev == None:\n",
    "                b1 = 0\n",
    "            else:\n",
    "                b1 = (-self.kp*self.dt - 2*self.kd)*self.e_prev/self.dt\n",
    "            if self.e_prev_prev == None:\n",
    "                b2 = 0\n",
    "            else:\n",
    "                b2 = self.kd*self.e_prev_prev/self.dt\n",
    "            b0 = (self.kp*self.dt + self.ki*self.dt*self.dt + self.kd)*error/self.dt\n",
    "            \n",
    "            self.control_output = b0 + b1 + b2 + self.control_output_prev\n",
    "\n",
    "            if self.control_output - self.u_max_abs > 0.001:\n",
    "                self.control_output = self.u_max_abs\n",
    "                \n",
    "            self.e_prev_prev = self.e_prev\n",
    "            self.control_output_prev = self.control_output\n",
    "\n",
    "        self.e_prev = error\n",
    "\n",
    "        return self.control_output\n",
    "        \n",
    "    def get_ctrl(self, state, reference): \n",
    "        out = self.update(state, reference)\n",
    "        return out "
   ]
  },
  {
   "cell_type": "code",
   "execution_count": 6,
   "metadata": {
    "id": "L0jD65paC4Sq"
   },
   "outputs": [],
   "source": [
    "# класс контролируемой системы\n",
    "class controlSystem(object):\n",
    "    def __init__(self, rhs, param):\n",
    "        self.t0 = 0.\n",
    "        self.tf = 80.\n",
    "        self.ctrl_loop = 0.01 # шаг по времени\n",
    "        self.x0 = [0., 0.] # начальные условие \n",
    "        self.param = param # параметры нашей системы, для разных систем м. б. разные наборы параметров\n",
    "        self.rhs_fun = rhs # правая часть ДУ, описывающего нашу систему\n",
    "        self.result = np.hstack((self.t0, self.x0))\n",
    "        self.u_array = []\n",
    "\n",
    "    def ode_rhs(self, t, x, p, pid = None):\n",
    "        return self.rhs_fun(t, x, p, pid)\n",
    "        \n",
    "    # Здесь решаем диффур с помощью scipy\n",
    "    def simulate(self, pid = None):   \n",
    "        if pid == None:\n",
    "            t_sol = np.arange(self.t0, self.tf, self.ctrl_loop)\n",
    "            sol = sci.solve_ivp(lambda t, x: self.ode_rhs(t, x, self.param, pid), \\\n",
    "                                (self.t0, self.tf), self.x0, t_eval = t_sol, rtol=1e-10, atol=1e-10)\n",
    "            self.result = np.vstack((sol.t, sol.y)).T\n",
    "        else:\n",
    "            t_curr = self.t0\n",
    "            x_curr = self.x0\n",
    "            self.u_array.append(pid.get_ctrl(x_curr[0], self.param.ctrl_req))\n",
    "            while t_curr < self.tf:\n",
    "                sol = sci.solve_ivp(lambda t, x: self.ode_rhs(t, x, self.param, pid), \\\n",
    "                                    (t_curr, t_curr + self.ctrl_loop), x_curr, rtol=1e-6, atol=1e-6)\n",
    "                self.result = np.vstack((self.result, np.hstack((sol.t[-1], sol.y[:,-1]))))\n",
    "                t_curr = sol.t[-1]\n",
    "                x_curr = sol.y[:,-1]\n",
    "\n",
    "                # Собираем данные об управлении на каждом шаге, так как хотим строить график u(t)\n",
    "                u = pid.get_ctrl(x_curr[0], self.param.ctrl_req)\n",
    "                u_max_abs = 5. / self.param.m\n",
    "                if u > param.u_max_abs: u = param.u_max_abs\n",
    "                if u < - param.u_max_abs: u = - param.u_max_abs\n",
    "                self.u_array.append(u)\n",
    "\n",
    "    def plotXV(self):\n",
    "        x = self.result[:, 1];\n",
    "        v = self.result[:, 2];\n",
    "        lim = 1.5 * np.max([np.max(np.abs(x)), np.max(np.abs(v))])\n",
    "\n",
    "        ax = plt.subplot(111)\n",
    "        ax.plot(x, v)\n",
    "        ax.grid(True)\n",
    "        ax.set_title('Phase Plane')\n",
    "        ax.set_ylabel(r'v')\n",
    "        ax.set_xlabel(r'x')\n",
    "        ax.set_xlim(-lim, lim)\n",
    "        ax.set_xlim(-lim, lim)\n",
    "        #ax.set_aspect('equal')\n",
    "\n",
    "        plt.show()\n",
    "        \n",
    "    def plotTX(self):\n",
    "        t = self.result[:, 0];\n",
    "        x = self.result[:, 1];\n",
    "        lim = 1.5 * np.max(np.abs(x))\n",
    "        \n",
    "        ax = plt.subplot(111)\n",
    "        ax.plot(t, x)\n",
    "        ax.plot(t, [self.param.ctrl_req for _ in range(len(t))],\n",
    "        linestyle = '--',\n",
    "        linewidth = 1,\n",
    "        color = 'darkmagenta')\n",
    "        ax.grid(True)\n",
    "        ax.set_title('Position vs Time')\n",
    "        ax.set_ylabel(r'x')\n",
    "        ax.set_xlabel(r't')\n",
    "        ax.set_ylim(-lim, lim)\n",
    "\n",
    "        plt.show()\n",
    "\n",
    "    def plotTU(self):\n",
    "        t = self.result[:, 0];\n",
    "        lim = 1.5 * np.max(np.abs(self.u_array))\n",
    "\n",
    "        ax = plt.subplot(111)\n",
    "        ax.plot(t[1:], self.u_array[1:])\n",
    "        ax.grid(True)\n",
    "        ax.set_title('Control signal vs Time')\n",
    "        ax.set_ylabel(r'u')\n",
    "        ax.set_xlabel(r't')\n",
    "        ax.set_ylim(-lim, lim)\n",
    "\n",
    "        plt.show()           "
   ]
  },
  {
   "cell_type": "markdown",
   "metadata": {
    "id": "qH8hJyH86H2p"
   },
   "source": [
    "# Постановка тестовой задачи\n",
    "\n",
    "Имеем брусок массы m с трением и на пружинке. При t = 0 брусок покоится в начале координат на горизонтальной поверхности. Уравнение нашей системы: \n",
    "$$m\\ddot x\\;+\\;\\beta\\dot x+\\;kx\\;=\\;u\\;+\\;F(t),\\;где $$\n",
    "u - управление\n",
    "\n",
    "F(t) - неучтённые нами внешние силы. Например, ветер или неожидаемый наклон стола, приводящий к появлению силы тяжести.\n",
    "\n",
    "Задача: привести брусок в состояние покоя в точке x = 1.\n",
    "\n",
    "При этом модуль управляющего воздействия ограничен."
   ]
  },
  {
   "cell_type": "markdown",
   "metadata": {
    "id": "NxomE4Yd-1Pi"
   },
   "source": [
    "# Реализация тестовой задачи"
   ]
  },
  {
   "cell_type": "code",
   "execution_count": 7,
   "metadata": {
    "id": "wOYw9-nZC4Su"
   },
   "outputs": [],
   "source": [
    "class Parameters(object):\n",
    "    pass\n",
    "\n",
    "param = Parameters()\n",
    "param.m = 1. # масса бруска\n",
    "param.b = 1  # коэффициент трения\n",
    "param.k = 1. # коэффициент жесткости пружинки\n",
    "param.ctrl_req = 1 # требование, куда нужно привести\n",
    "param.u_max_abs = 5. / param.m # максимально возможное управление, соответствует 5 Н\n",
    "\n",
    "# Неучтенная внешняя сила\n",
    "# Действует первые 10 секунд и имеет модуль 25 Н\n",
    "def F_noise(t):\n",
    "  t_begin = 0\n",
    "  t_end = 10\n",
    "  F_abs = 25\n",
    "  if t >= t_begin and t <= t_end:\n",
    "      return -F_abs\n",
    "  else:\n",
    "      return 0\n",
    "\n",
    "#  Правая часть ДУ, описывающего нашу систему\n",
    "def rhs(t, x, p, pid = None):\n",
    "    if pid == None:\n",
    "        u = 0\n",
    "    else:\n",
    "        u = pid.get_ctrl(x[0], p.ctrl_req)\n",
    "    \n",
    "    # Если управление больше допустимого, то \"обрезаем\" его:\n",
    "    if u > p.u_max_abs: u = p.u_max_abs\n",
    "    if u < - p.u_max_abs: u = - p.u_max_abs\n",
    "\n",
    "    dxdt = np.zeros(2)\n",
    "    dxdt[0] = x[1]\n",
    "    dxdt[1] = -p.k * x[0] / p.m - p.b * x[1] / p.m + u + F_noise(t) / p.m\n",
    "    \n",
    "    return dxdt"
   ]
  },
  {
   "cell_type": "markdown",
   "metadata": {
    "id": "SE8tc87__Cwi"
   },
   "source": [
    "# Результаты тестовой задачи"
   ]
  },
  {
   "cell_type": "markdown",
   "metadata": {
    "id": "I7WdbKJV_J3K"
   },
   "source": [
    "Сначала рассматриваем обычный ПИД - регулятор.\n",
    "\n",
    "Как видим, ошибка в интеграле, накопленная за время действия внешней силы, приводит к тому, что даже при отрицательной ошибке (после 12 секунды) управление остается неизменным и излишним до 60 секуды.\n",
    "\n",
    "Координата устанавливается через 55 секунд (в 65 секунд) после прекращений действия неучтенной силы."
   ]
  },
  {
   "cell_type": "code",
   "execution_count": 8,
   "metadata": {
    "colab": {
     "base_uri": "https://localhost:8080/",
     "height": 573
    },
    "id": "znDGQX0dC4Sv",
    "outputId": "b319b505-97a3-4feb-8d97-7033229f0ea0"
   },
   "outputs": [
    {
     "data": {
      "image/png": "[encoded data removed]",
      "text/plain": [
       "<Figure size 432x288 with 1 Axes>"
      ]
     },
     "metadata": {
      "needs_background": "light"
     },
     "output_type": "display_data"
    },
    {
     "data": {
      "image/png": "[encoded data removed]",
      "text/plain": [
       "<Figure size 432x288 with 1 Axes>"
      ]
     },
     "metadata": {
      "needs_background": "light"
     },
     "output_type": "display_data"
    }
   ],
   "source": [
    "pid_original = PID_controller(0.1, 0.01, 0.1)\n",
    "cs = controlSystem(rhs, param)\n",
    "cs.simulate(pid_original)\n",
    "cs.plotTX()\n",
    "cs.plotTU()\n",
    "# Штриховая линия - куда хотим попасть (r(t) = 1)"
   ]
  },
  {
   "cell_type": "markdown",
   "metadata": {
    "id": "Nculk03hA0G1"
   },
   "source": [
    "Теперь рассмотрим ПИД - регулятор, который не увеличивает интеграл при управлении, равном максимальному.\n",
    "\n",
    "Здесь наблюдаем иную картину: после прекращения внешнего воздействия управление сразу начинает изменяться, для достижения r(t).\n",
    "\n",
    "В результате координата устанавливается через 15 секунд (в 25 секунд) после прекращения воздействия. Разница с предыдущей схемой в 3 раза."
   ]
  },
  {
   "cell_type": "code",
   "execution_count": 9,
   "metadata": {
    "colab": {
     "base_uri": "https://localhost:8080/",
     "height": 573
    },
    "id": "6XpaDm5aC4Sw",
    "outputId": "be3cb21e-efa1-422f-9e05-890a63295624"
   },
   "outputs": [
    {
     "data": {
      "image/png": "[encoded data removed]",
      "text/plain": [
       "<Figure size 432x288 with 1 Axes>"
      ]
     },
     "metadata": {
      "needs_background": "light"
     },
     "output_type": "display_data"
    },
    {
     "data": {
      "image/png": "[encoded data removed]",
      "text/plain": [
       "<Figure size 432x288 with 1 Axes>"
      ]
     },
     "metadata": {
      "needs_background": "light"
     },
     "output_type": "display_data"
    }
   ],
   "source": [
    "pid_improved1 = PID_controller(0.1, 0.01, 0.1, \"simple_algorithm\")\n",
    "cs = controlSystem(rhs, param)\n",
    "cs.simulate(pid_improved1)\n",
    "cs.plotTX()\n",
    "cs.plotTU()"
   ]
  },
  {
   "cell_type": "markdown",
   "metadata": {
    "id": "z3W6PGcoB87A"
   },
   "source": [
    "Последняя схема, использующая инкрементирующий алгоритм. Принципиально графики и время установления такие же, как и у предыдущей схемы. \n",
    "\n",
    "Насколько я понимаю, плюс этой схемы в том, что мы используем не всё управление во время действия неучтенной силы, а получаем при этом такие же результаты."
   ]
  },
  {
   "cell_type": "code",
   "execution_count": 10,
   "metadata": {
    "colab": {
     "base_uri": "https://localhost:8080/",
     "height": 573
    },
    "id": "xvqSgMtZOfLV",
    "outputId": "0c701034-61f8-4923-d71c-fedb2d451fd6"
   },
   "outputs": [
    {
     "data": {
      "image/png": "[encoded data removed]",
      "text/plain": [
       "<Figure size 432x288 with 1 Axes>"
      ]
     },
     "metadata": {
      "needs_background": "light"
     },
     "output_type": "display_data"
    },
    {
     "data": {
      "image/png": "[encoded data removed]",
      "text/plain": [
       "<Figure size 432x288 with 1 Axes>"
      ]
     },
     "metadata": {
      "needs_background": "light"
     },
     "output_type": "display_data"
    }
   ],
   "source": [
    "pid_improved2 = PID_controller(0.1, 0.01, 0.1, \"incremental_algorithm\")\n",
    "cs = controlSystem(rhs, param)\n",
    "cs.simulate(pid_improved2)\n",
    "cs.plotTX()\n",
    "cs.plotTU()"
   ]
  },
  {
   "cell_type": "code",
   "execution_count": null,
   "metadata": {},
   "outputs": [],
   "source": []
  }
 ],
 "metadata": {
  "colab": {
   "collapsed_sections": [],
   "name": "Problem of integral component of PID.ipynb",
   "provenance": []
  },
  "kernelspec": {
   "display_name": "Python 3",
   "language": "python",
   "name": "python3"
  },
  "language_info": {
   "codemirror_mode": {
    "name": "ipython",
    "version": 3
   },
   "file_extension": ".py",
   "mimetype": "text/x-python",
   "name": "python",
   "nbconvert_exporter": "python",
   "pygments_lexer": "ipython3",
   "version": "3.8.8"
  }
 },
 "nbformat": 4,
 "nbformat_minor": 1
}
