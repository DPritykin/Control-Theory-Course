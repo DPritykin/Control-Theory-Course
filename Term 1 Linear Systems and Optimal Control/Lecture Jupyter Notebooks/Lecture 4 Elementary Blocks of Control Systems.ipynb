{
 "cells": [
  {
   "cell_type": "markdown",
   "id": "3cf14a60",
   "metadata": {},
   "source": [
    "# Стандартная форма записи уравнения звена\n",
    "\n",
    "\n",
    "\n",
    "<p>\n",
    "    Рассмотрим систему с одномерным входом и одномерным выходом, которая описывается линейным дифференциальным уравнением. Чтобы облегчить анализ системы, уравнение записывается так, чтобы сигнал на выходе объекта и его производные находились в левой части уравнения, а остальные члены &mdash; в правой части. Кроме того, принято, чтобы сам сигнал на выходе имел в уравнении коэффициент равный единице.\n",
    "</p>\n",
    "\n",
    "<p>\n",
    "    Таким образом, стандартное линейное уравнение звена имеет вид\n",
    "    $$\n",
    "        \\sum_{i=0}^n T_i \\frac{\\mathrm{d}^i x}{\\mathrm{d} t^i}(t) = \\sum_{j=0}^m k_j \\frac{\\mathrm{d}^j u}{\\mathrm{d} u^j}(t) + k_{m+1} f(t),\\quad T_0 = 0, \\tag{1}\n",
    "    $$\n",
    "    где $x$ &mdash; выход системы, $u$ &mdash; управляющее воздействие, а функция $f(t)$ характеризует возмущения. Коэффициенты $k_0, \\ldots, k_{m+1}$, называются <b>коэффициентами передачи</b>, а $T_0, \\ldots, T_n$ &mdash; <b>постоянными времени</b>.</p> \n",
    "<p>  \n",
    "        Термин \"коэффициент передачи\" можно пояснить следующим образом. На вход звена подадим сигнал $u = const$ при условии, что $f(t) \\equiv 0$. Тогда уравнение $(1)$ имеет решение $x = k_0 u$. Поэтому коэффициент $k_0$ представляет собой отношение сигнала на выходе к сигналу на входе в установившемся режиме.</p>\n",
    "    "
   ]
  },
  {
   "cell_type": "markdown",
   "id": "52ed80c7",
   "metadata": {},
   "source": [
    "# Типы звеньев систем управления\n",
    " Все звенья делятся на три большие группы:\n",
    " \n",
    "1. позиционные \n",
    "2. интегрирующие\n",
    "2. дифференцирующие\n",
    "\n",
    "    \n",
    "Рассмотрим каждую из групп подробнее."
   ]
  },
  {
   "cell_type": "markdown",
   "id": "9b8b0763",
   "metadata": {},
   "source": [
    "## Позиционные звенья\n",
    "\n",
    "<p>Звенья такого типа описываются дифференциальным уравнением $(1)$, в правой части которого $m = 0$. Рассмотрим следующие примеры таких звеньев:\n",
    "<ol>\n",
    "    <li> безинерционное (пропорциональное) звено $(n=0)$\n",
    "        $$x = ku \\tag{2.1}$$ \n",
    "    </li>\n",
    "    <li> инерционное (апериодическое) звено $(n=1)$\n",
    "        $$T \\dot{x} +x = ku \\tag{2.2}$$\n",
    "    </li>\n",
    "</ol>\n",
    "</p>\n",
    "\n",
    "<p>Построим для каждого из этих звеньев передаточную, весовую и переходную функции при помощи библиотеки символьных вычислений Sympy.</p>"
   ]
  },
  {
   "cell_type": "markdown",
   "id": "dae6af9f",
   "metadata": {},
   "source": [
    "### Пропорциональное звено"
   ]
  },
  {
   "cell_type": "code",
   "execution_count": 1,
   "id": "a28ffbcd",
   "metadata": {},
   "outputs": [],
   "source": [
    "# импортируем необходимые библиотеки\n",
    "import sympy\n",
    "import matplotlib.pyplot as plt\n",
    "import numpy as np\n",
    "from IPython.display import display, Math"
   ]
  },
  {
   "cell_type": "code",
   "execution_count": 2,
   "id": "c4d4101d",
   "metadata": {},
   "outputs": [],
   "source": [
    "# функции для удобного отображения равенств\n",
    "def dispStr(s):\n",
    "    return display(Math(\"$\"+s+\"$\"))\n",
    "def dispEq(left, right):\n",
    "    return display(Math(\"$\"+left+'='+right+\"$\"))\n",
    "def makelatex(sym):\n",
    "    return sympy.latex(sym)"
   ]
  },
  {
   "cell_type": "code",
   "execution_count": 3,
   "id": "7dea9acd",
   "metadata": {},
   "outputs": [],
   "source": [
    "# функции для часто повторяющихся действий\n",
    "# применение преобразования Лапласа к уравнению\n",
    "def LEq(Left, Right):\n",
    "    return sympy.Eq(L(Left), L(Right))\n",
    "\n",
    "# решение полученного уравнения относительно изображения x(t)\n",
    "def LSolve(LEq):\n",
    "    return sympy.solve(LEq, L(x))[0]\n",
    "\n",
    "# передаточная функция\n",
    "def H(LSol):\n",
    "    return sympy.simplify(LSol/L(u))\n",
    "\n",
    "# весовая функция\n",
    "def h(H):\n",
    "    return iL(H)\n",
    "\n",
    "# переходная функция\n",
    "def pi(H):\n",
    "    return iL(H/s)"
   ]
  },
  {
   "cell_type": "code",
   "execution_count": 4,
   "id": "a599fe8a",
   "metadata": {},
   "outputs": [],
   "source": [
    "def lambdify(expr, subs):\n",
    "    \"\"\"Преобразует символьную функцию expr(t) аргумента t в числовую с заменой параметров на соответствующие\n",
    "    им значения из subs\"\"\"\n",
    "    \n",
    "    return np.vectorize(lambda arg : float(expr.evalf(subs=dict(list(zip(subs.keys(), subs.values()))+[(t, arg)]))))"
   ]
  },
  {
   "cell_type": "code",
   "execution_count": 5,
   "id": "0acc3db0",
   "metadata": {},
   "outputs": [],
   "source": [
    "# Функция для построения графиков символьных функций с разничными параметрами в одних осях\n",
    "def plot_sym(expr, subs_list, ax, ls, labels):\n",
    "    for subs in subs_list:\n",
    "        ax.plot(ls, lambdify(expr, subs)(ls))\n",
    "    ax.grid()\n",
    "    ax.legend(labels)\n"
   ]
  },
  {
   "cell_type": "code",
   "execution_count": 6,
   "id": "0bb17446",
   "metadata": {},
   "outputs": [],
   "source": [
    "# t, s и k - действительные символьные переменные\n",
    "t, s, k = sympy.symbols(\"t, s, k\", real=True)\n",
    "\n",
    "# x(t), u(t) - действительные символьные функции переменой t\n",
    "x = sympy.Function(\"x\", real=True)(t)\n",
    "u = sympy.Function(\"u\", real=True)(t)"
   ]
  },
  {
   "cell_type": "code",
   "execution_count": 7,
   "id": "10823020",
   "metadata": {},
   "outputs": [],
   "source": [
    "# функции для прямого и обратного преобразования Лапласа\n",
    "def L(x):\n",
    "    return sympy.laplace_transform(x, t, s, noconds=True)\n",
    "\n",
    "def iL(X):\n",
    "    return sympy.inverse_laplace_transform(X, s, t)"
   ]
  },
  {
   "cell_type": "markdown",
   "id": "f38799a4",
   "metadata": {},
   "source": [
    "Определим уравнение $(2.1)$"
   ]
  },
  {
   "cell_type": "code",
   "execution_count": 8,
   "id": "8b8ef6fd",
   "metadata": {},
   "outputs": [
    {
     "data": {
      "text/latex": [
       "$\\displaystyle x{\\left(t \\right)}=k u{\\left(t \\right)}$"
      ],
      "text/plain": [
       "<IPython.core.display.Math object>"
      ]
     },
     "metadata": {},
     "output_type": "display_data"
    }
   ],
   "source": [
    "# левая часть\n",
    "Left21 = x\n",
    "# правая часть\n",
    "Right21 = k*u\n",
    "# уравнение\n",
    "dispEq(makelatex(Left21),makelatex(Right21))"
   ]
  },
  {
   "cell_type": "markdown",
   "id": "39e39701",
   "metadata": {},
   "source": [
    "Применим к обеим частям преобразование Лапласа"
   ]
  },
  {
   "cell_type": "code",
   "execution_count": 9,
   "id": "dd9879a5",
   "metadata": {},
   "outputs": [
    {
     "data": {
      "text/latex": [
       "$\\displaystyle \\mathcal{L}_{t}\\left[x{\\left(t \\right)}\\right]\\left(s\\right) = k \\mathcal{L}_{t}\\left[u{\\left(t \\right)}\\right]\\left(s\\right)$"
      ],
      "text/plain": [
       "Eq(LaplaceTransform(x(t), t, s), k*LaplaceTransform(u(t), t, s))"
      ]
     },
     "execution_count": 9,
     "metadata": {},
     "output_type": "execute_result"
    }
   ],
   "source": [
    "LEq21 = LEq(Left21, Right21)\n",
    "LEq21"
   ]
  },
  {
   "cell_type": "markdown",
   "id": "2dd5d715",
   "metadata": {},
   "source": [
    "и решим его относительно $L \\left[ x(t) \\right]$:"
   ]
  },
  {
   "cell_type": "code",
   "execution_count": 10,
   "id": "9406543d",
   "metadata": {},
   "outputs": [
    {
     "data": {
      "text/latex": [
       "$\\displaystyle \\mathcal{L}_{t}\\left[x{\\left(t \\right)}\\right]\\left(s\\right)=k \\mathcal{L}_{t}\\left[u{\\left(t \\right)}\\right]\\left(s\\right)$"
      ],
      "text/plain": [
       "<IPython.core.display.Math object>"
      ]
     },
     "metadata": {},
     "output_type": "display_data"
    }
   ],
   "source": [
    "Sol21 = LSolve(LEq21)\n",
    "dispEq(makelatex(L(x)), makelatex(Sol21))"
   ]
  },
  {
   "cell_type": "markdown",
   "id": "73d6b0ae",
   "metadata": {},
   "source": [
    "По определению <b>передаточная функция</b> &mdash; имеющее наименьший порядок отношение изображений выходной и входной переменных при нулевых начальных условиях:\n"
   ]
  },
  {
   "cell_type": "code",
   "execution_count": 11,
   "id": "26980d80",
   "metadata": {},
   "outputs": [
    {
     "data": {
      "text/latex": [
       "$\\displaystyle \\mathsf{H}_{(2.1)}(s)=k$"
      ],
      "text/plain": [
       "<IPython.core.display.Math object>"
      ]
     },
     "metadata": {},
     "output_type": "display_data"
    }
   ],
   "source": [
    "H21 = H(Sol21)\n",
    "dispEq(\"\\mathsf{H}_{(2.1)}(s)\",makelatex(H21))"
   ]
  },
  {
   "cell_type": "markdown",
   "id": "1fdcfaee",
   "metadata": {},
   "source": [
    "<p>\n",
    "<b>Весовой функцией</b> $h(t)$ называется отклик системы на единичное импульсное воздействие ($\\delta$-функцию) при нулевых начальных условиях.\n",
    "</p>\n",
    "\n",
    "<p>\n",
    "Найдём весовую функцию пропорционального звена, учитывая, что $\\mathcal{L}\\left[\\delta(t)\\right](s) \\equiv 1$ и, следовательно, $\\mathsf{X}(s) \\equiv \\mathsf{H}(s)$.\n",
    "</p>"
   ]
  },
  {
   "cell_type": "code",
   "execution_count": 12,
   "id": "07b9046c",
   "metadata": {
    "scrolled": true
   },
   "outputs": [
    {
     "data": {
      "text/latex": [
       "$\\displaystyle h_{(2.1)}(t)=k \\delta\\left(t\\right)$"
      ],
      "text/plain": [
       "<IPython.core.display.Math object>"
      ]
     },
     "metadata": {},
     "output_type": "display_data"
    }
   ],
   "source": [
    "h21 = h(H21)\n",
    "dispEq(\"h_{(2.1)}(t)\",makelatex(h21))"
   ]
  },
  {
   "cell_type": "markdown",
   "id": "1e145637",
   "metadata": {},
   "source": [
    "<p>\n",
    "<b>Переходной функцией</b> $\\pi(t)$ называется отклик системы на единичное ступенчатое воздействие ($\\theta(t)$ - функция Хевисайда) при нулевых начальных условиях.\n",
    "</p>\n",
    "\n",
    "<p>\n",
    "    Найдём переходную функцию пропорционального звена, учитывая что $\\mathcal{L}\\left[\\theta(t)\\right](s) = \\frac{1}{s}$.\n",
    "</p>"
   ]
  },
  {
   "cell_type": "code",
   "execution_count": 13,
   "id": "cb707007",
   "metadata": {},
   "outputs": [
    {
     "data": {
      "text/latex": [
       "$\\displaystyle \\pi_{(2.1)}(t)=k \\theta\\left(t\\right)$"
      ],
      "text/plain": [
       "<IPython.core.display.Math object>"
      ]
     },
     "metadata": {},
     "output_type": "display_data"
    }
   ],
   "source": [
    "pi21 = pi(H21)\n",
    "dispEq(\"\\pi_{(2.1)}(t)\",makelatex(pi21))"
   ]
  },
  {
   "cell_type": "markdown",
   "id": "86be2969",
   "metadata": {},
   "source": [
    "Таким образом, откликом пропорционального звена на любой воздействие является сигнал, пропорциональный воздействию с коэффициентом $k$."
   ]
  },
  {
   "cell_type": "markdown",
   "id": "bd562eca",
   "metadata": {},
   "source": [
    "#### Физичные примеры пропорционального звена\n",
    "\n",
    "Примерами пропорционального звена могут служить: рычаг, зубчатая передача, делитель напряжений."
   ]
  },
  {
   "cell_type": "markdown",
   "id": "d9aa8ac9",
   "metadata": {},
   "source": [
    "<b>1) рычаг</b>"
   ]
  },
  {
   "attachments": {
    "proportional_lever.gif": {
     "image/gif": "[encoded data removed]"
    }
   },
   "cell_type": "markdown",
   "id": "0b5a7a57",
   "metadata": {},
   "source": [
    "![proportional_lever.gif](attachment:proportional_lever.gif)\n",
    "<center>Рис. 1.1</center>\n"
   ]
  },
  {
   "cell_type": "markdown",
   "id": "e23150a2",
   "metadata": {},
   "source": [
    "Перемещение $h_2$ (рис 1.1) зависит от соотношения плеч рычага $l_1$ и $l_2$ и величины входного перемещения $h_1$\n",
    "$$\n",
    "h_2(h_1) = \\frac{l_2}{l_1} = k_р h_1\n",
    "$$\n",
    "$\n",
    "k_р=\\frac{l_2}{l_1}$ &mdash; коэффициент передачи.\n"
   ]
  },
  {
   "cell_type": "markdown",
   "id": "20a23d7b",
   "metadata": {},
   "source": [
    "<b>2) зубчатая передача</b>"
   ]
  },
  {
   "attachments": {
    "proportional_gears.gif": {
     "image/gif": "[encoded data removed]"
    }
   },
   "cell_type": "markdown",
   "id": "e84b0f19",
   "metadata": {},
   "source": [
    "![proportional_gears.gif](attachment:proportional_gears.gif)\n",
    "<center>Рис. 1.2</center>"
   ]
  },
  {
   "cell_type": "markdown",
   "id": "c391c026",
   "metadata": {},
   "source": [
    "Угловая скорость зубчатой передачи $w_2$ (рис. 1.2) зависит от соотношения числа зубьев на малой и большой шестернях $z_1$ и $z_2$ и величины угловой скорости малой шестерни $w_1$\n",
    "$$\n",
    "\\omega_2 = \\frac{z_1}{z_2}\\omega_1 =k_п \\omega_1\n",
    "$$\n",
    "$k_п=\\frac{z_2}{z_1}$ &mdash; коэффициент передачи."
   ]
  },
  {
   "cell_type": "markdown",
   "id": "a54ca901",
   "metadata": {},
   "source": [
    "<b>3) делитель напряжений</b>"
   ]
  },
  {
   "attachments": {
    "proportional_divider.jpg": {
     "image/jpeg": "[encoded data removed]"
    }
   },
   "cell_type": "markdown",
   "id": "8f30770e",
   "metadata": {},
   "source": [
    "![proportional_divider.jpg](attachment:proportional_divider.jpg)\n",
    "<center>Рис. 1.3</center>"
   ]
  },
  {
   "cell_type": "markdown",
   "id": "29780f69",
   "metadata": {},
   "source": [
    "Выходное напряжение $U_вых$ (рис. 1.3) зависит от соотношения сопротивлений электрической цепочки $R_1$ и $R_2$ и величины входного напряжения $U_вх$\n",
    "$$\n",
    "U_вых =\\frac{R_2}{R_1+R_2}U_вх = k_д U_вх\n",
    "$$\n",
    "$k_д=\\frac{R_2}{R_1+R_2}$ &mdash; коэффициент передачи."
   ]
  },
  {
   "cell_type": "markdown",
   "id": "562c7684",
   "metadata": {},
   "source": [
    "### Апериодическое звено"
   ]
  },
  {
   "cell_type": "code",
   "execution_count": 14,
   "id": "3b6cb032",
   "metadata": {},
   "outputs": [],
   "source": [
    "# действительная постоянная символьная переменная T\n",
    "T = sympy.Symbol('T', real=True, const=True)"
   ]
  },
  {
   "cell_type": "markdown",
   "id": "85293199",
   "metadata": {},
   "source": [
    "Определим уравнение (2.2)"
   ]
  },
  {
   "cell_type": "code",
   "execution_count": 15,
   "id": "4114f825",
   "metadata": {},
   "outputs": [
    {
     "data": {
      "text/latex": [
       "$\\displaystyle T \\frac{d}{d t} x{\\left(t \\right)} + x{\\left(t \\right)}=k u{\\left(t \\right)}$"
      ],
      "text/plain": [
       "<IPython.core.display.Math object>"
      ]
     },
     "metadata": {},
     "output_type": "display_data"
    }
   ],
   "source": [
    "# левая часть\n",
    "Left22 = T*x.diff(t) + x\n",
    "# правая часть\n",
    "Right22 = k*u\n",
    "# уравнение\n",
    "dispEq(makelatex(Left22), makelatex(Right22))"
   ]
  },
  {
   "cell_type": "markdown",
   "id": "f40a81c3",
   "metadata": {},
   "source": [
    "Применим к обеим частям преобразование Лапласа"
   ]
  },
  {
   "cell_type": "code",
   "execution_count": 16,
   "id": "cd4a2e8d",
   "metadata": {},
   "outputs": [
    {
     "data": {
      "text/latex": [
       "$\\displaystyle T \\mathcal{L}_{t}\\left[\\frac{d}{d t} x{\\left(t \\right)}\\right]\\left(s\\right) + \\mathcal{L}_{t}\\left[x{\\left(t \\right)}\\right]\\left(s\\right) = k \\mathcal{L}_{t}\\left[u{\\left(t \\right)}\\right]\\left(s\\right)$"
      ],
      "text/plain": [
       "Eq(T*LaplaceTransform(Derivative(x(t), t), t, s) + LaplaceTransform(x(t), t, s), k*LaplaceTransform(u(t), t, s))"
      ]
     },
     "execution_count": 16,
     "metadata": {},
     "output_type": "execute_result"
    }
   ],
   "source": [
    "LEq22 = LEq(Left22, Right22)\n",
    "LEq22"
   ]
  },
  {
   "cell_type": "markdown",
   "id": "6e09987d",
   "metadata": {},
   "source": [
    "<p>\n",
    "По одному из свойств преобразования Лапласа\n",
    "$$\n",
    "    \\mathcal{L}\\left[ \\frac{\\mathrm{d}^n x}{\\mathrm{d}t^n}(t) \\right](s) = s^n \\mathcal{L}\\left[x(t) \\right](s) - \\sum_{i=1}^{n} s^{i-1} x^{(n-i)}(0) = s^n \\mathcal{L}\\left[x(t) \\right](s) $$\n",
    "   при  $x^{m}(0)=0; \\space m = 1\\ldots n-1$\n",
    "    \n",
    "Учтём это, произведя замену в полученных символьных выражениях."
   ]
  },
  {
   "cell_type": "code",
   "execution_count": 17,
   "id": "0df0a19d",
   "metadata": {},
   "outputs": [
    {
     "data": {
      "text/plain": [
       "[(LaplaceTransform(x(t), t, s), LaplaceTransform(x(t), t, s)),\n",
       " (LaplaceTransform(Derivative(x(t), t), t, s), s*LaplaceTransform(x(t), t, s)),\n",
       " (LaplaceTransform(Derivative(x(t), (t, 2)), t, s),\n",
       "  s**2*LaplaceTransform(x(t), t, s)),\n",
       " (LaplaceTransform(u(t), t, s), LaplaceTransform(u(t), t, s)),\n",
       " (LaplaceTransform(Derivative(u(t), t), t, s), s*LaplaceTransform(u(t), t, s)),\n",
       " (LaplaceTransform(Derivative(u(t), (t, 2)), t, s),\n",
       "  s**2*LaplaceTransform(u(t), t, s))]"
      ]
     },
     "execution_count": 17,
     "metadata": {},
     "output_type": "execute_result"
    }
   ],
   "source": [
    "# составляем массив из пар (изображение n-ой производной x(t), s^n*изображение x(t)), то же и для u(t)\n",
    "subl = [(L(sympy.diff(x,(t,i))), s**i*L(x)) for i in range(3)] + [(L(sympy.diff(u,(t,i))), s**i*L(u)) for i in range(3)]\n",
    "subl"
   ]
  },
  {
   "cell_type": "code",
   "execution_count": 18,
   "id": "f68f568c",
   "metadata": {},
   "outputs": [],
   "source": [
    "# функция для замены в соответствии со свойством выше\n",
    "def LSubs(LEq):\n",
    "    return sympy.together(LEq.subs(subl))"
   ]
  },
  {
   "cell_type": "code",
   "execution_count": 19,
   "id": "671bcc08",
   "metadata": {},
   "outputs": [
    {
     "data": {
      "text/latex": [
       "$\\displaystyle \\left(T s + 1\\right) \\mathcal{L}_{t}\\left[x{\\left(t \\right)}\\right]\\left(s\\right) = k \\mathcal{L}_{t}\\left[u{\\left(t \\right)}\\right]\\left(s\\right)$"
      ],
      "text/plain": [
       "Eq((T*s + 1)*LaplaceTransform(x(t), t, s), k*LaplaceTransform(u(t), t, s))"
      ]
     },
     "execution_count": 19,
     "metadata": {},
     "output_type": "execute_result"
    }
   ],
   "source": [
    "#Произведём замену в уравнении и приведём подобные\n",
    "LEq22 = LSubs(LEq22)\n",
    "LEq22"
   ]
  },
  {
   "cell_type": "markdown",
   "id": "9532edc1",
   "metadata": {},
   "source": [
    "Решим уравнение относительно $L \\left[ x(t) \\right]$:"
   ]
  },
  {
   "cell_type": "code",
   "execution_count": 20,
   "id": "435b726f",
   "metadata": {},
   "outputs": [
    {
     "data": {
      "text/latex": [
       "$\\displaystyle \\mathcal{L}_{t}\\left[x{\\left(t \\right)}\\right]\\left(s\\right)=\\frac{k \\mathcal{L}_{t}\\left[u{\\left(t \\right)}\\right]\\left(s\\right)}{T s + 1}$"
      ],
      "text/plain": [
       "<IPython.core.display.Math object>"
      ]
     },
     "metadata": {},
     "output_type": "display_data"
    }
   ],
   "source": [
    "Sol22 = LSolve(LEq22)\n",
    "dispEq(makelatex(L(x)), makelatex(Sol22))"
   ]
  },
  {
   "cell_type": "markdown",
   "id": "e24eb5f3",
   "metadata": {},
   "source": [
    "Найдём передаточную функцию апериодического звена $\\mathsf{H}_{(2.2)}(s)$:\n"
   ]
  },
  {
   "cell_type": "code",
   "execution_count": 21,
   "id": "8b5b5a4d",
   "metadata": {},
   "outputs": [
    {
     "data": {
      "text/latex": [
       "$\\displaystyle \\mathsf{H}_{(2.2)}(s)=\\frac{k}{T s + 1}$"
      ],
      "text/plain": [
       "<IPython.core.display.Math object>"
      ]
     },
     "metadata": {},
     "output_type": "display_data"
    }
   ],
   "source": [
    "H22 = H(Sol22)\n",
    "dispEq('\\mathsf{H}_{(2.2)}(s)',makelatex(H22))"
   ]
  },
  {
   "cell_type": "markdown",
   "id": "cd381f96",
   "metadata": {},
   "source": [
    "<p>\n",
    "Найдём весовую функцию, учитывая, что $\\mathcal{L}\\left[\\delta(t)\\right](s) \\equiv 1$ и, следовательно, $\\mathsf{X}(s) \\equiv \\mathsf{H}(s)$:\n",
    "</p>"
   ]
  },
  {
   "cell_type": "code",
   "execution_count": 22,
   "id": "b436a7d4",
   "metadata": {
    "scrolled": true
   },
   "outputs": [
    {
     "data": {
      "text/latex": [
       "$\\displaystyle h_{(2.2)}(t)=\\frac{k e^{- \\frac{t}{T}} \\theta\\left(t\\right)}{T}$"
      ],
      "text/plain": [
       "<IPython.core.display.Math object>"
      ]
     },
     "metadata": {},
     "output_type": "display_data"
    }
   ],
   "source": [
    "h22 = h(H22)\n",
    "dispEq('h_{(2.2)}(t)', makelatex(h22))"
   ]
  },
  {
   "cell_type": "markdown",
   "id": "6affa3d8",
   "metadata": {},
   "source": [
    "<p>\n",
    "    Построим её график при $k=1$ и целых значениях $T \\in [1,5]$:\n",
    "</p>"
   ]
  },
  {
   "cell_type": "code",
   "execution_count": 23,
   "id": "96751ee4",
   "metadata": {},
   "outputs": [
    {
     "data": {
      "image/png": "[encoded data removed]",
      "text/plain": [
       "<Figure size 432x288 with 1 Axes>"
      ]
     },
     "metadata": {
      "needs_background": "light"
     },
     "output_type": "display_data"
    }
   ],
   "source": [
    "N = 6\n",
    "subs_list = [{k:1, T:i} for i in range(1,N)]\n",
    "labels = ['T = '+str(i) for i in range(1,N)]\n",
    "ls = np.linspace(0.0001, 10)\n",
    "fig, ax = plt.subplots()\n",
    "ax.set_title('$h_{(2.2)}(t)$')\n",
    "plot_sym(h22, subs_list, ax, ls, labels)\n",
    "\n"
   ]
  },
  {
   "cell_type": "markdown",
   "id": "7aa6c2e3",
   "metadata": {},
   "source": [
    "\n",
    "\n",
    "<p>\n",
    "    Найдём переходную функцию, учитывая, что $\\mathcal{L}\\left[\\theta(t)\\right](s) = \\frac{1}{s}$:\n",
    "</p>"
   ]
  },
  {
   "cell_type": "code",
   "execution_count": 24,
   "id": "6c406ab9",
   "metadata": {},
   "outputs": [
    {
     "data": {
      "text/latex": [
       "$\\displaystyle \\pi_{(2.2)}(t)=k \\theta\\left(t\\right) - k e^{- \\frac{t}{T}} \\theta\\left(t\\right)$"
      ],
      "text/plain": [
       "<IPython.core.display.Math object>"
      ]
     },
     "metadata": {},
     "output_type": "display_data"
    }
   ],
   "source": [
    "pi22 = pi(H22)\n",
    "dispEq('\\pi_{(2.2)}(t)',makelatex(pi22)) "
   ]
  },
  {
   "cell_type": "markdown",
   "id": "a24c2718",
   "metadata": {},
   "source": [
    "<p>\n",
    "    Построим её график при $k=1$ и целых значениях $T \\in [1,5]$:\n",
    "</p>"
   ]
  },
  {
   "cell_type": "code",
   "execution_count": 25,
   "id": "00cc9a72",
   "metadata": {
    "scrolled": true
   },
   "outputs": [
    {
     "data": {
      "image/png": "[encoded data removed]",
      "text/plain": [
       "<Figure size 432x288 with 1 Axes>"
      ]
     },
     "metadata": {
      "needs_background": "light"
     },
     "output_type": "display_data"
    }
   ],
   "source": [
    "N = 6\n",
    "subs_list = [{k:1, T:i} for i in range(1,N)]\n",
    "labels = ['T = '+str(i) for i in range(1,N)]\n",
    "ls = np.linspace(0.0001, 10)\n",
    "fig, ax = plt.subplots()\n",
    "ax.set_title('$\\pi_{(2.2)}(t)$')\n",
    "plot_sym(pi22, subs_list, ax, ls, labels)\n"
   ]
  },
  {
   "cell_type": "markdown",
   "id": "835204b2",
   "metadata": {},
   "source": [
    "#### Физичные примеры апериодического звена\n",
    "\n",
    "Примерами апериодического звена являются пассивные R-L или R−C цепочки:"
   ]
  },
  {
   "cell_type": "markdown",
   "id": "7d4827f4",
   "metadata": {},
   "source": [
    "<b>1) R-C цепочка</b>"
   ]
  },
  {
   "attachments": {
    "RCchain.png": {
     "image/png": "[encoded data removed]"
    }
   },
   "cell_type": "markdown",
   "id": "c586bc4c",
   "metadata": {},
   "source": [
    "![RCchain.png](attachment:RCchain.png)\n",
    "<center>Рис. 2.1</center>"
   ]
  },
  {
   "cell_type": "markdown",
   "id": "477b9927",
   "metadata": {},
   "source": [
    "<p>\n",
    "    Напряжение на выходе\n",
    "    $$\n",
    "    y = \\frac{q}{C}\n",
    "    $$\n",
    "    где $q$ &mdash; заряд на конденсаторе.\n",
    "</p>\n",
    "\n",
    "Напряжение на входе\n",
    "$$x = IR + \\frac{q}{C} = \\dot{q}R + y = RC \\dot{y} + y$$\n",
    "\n",
    "$$ RC \\dot{y} +y = x $$\n",
    "\n",
    "Получено уравнение апериодического звена, где $T = RC,\\space k = 1$."
   ]
  },
  {
   "cell_type": "markdown",
   "id": "4484b35e",
   "metadata": {},
   "source": [
    "<b>2) L-R цепочка</b>"
   ]
  },
  {
   "attachments": {
    "LRchain1.png": {
     "image/png": "[encoded data removed]"
    }
   },
   "cell_type": "markdown",
   "id": "7a6088ae",
   "metadata": {},
   "source": [
    "![LRchain1.png](attachment:LRchain1.png)\n",
    "<center>Рис. 2.2</center>"
   ]
  },
  {
   "cell_type": "markdown",
   "id": "93a577f9",
   "metadata": {},
   "source": [
    "<p>\n",
    "    Напряжение на выходе\n",
    "    $$\n",
    "    y = -IR\n",
    "    $$\n",
    "    где $I$ &mdash; сила тока в цепи.\n",
    "</p>\n",
    "\n",
    "Напряжение на входе\n",
    "$$x = IR +L \\dot{I} = \\frac{L}{R}\\dot{y} + y$$\n",
    "\n",
    "$$ \\frac{L}{R} \\dot{y} +y = x $$\n",
    "\n",
    "Получено уравнение апериодического звена, где $T = \\frac{L}{R},\\space k = 1$."
   ]
  },
  {
   "cell_type": "markdown",
   "id": "aeec9586",
   "metadata": {},
   "source": [
    "## Интегрирующие звенья\n",
    "\n",
    "<p>Главная особенность таких звеньев состотит в том, что дифференциальное уравнение, описывающее процесс, содержит производные от сигнала на выходе и не содержит самого сигнала:\n",
    "</p>\n",
    "\n",
    "$$\n",
    "\\sum_{i=1}^{n} T_i \\frac{\\mathrm{d}^i x}{\\mathrm{d} t^i}(t) = \n",
    "\\sum_{j=0}^{m} k_i \\frac{\\mathrm{d}^i u}{\\mathrm{d} t^i}(t) + k_{m+1}f(t)\n",
    "$$\n",
    "\n",
    "Простейшим примером интегрирующего звена является идеально интегрирующее звено:\n",
    "\n",
    "$$\n",
    "\\dot{x} = ku \\tag{3}\n",
    "$$\n",
    "\n",
    "<p>Построим для этого звена передаточную, весовую и переходную функции.</p>"
   ]
  },
  {
   "cell_type": "markdown",
   "id": "0874901c",
   "metadata": {},
   "source": [
    "Определим уравнение (3)"
   ]
  },
  {
   "cell_type": "code",
   "execution_count": 26,
   "id": "5e5ec261",
   "metadata": {},
   "outputs": [
    {
     "data": {
      "text/latex": [
       "$\\displaystyle \\frac{d}{d t} x{\\left(t \\right)}=k u{\\left(t \\right)}$"
      ],
      "text/plain": [
       "<IPython.core.display.Math object>"
      ]
     },
     "metadata": {},
     "output_type": "display_data"
    }
   ],
   "source": [
    "# левая часть\n",
    "Left3 = x.diff(t)\n",
    "# правая часть\n",
    "Right3 = k*u\n",
    "# уравнение\n",
    "dispEq(makelatex(Left3), makelatex(Right3))"
   ]
  },
  {
   "cell_type": "markdown",
   "id": "47bd70d4",
   "metadata": {},
   "source": [
    "Применим к обеим частям преобразование Лапласа"
   ]
  },
  {
   "cell_type": "code",
   "execution_count": 27,
   "id": "2aa04f0a",
   "metadata": {},
   "outputs": [
    {
     "data": {
      "text/latex": [
       "$\\displaystyle \\mathcal{L}_{t}\\left[\\frac{d}{d t} x{\\left(t \\right)}\\right]\\left(s\\right) = k \\mathcal{L}_{t}\\left[u{\\left(t \\right)}\\right]\\left(s\\right)$"
      ],
      "text/plain": [
       "Eq(LaplaceTransform(Derivative(x(t), t), t, s), k*LaplaceTransform(u(t), t, s))"
      ]
     },
     "execution_count": 27,
     "metadata": {},
     "output_type": "execute_result"
    }
   ],
   "source": [
    "LEq3 = LEq(Left3, Right3)\n",
    "LEq3"
   ]
  },
  {
   "cell_type": "markdown",
   "id": "de7ab7da",
   "metadata": {},
   "source": [
    "Произведём  в полученных символьных выражениях замену в соответствии со свойствами преобразования Лапласа."
   ]
  },
  {
   "cell_type": "code",
   "execution_count": 28,
   "id": "d319c1c8",
   "metadata": {},
   "outputs": [
    {
     "data": {
      "text/latex": [
       "$\\displaystyle s \\mathcal{L}_{t}\\left[x{\\left(t \\right)}\\right]\\left(s\\right) = k \\mathcal{L}_{t}\\left[u{\\left(t \\right)}\\right]\\left(s\\right)$"
      ],
      "text/plain": [
       "Eq(s*LaplaceTransform(x(t), t, s), k*LaplaceTransform(u(t), t, s))"
      ]
     },
     "execution_count": 28,
     "metadata": {},
     "output_type": "execute_result"
    }
   ],
   "source": [
    "#Произведём замену в уравнении и приведём подобные\n",
    "LEq3 = LSubs(LEq3)\n",
    "LEq3"
   ]
  },
  {
   "cell_type": "markdown",
   "id": "f80c1b89",
   "metadata": {},
   "source": [
    "Решим уравнение относительно $L \\left[ x(t) \\right]$:"
   ]
  },
  {
   "cell_type": "code",
   "execution_count": 29,
   "id": "5a489d09",
   "metadata": {},
   "outputs": [
    {
     "data": {
      "text/latex": [
       "$\\displaystyle \\mathcal{L}_{t}\\left[x{\\left(t \\right)}\\right]\\left(s\\right)=\\frac{k \\mathcal{L}_{t}\\left[u{\\left(t \\right)}\\right]\\left(s\\right)}{s}$"
      ],
      "text/plain": [
       "<IPython.core.display.Math object>"
      ]
     },
     "metadata": {},
     "output_type": "display_data"
    }
   ],
   "source": [
    "Sol3 = LSolve(LEq3)\n",
    "dispEq(makelatex(L(x)), makelatex(Sol3))"
   ]
  },
  {
   "cell_type": "markdown",
   "id": "d6126ff9",
   "metadata": {},
   "source": [
    "Найдём передаточную функцию идеально интегрирующего звена $\\mathsf{H}_{(3)}(s)$:\n"
   ]
  },
  {
   "cell_type": "code",
   "execution_count": 30,
   "id": "8035926e",
   "metadata": {},
   "outputs": [
    {
     "data": {
      "text/latex": [
       "$\\displaystyle \\mathsf{H}_{(3)}(s)=\\frac{k}{s}$"
      ],
      "text/plain": [
       "<IPython.core.display.Math object>"
      ]
     },
     "metadata": {},
     "output_type": "display_data"
    }
   ],
   "source": [
    "H3 = H(Sol3)\n",
    "dispEq('\\mathsf{H}_{(3)}(s)',makelatex(H3))"
   ]
  },
  {
   "cell_type": "markdown",
   "id": "c1e72347",
   "metadata": {},
   "source": [
    "<p>\n",
    "Найдём весовую функцию, учитывая, что $\\mathcal{L}\\left[\\delta(t)\\right](s) \\equiv 1$ и, следовательно, $\\mathsf{X}(s) \\equiv \\mathsf{H}(s)$.\n",
    "Построим её график.\n",
    "</p>"
   ]
  },
  {
   "cell_type": "code",
   "execution_count": 31,
   "id": "66f131ba",
   "metadata": {
    "scrolled": true
   },
   "outputs": [
    {
     "data": {
      "text/latex": [
       "$\\displaystyle h_{(3)}(t)=k \\theta\\left(t\\right)$"
      ],
      "text/plain": [
       "<IPython.core.display.Math object>"
      ]
     },
     "metadata": {},
     "output_type": "display_data"
    }
   ],
   "source": [
    "h3 = h(H3)\n",
    "dispEq('h_{(3)}(t)', makelatex(h3))"
   ]
  },
  {
   "cell_type": "markdown",
   "id": "2acab8cf",
   "metadata": {},
   "source": [
    "<p>Весовая функция идеально инегрирующего звена представляет собой функцию Хевисайда, умноженную на коэффициент передачи.</p>"
   ]
  },
  {
   "cell_type": "markdown",
   "id": "47ba479c",
   "metadata": {},
   "source": [
    "\n",
    "\n",
    "<p>\n",
    "    Найдём переходную функцию, учитывая, что $\\mathcal{L}\\left[\\theta(t)\\right](s) = \\frac{1}{s}$:\n",
    "</p>"
   ]
  },
  {
   "cell_type": "code",
   "execution_count": 32,
   "id": "f4b28233",
   "metadata": {},
   "outputs": [
    {
     "data": {
      "text/latex": [
       "$\\displaystyle \\pi_{(3)}(t)=k t \\theta\\left(t\\right)$"
      ],
      "text/plain": [
       "<IPython.core.display.Math object>"
      ]
     },
     "metadata": {},
     "output_type": "display_data"
    }
   ],
   "source": [
    "pi3 = pi(H3)\n",
    "dispEq('\\pi_{(3)}(t)',makelatex(pi3)) "
   ]
  },
  {
   "cell_type": "markdown",
   "id": "27d8bd9a",
   "metadata": {},
   "source": [
    "<p>\n",
    "    Построим её график при целых значениях $k\\in [1,5]$:\n",
    "</p>"
   ]
  },
  {
   "cell_type": "code",
   "execution_count": 33,
   "id": "7177e13f",
   "metadata": {
    "scrolled": true
   },
   "outputs": [
    {
     "data": {
      "image/png": "[encoded data removed]",
      "text/plain": [
       "<Figure size 432x288 with 1 Axes>"
      ]
     },
     "metadata": {
      "needs_background": "light"
     },
     "output_type": "display_data"
    }
   ],
   "source": [
    "N = 6\n",
    "subs_list = [{k:i} for i in range(1,N)]\n",
    "labels = ['k = '+str(i) for i in range(1,N)]\n",
    "ls = np.linspace(0.0001, 10)\n",
    "fig, ax = plt.subplots()\n",
    "ax.set_title('$\\pi_{(3.1)}(t)$')\n",
    "plot_sym(pi3, subs_list, ax, ls, labels)\n"
   ]
  },
  {
   "cell_type": "markdown",
   "id": "c7efc999",
   "metadata": {},
   "source": [
    "#### Физичные примеры идеально интегрирующего звена\n",
    "\n",
    "Примерами идеально интегрирующего звена являются интегрирующие R-L или R−C цепочки:"
   ]
  },
  {
   "cell_type": "markdown",
   "id": "5c0a094f",
   "metadata": {},
   "source": [
    "<b>1) интегрирующая R-C цепочка</b>"
   ]
  },
  {
   "attachments": {
    "RCchain_R-4.png": {
     "image/png": "[encoded data removed]"
    }
   },
   "cell_type": "markdown",
   "id": "faf0305b",
   "metadata": {},
   "source": [
    "![RCchain_R-4.png](attachment:RCchain_R-4.png)\n",
    "<center>Рис. 3.1</center>"
   ]
  },
  {
   "cell_type": "markdown",
   "id": "6a89b7cc",
   "metadata": {},
   "source": [
    "В этой цепочке входное напряжение подаётся на сопротивление, а выходное снимается с ёмкости.\n",
    "\n",
    "<p>\n",
    "    Напряжение на выходе\n",
    "    $$\n",
    "    y = \\frac{q}{C}\n",
    "    $$\n",
    "    где $q$ &mdash; заряд на конденсаторе.\n",
    "</p>\n",
    "\n",
    "Напряжение на входе:\n",
    "$$x = IR = \\dot{q}R = RC \\dot{y}$$\n",
    "\n",
    "$$ \\dot{y} = \\frac{x}{RC} $$\n",
    "\n",
    "Получено уравнение идеально интегрирующего звена, где $k = \\frac{1}{RC}$.\n",
    "\n",
    "Такой же результат может быть получен при $x = E_{1}$ и $RC\\dot{y} \\gg y$:\n",
    "\n",
    "$$ RC \\dot{y} +y = x  \\Rightarrow RC\\dot{y} = x$$"
   ]
  },
  {
   "cell_type": "markdown",
   "id": "f3ab1d23",
   "metadata": {},
   "source": [
    "<b>2) интегрирующая L-R цепочка</b>"
   ]
  },
  {
   "attachments": {
    "LRchain1_L.png": {
     "image/png": "[encoded data removed]"
    }
   },
   "cell_type": "markdown",
   "id": "5000d6b5",
   "metadata": {},
   "source": [
    "![LRchain1_L.png](attachment:LRchain1_L.png)\n",
    "<center>Рис. 3.2</center>"
   ]
  },
  {
   "cell_type": "markdown",
   "id": "1a234380",
   "metadata": {},
   "source": [
    "В этой цепочке входное напряжение подаётся на индуктивность, а выходное снимается с сопротивления.\n",
    "\n",
    "<p>\n",
    "    Напряжение на выходе\n",
    "    $$\n",
    "    y = -IR\n",
    "    $$\n",
    "    где $I$ &mdash; сила тока в цепи.\n",
    "</p>\n",
    "\n",
    "напряжение на входе:\n",
    "$$x = - L \\dot{I} = \\frac{L}{R}\\dot{y}$$\n",
    "\n",
    "$$ \\dot{y}=  \\frac{R}{L}x $$\n",
    "\n",
    "Получено уравнение идеально интегрирующего звена, где $ k = \\frac{R}{L}$.\n",
    "\n",
    "\n",
    "Такой же результат может быть получен при $x = E_{вх}$ и $\\frac{L}{R}\\dot{y} \\gg y$:\n",
    "\n",
    "$$ \\frac{L}{R} \\dot{y} +y = x  \\Rightarrow \\frac{L}{R}\\dot{y} = x$$"
   ]
  },
  {
   "cell_type": "markdown",
   "id": "7ef5795d",
   "metadata": {},
   "source": [
    "## Дифференцирующие звенья\n",
    "\n",
    "<p>Звенья такого типа описываются уравнением вида (1) с $k_0 = 0:$\n",
    "</p>\n",
    "\n",
    "$$\n",
    "\\sum_{i=0}^{n} T_i \\frac{\\mathrm{d}^i x}{\\mathrm{d} t^i}(t) = \n",
    "\\sum_{j=1}^{m} k_i \\frac{\\mathrm{d}^i u}{\\mathrm{d} t^i}(t) + k_{m+1}f(t)\n",
    "$$\n",
    "\n",
    "Простейшим примером дифференцирующего звена является идеально дифференцирующее звено:\n",
    "\n",
    "$$\n",
    "x = k\\dot{u} \\tag{4}\n",
    "$$\n",
    "\n",
    "<p>Построим для этого звена передаточную, весовую и переходную функции.</p>"
   ]
  },
  {
   "cell_type": "markdown",
   "id": "30494869",
   "metadata": {},
   "source": [
    "Определим уравнение (4)"
   ]
  },
  {
   "cell_type": "code",
   "execution_count": 34,
   "id": "ad64cd9c",
   "metadata": {},
   "outputs": [
    {
     "data": {
      "text/latex": [
       "$\\displaystyle x{\\left(t \\right)}=k \\frac{d}{d t} u{\\left(t \\right)}$"
      ],
      "text/plain": [
       "<IPython.core.display.Math object>"
      ]
     },
     "metadata": {},
     "output_type": "display_data"
    }
   ],
   "source": [
    "# левая часть\n",
    "Left4 = x\n",
    "# правая часть\n",
    "Right4 = k*u.diff(t)\n",
    "# уравнение\n",
    "dispEq(makelatex(Left4), makelatex(Right4))"
   ]
  },
  {
   "cell_type": "markdown",
   "id": "6f0a3112",
   "metadata": {},
   "source": [
    "Применим к обеим частям преобразование Лапласа"
   ]
  },
  {
   "cell_type": "code",
   "execution_count": 35,
   "id": "8d78056a",
   "metadata": {},
   "outputs": [
    {
     "data": {
      "text/latex": [
       "$\\displaystyle \\mathcal{L}_{t}\\left[x{\\left(t \\right)}\\right]\\left(s\\right) = k \\mathcal{L}_{t}\\left[\\frac{d}{d t} u{\\left(t \\right)}\\right]\\left(s\\right)$"
      ],
      "text/plain": [
       "Eq(LaplaceTransform(x(t), t, s), k*LaplaceTransform(Derivative(u(t), t), t, s))"
      ]
     },
     "execution_count": 35,
     "metadata": {},
     "output_type": "execute_result"
    }
   ],
   "source": [
    "LEq4 = LEq(Left4, Right4)\n",
    "LEq4"
   ]
  },
  {
   "cell_type": "markdown",
   "id": "6840d7cb",
   "metadata": {},
   "source": [
    "Произведём  в полученных символьных выражениях замену в соответствии со свойствами преобразования Лапласа."
   ]
  },
  {
   "cell_type": "code",
   "execution_count": 36,
   "id": "cecc1531",
   "metadata": {},
   "outputs": [
    {
     "data": {
      "text/latex": [
       "$\\displaystyle \\mathcal{L}_{t}\\left[x{\\left(t \\right)}\\right]\\left(s\\right) = k s \\mathcal{L}_{t}\\left[u{\\left(t \\right)}\\right]\\left(s\\right)$"
      ],
      "text/plain": [
       "Eq(LaplaceTransform(x(t), t, s), k*s*LaplaceTransform(u(t), t, s))"
      ]
     },
     "execution_count": 36,
     "metadata": {},
     "output_type": "execute_result"
    }
   ],
   "source": [
    "#Произведём замену в уравнении и приведём подобные\n",
    "LEq4 = LSubs(LEq4)\n",
    "LEq4"
   ]
  },
  {
   "cell_type": "markdown",
   "id": "26f7d6c9",
   "metadata": {},
   "source": [
    "Решим уравнение относительно $L \\left[ x(t) \\right]$:"
   ]
  },
  {
   "cell_type": "code",
   "execution_count": 37,
   "id": "e45879f2",
   "metadata": {},
   "outputs": [
    {
     "data": {
      "text/latex": [
       "$\\displaystyle \\mathcal{L}_{t}\\left[x{\\left(t \\right)}\\right]\\left(s\\right)=k s \\mathcal{L}_{t}\\left[u{\\left(t \\right)}\\right]\\left(s\\right)$"
      ],
      "text/plain": [
       "<IPython.core.display.Math object>"
      ]
     },
     "metadata": {},
     "output_type": "display_data"
    }
   ],
   "source": [
    "Sol4 = LSolve(LEq4)\n",
    "dispEq(makelatex(L(x)), makelatex(Sol4))"
   ]
  },
  {
   "cell_type": "markdown",
   "id": "cc9e3fa5",
   "metadata": {},
   "source": [
    "Найдём передаточную функцию идеально дифференцирующего звена $\\mathsf{H}_{(4)}(s)$:\n"
   ]
  },
  {
   "cell_type": "code",
   "execution_count": 38,
   "id": "0e55627b",
   "metadata": {},
   "outputs": [
    {
     "data": {
      "text/latex": [
       "$\\displaystyle \\mathsf{H}_{(4)}(s)=k s$"
      ],
      "text/plain": [
       "<IPython.core.display.Math object>"
      ]
     },
     "metadata": {},
     "output_type": "display_data"
    }
   ],
   "source": [
    "H4 = H(Sol4)\n",
    "dispEq('\\mathsf{H}_{(4)}(s)',makelatex(H4))"
   ]
  },
  {
   "cell_type": "markdown",
   "id": "424c9094",
   "metadata": {},
   "source": [
    "<p>\n",
    "Найдём весовую функцию идеально дифференцирующего звена, учитывая, что $\\mathcal{L}\\left[\\delta(t)\\right](s) \\equiv 1$ и, следовательно, $\\mathsf{X}(s) \\equiv \\mathsf{H}(s)$.\n",
    "</p>"
   ]
  },
  {
   "cell_type": "code",
   "execution_count": 39,
   "id": "f059aaf5",
   "metadata": {
    "scrolled": true
   },
   "outputs": [
    {
     "data": {
      "text/latex": [
       "$\\displaystyle h_{(4)}(t)=k \\mathcal{L}^{-1}_{s}\\left[s\\right]\\left(t\\right)$"
      ],
      "text/plain": [
       "<IPython.core.display.Math object>"
      ]
     },
     "metadata": {},
     "output_type": "display_data"
    }
   ],
   "source": [
    "h4 = h(H4)\n",
    "dispEq('h_{(4)}(t)', makelatex(h4))\n"
   ]
  },
  {
   "cell_type": "markdown",
   "id": "af16ad77",
   "metadata": {},
   "source": [
    "Так как $\\mathcal{L}^{-1}[s](t) = \\delta'(t)$, весовая функция идеально дифференцирующего звена\n",
    "\n",
    "$$h_{(4.1)} = k \\delta'(t)$$\n",
    "\n",
    "где $\\delta'(t-a)$ определяется равенством\n",
    "\n",
    "$$\n",
    "\\int_{-\\infty}^{+\\infty} f(t)\\delta'(t-a) dt = - \\int_{-\\infty}^{+\\infty} f'(t) \\delta(t-a) dt = -f'(a)\n",
    "$$"
   ]
  },
  {
   "cell_type": "markdown",
   "id": "de6015ce",
   "metadata": {},
   "source": [
    "\n",
    "\n",
    "<p>\n",
    "    Найдём переходную функцию идеально дифференцирующего звена, учитывая, что $\\mathcal{L}\\left[\\theta(t)\\right](s) = \\frac{1}{s}$:\n",
    "</p>"
   ]
  },
  {
   "cell_type": "code",
   "execution_count": 40,
   "id": "b7c7ce03",
   "metadata": {},
   "outputs": [
    {
     "data": {
      "text/latex": [
       "$\\displaystyle \\pi_{(4)}(t)=k \\delta\\left(t\\right)$"
      ],
      "text/plain": [
       "<IPython.core.display.Math object>"
      ]
     },
     "metadata": {},
     "output_type": "display_data"
    }
   ],
   "source": [
    "pi4 = pi(H4)\n",
    "dispEq('\\pi_{(4)}(t)',makelatex(pi4)) "
   ]
  },
  {
   "cell_type": "markdown",
   "id": "2a47a631",
   "metadata": {},
   "source": [
    "<p>\n",
    "    Переходная функция идеально дифференцирующего звена представляет собой дельта-фукнкцию, умноженную на коэффициент передачи $k$.\n",
    "</p>"
   ]
  },
  {
   "cell_type": "markdown",
   "id": "c31bce15",
   "metadata": {},
   "source": [
    "#### Физичные примеры идеально дифференцирующего звена\n",
    "\n",
    "Примерами идеально дифференцирующего звена являются дифференцирующие R-L или R−C цепочки:"
   ]
  },
  {
   "cell_type": "markdown",
   "id": "ac935aa7",
   "metadata": {},
   "source": [
    "<b>1) дифференцирующая R-C цепочка</b>"
   ]
  },
  {
   "attachments": {
    "RCchain_Ry.png": {
     "image/png": "[encoded data removed]"
    }
   },
   "cell_type": "markdown",
   "id": "0f223a4d",
   "metadata": {},
   "source": [
    "![RCchain_Ry.png](attachment:RCchain_Ry.png)\n",
    "<center>Рис. 4.1</center>"
   ]
  },
  {
   "cell_type": "markdown",
   "id": "d9d37783",
   "metadata": {},
   "source": [
    "В этой цепочке входное напряжение подаётся на ёмкость, а выходное снимается с сопротивления.\n",
    "\n",
    "<p>\n",
    "    Напряжение на входе:\n",
    "$$ x = \\frac{q}{C}$$\n",
    "   \n",
    " где $q$ &mdash; заряд конденсатора.\n",
    "</p>\n",
    "\n",
    "Напряжение на выходе\n",
    "$$\n",
    "y = IR = \\dot{q}R = RC \\dot{x}\n",
    "$$\n",
    "где $I$ &mdash; сила тока в цепи. \n",
    "$$ y = RC\\dot{x}$$\n",
    "\n",
    "Получено уравнение идеально дифференцирующего звена, где $k = RC$.\n",
    "\n",
    "Такой же результат может быть получен при $y = E_{1}$ и $RC\\dot{x} \\gg x$:\n",
    "\n",
    "$$ RC \\dot{x} +x = y  \\Rightarrow RC\\dot{x} = y$$"
   ]
  },
  {
   "cell_type": "markdown",
   "id": "94cc3a92",
   "metadata": {},
   "source": [
    "<b>2) дифференцирующая L-R цепочка</b>"
   ]
  },
  {
   "attachments": {
    "LRchain1_Ly.png": {
     "image/png": "[encoded data removed]"
    }
   },
   "cell_type": "markdown",
   "id": "256168a2",
   "metadata": {},
   "source": [
    "![LRchain1_Ly.png](attachment:LRchain1_Ly.png)\n",
    "<center>Рис. 4.2</center>"
   ]
  },
  {
   "cell_type": "markdown",
   "id": "3161a2b9",
   "metadata": {},
   "source": [
    "В этой цепочке входное напряжение подаётся на сопротивление, а выходное снимается с индуктивности.\n",
    "\n",
    "<p>\n",
    "    Напряжение на выходе\n",
    "    $$\n",
    "    y = -IR\n",
    "    $$\n",
    "    где $I$ &mdash; сила тока в цепи.\n",
    "</p>\n",
    "\n",
    "напряжение на индуктивности:\n",
    "$$x = L \\dot{I} = \\frac{L}{R}\\dot{y}$$\n",
    "\n",
    "$$ \\dot{y}=  \\frac{R}{L}x $$\n",
    "\n",
    "Получено уравнение идеально дифференцирующего звена, где $ k = \\frac{R}{L}$.\n",
    "\n",
    "\n",
    "Такой же результат может быть получен при $x = E_{вх}$ и $\\frac{L}{R}\\dot{y} \\gg y$:\n",
    "\n",
    "$$ \\frac{L}{R} \\dot{y} +y = x  \\Rightarrow \\frac{L}{R}\\dot{y} = x$$"
   ]
  }
 ],
 "metadata": {
  "kernelspec": {
   "display_name": "Python 3",
   "language": "python",
   "name": "python3"
  },
  "language_info": {
   "codemirror_mode": {
    "name": "ipython",
    "version": 3
   },
   "file_extension": ".py",
   "mimetype": "text/x-python",
   "name": "python",
   "nbconvert_exporter": "python",
   "pygments_lexer": "ipython3",
   "version": "3.8.8"
  }
 },
 "nbformat": 4,
 "nbformat_minor": 5
}
