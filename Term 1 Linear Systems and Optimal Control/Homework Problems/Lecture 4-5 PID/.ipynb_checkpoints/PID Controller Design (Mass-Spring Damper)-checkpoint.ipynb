{
 "cells": [
  {
   "cell_type": "markdown",
   "metadata": {},
   "source": [
    "# Определение параметров PID-регулятора из характеристики переходного процесса"
   ]
  },
  {
   "cell_type": "markdown",
   "metadata": {},
   "source": [
    "Рассмторим задачу проектирования ПИД-регулятора для системы, описываемой дифференциальным уравнением второго порядка. Целью работы является подбор коэффициентов регулятора ($K_p$, $K_d$, $K_i$) для требуемых параметров переходного процесса (rise time, overshoot, steady-state error). Подбор параметров производится двумя способами: c помощью анализа графика сигнала и за счет задания требуемого положения полюсов системы.\\\n",
    "Рассмотрим механическую систему:\n",
    "![Система](https://ctms.engin.umich.edu/CTMS/Content/Introduction/Control/PID/figures/mass_spring_damper.png \"ShowMyImage\")\n",
    "Тут $m$ = 1 кг - масса тележки, $b$ = 10 Нс/м - коэффициент дэмпфирования, $k$ = 20 Н/м - жесткость пружины, F = u(t) = 1 Н.\\\n",
    "\n",
    "Для этого рассмотрим простейшую механическую систему, определяемую ДУ:\n",
    "$$ m 𝑦′′(𝑡) + b 𝑦′(𝑡) + k 𝑦(𝑡) = F(𝑡)$$ \n",
    "\n",
    "Используя преобразование Лапласа и нулевые начальные условия, получаем:\n",
    "$$m 𝑠^2 𝑌(𝑠) + b 𝑠 𝑌(𝑠) + k𝑌(𝑠) = 𝑈(𝑠)$$\n",
    "\n",
    "Передаточная функция определяется как отношение выходного сигнала(смещения) ко входному. Получаем тогда передаточную функцию: \n",
    "\n",
    "$$ H(s) = \\frac{1}{ms^2+bs+k} $$"
   ]
  },
  {
   "cell_type": "markdown",
   "metadata": {},
   "source": [
    "Передаточная функция PID-регулятора имеет вид: $$ H(s) = K_{p} + \\frac{K_{i}}{s} + K_{d}s $$\n",
    "\n",
    "Структурная схема системы с управляющим устройством ($С(s)$), объектом управления ($P(s)$) и отрицательной обратной связью имеет вид:  \n",
    "![Блочная схема системы с PID](https://ctms.engin.umich.edu/CTMS/Content/Introduction/Control/PID/figures/feedback_block.png \"ShowMyImage\")"
   ]
  },
  {
   "cell_type": "code",
   "execution_count": 1,
   "metadata": {},
   "outputs": [],
   "source": [
    "import sympy as sp\n",
    "import matplotlib.pyplot as plt\n",
    "import numpy as np\n",
    "import control as ctrl #(pip install control если пакет control не установлен)\n",
    "from __future__ import print_function\n",
    "from ipywidgets import interact, interactive, fixed, interact_manual\n",
    "import ipywidgets as widgets"
   ]
  },
  {
   "cell_type": "code",
   "execution_count": 2,
   "metadata": {},
   "outputs": [
    {
     "name": "stdout",
     "output_type": "stream",
     "text": [
      "Передаточная функция системы без управления в терминах оператора Лапласа: \n",
      "       1\n",
      "---------------\n",
      "s^2 + 10 s + 20\n",
      "\n"
     ]
    }
   ],
   "source": [
    "#Инициализация системы\n",
    "M = 1  #кг\n",
    "B = 10 #Нс/м\n",
    "K = 20 #Н/м\n",
    "\n",
    "num = np.array([1])\n",
    "den = np.array([M, B, K])\n",
    "print('Передаточная функция системы без управления в терминах оператора Лапласа:',ctrl.tf(num, den))"
   ]
  },
  {
   "cell_type": "markdown",
   "metadata": {},
   "source": [
    "## P control"
   ]
  },
  {
   "cell_type": "markdown",
   "metadata": {},
   "source": [
    "Пропорциональный регулятор уменьшает время нарастания сигнала (rise time), увеличивает перерегулирование (overshoot) и уменьшает (но не устраняет) статическую ошибку (steady state error).\\\n",
    "\n",
    "Передаточная функция замкнутого контура расматриваемой системы с единичной обратной связью и пропорциональным регулятором выглядит следующим образом:\n",
    "$$T(s) = \\frac{K_p}{m s^2 + bs + (k+K_p)}$$"
   ]
  },
  {
   "cell_type": "code",
   "execution_count": 3,
   "metadata": {},
   "outputs": [
    {
     "name": "stdout",
     "output_type": "stream",
     "text": [
      "Передаточная функция: \n",
      "      300\n",
      "----------------\n",
      "s^2 + 10 s + 320\n",
      "\n"
     ]
    },
    {
     "data": {
      "image/png": "[encoded data removed]",
      "text/plain": [
       "<Figure size 432x288 with 1 Axes>"
      ]
     },
     "metadata": {
      "needs_background": "light"
     },
     "output_type": "display_data"
    }
   ],
   "source": [
    "Kp = 300\n",
    "\n",
    "def prop_control (Kp, num, den):\n",
    "    num_arr = num.copy()\n",
    "    den_arr = den.copy()\n",
    "    \n",
    "    num_arr *= Kp\n",
    "    den_arr[2] += Kp\n",
    "    return (num_arr, den_arr)\n",
    "\n",
    "num_ar, den_ar = prop_control (Kp, num, den)\n",
    "T_p = ctrl.tf(num_ar, den_ar)\n",
    "t_p, y_p = ctrl.step_response(T_p)\n",
    "\n",
    "print('Передаточная функция:',T_p)\n",
    "\n",
    "output = num_ar[-1] / den_ar[-1]\n",
    "\n",
    "plt.plot(t_p,y_p)\n",
    "plt.plot(t_p,np.ones_like(y_p) * output,'--',color ='r')\n",
    "\n",
    "plt.title(\"Proportional control\")\n",
    "plt.grid()\n",
    "plt.show()\n"
   ]
  },
  {
   "cell_type": "markdown",
   "metadata": {},
   "source": [
    "## PD control"
   ]
  },
  {
   "cell_type": "markdown",
   "metadata": {},
   "source": [
    "Добавление контроля производной overshoot.\\\n",
    "Передаточная функция замкнутого контура данной системы с контроллером PD является:\n",
    "$$T(s) = \\frac{K_ds+K_p}{Ms^2 + (B+K_d)s + (K+K_p)}$$"
   ]
  },
  {
   "cell_type": "code",
   "execution_count": 4,
   "metadata": {},
   "outputs": [
    {
     "name": "stdout",
     "output_type": "stream",
     "text": [
      "Передаточная функция: \n",
      "   10 s + 300\n",
      "----------------\n",
      "s^2 + 20 s + 320\n",
      "\n"
     ]
    },
    {
     "data": {
      "image/png": "[encoded data removed]",
      "text/plain": [
       "<Figure size 432x288 with 1 Axes>"
      ]
     },
     "metadata": {
      "needs_background": "light"
     },
     "output_type": "display_data"
    }
   ],
   "source": [
    "Kp = 300\n",
    "Kd = 10\n",
    "\n",
    "def prop_der_control (Kp,Kd, num, den):\n",
    "    num_arr = num.tolist()\n",
    "    num_arr[0] *= Kp\n",
    "    num_arr.insert(0,Kd)\n",
    "    num_arr = np.array(num_arr)\n",
    "    \n",
    "    den_arr = den.copy()\n",
    "    den_arr[2] += Kp\n",
    "    den_arr[1] += Kd\n",
    "    \n",
    "    return (num_arr, den_arr)\n",
    "\n",
    "num_ar, den_ar = prop_der_control (Kp, Kd, num, den)\n",
    "T_pd = ctrl.tf(num_ar, den_ar)\n",
    "print('Передаточная функция:',T_pd)\n",
    "t_pd, y_pd = ctrl.step_response(T_pd)\n",
    "\n",
    "\n",
    "output =  num_ar[-1]/den_ar[-1]\n",
    "\n",
    "plt.plot(t_pd,y_pd)\n",
    "plt.plot(t_pd,np.ones_like(y_pd) * output,'--',color ='r')\n",
    "\n",
    "plt.title(\"PD control\")\n",
    "plt.grid()\n",
    "plt.show()\n"
   ]
  },
  {
   "cell_type": "markdown",
   "metadata": {},
   "source": [
    "## PI control"
   ]
  },
  {
   "cell_type": "markdown",
   "metadata": {},
   "source": [
    "Добавление интегрального управления имеет уменьшает время нарастания, увеличивает overshoot, а также уменьшает постоянную ошибку.\\\n",
    "Для данной системы передаточная функция с замкнутым контуром с PI-контроллером равна:\n",
    "$$T(s) = \\frac{K_ds+K_i}{Ms^3 + Bs^2 + (K+K_p)s + K_i}$$"
   ]
  },
  {
   "cell_type": "code",
   "execution_count": 5,
   "metadata": {},
   "outputs": [
    {
     "name": "stdout",
     "output_type": "stream",
     "text": [
      "Передаточная функция: \n",
      "       30 s + 70\n",
      "------------------------\n",
      "s^3 + 10 s^2 + 20 s + 70\n",
      "\n"
     ]
    },
    {
     "data": {
      "image/png": "[encoded data removed]",
      "text/plain": [
       "<Figure size 432x288 with 1 Axes>"
      ]
     },
     "metadata": {
      "needs_background": "light"
     },
     "output_type": "display_data"
    }
   ],
   "source": [
    "Kp = 30\n",
    "Ki = 70\n",
    "\n",
    "def prop_int_control (Kp,Ki, num, den):\n",
    "    num_arr = num.tolist()\n",
    "    num_arr[0] *= Kp\n",
    "    num_arr.append(Ki)\n",
    "    num_arr = np.array(num_arr)\n",
    "    \n",
    "    den_arr = den.copy()\n",
    "    den_arr[2] += Kp\n",
    "    den_arr = den.tolist()\n",
    "    den_arr.append(Ki)\n",
    "    den_arr = np.array(den_arr)\n",
    "    \n",
    "    return (num_arr, den_arr)\n",
    "\n",
    "num_ar, den_ar = prop_int_control (Kp, Ki, num, den)\n",
    "T_pi = ctrl.tf(num_ar, den_ar)\n",
    "print('Передаточная функция:',T_pi)\n",
    "t_pi, y_pi = ctrl.step_response(T_pi)\n",
    "\n",
    "\n",
    "output =  num_ar[-1]/den_ar[-1]\n",
    "plt.plot(t_pi,y_pi)\n",
    "plt.plot(t_pi,np.ones_like(y_pi) * output,'--',color ='r')\n",
    "\n",
    "plt.title(\"PI control\")\n",
    "plt.grid()\n",
    "plt.show()"
   ]
  },
  {
   "cell_type": "markdown",
   "metadata": {},
   "source": [
    "## PID control"
   ]
  },
  {
   "cell_type": "markdown",
   "metadata": {},
   "source": [
    "Передаточная функция в случае PID контроля имеет вид:\n",
    "$$T(s) = \\frac{K_ds^2+K_ps+K_i}{Ms^3 + (B+Kd)s^2 + (K+K_p)s + K_i}$$"
   ]
  },
  {
   "cell_type": "code",
   "execution_count": 6,
   "metadata": {},
   "outputs": [
    {
     "name": "stdout",
     "output_type": "stream",
     "text": [
      "Передаточная функция: \n",
      "   50 s^2 + 350 s + 300\n",
      "--------------------------\n",
      "s^3 + 60 s^2 + 370 s + 300\n",
      "\n"
     ]
    },
    {
     "data": {
      "image/png": "[encoded data removed]",
      "text/plain": [
       "<Figure size 432x288 with 1 Axes>"
      ]
     },
     "metadata": {
      "needs_background": "light"
     },
     "output_type": "display_data"
    }
   ],
   "source": [
    "Kp = 350\n",
    "Ki = 300\n",
    "Kd = 50\n",
    "\n",
    "def prop_int_derive_control (Kp, Kd, Ki, num, den):\n",
    "    num_arr = num.tolist()\n",
    "    num_arr[0] *= Kp\n",
    "    num_arr.insert(0,Kd)\n",
    "    num_arr.append(Ki)\n",
    "    num_arr = np.array(num_arr)\n",
    "\n",
    "    den_arr = den.copy()\n",
    "    den_arr[2] += Kp\n",
    "    den_arr[1] += Kd\n",
    "    den_arr = den_arr.tolist()\n",
    "    den_arr.append(Ki)\n",
    "    den_arr = np.array(den_arr)\n",
    "    return (num_arr, den_arr)\n",
    "\n",
    "num_ar, den_ar = prop_int_derive_control (Kp, Kd, Ki, num, den)\n",
    "\n",
    "T_pid = ctrl.tf(num_ar, den_ar)\n",
    "print('Передаточная функция:',T_pid)\n",
    "t_pid, y_pid = ctrl.step_response(T_pid)\n",
    "\n",
    "\n",
    "output =  num_ar[-1]/den_ar[-1]\n",
    "\n",
    "plt.plot(t_pid,y_pid)\n",
    "plt.plot(t_pid,np.ones_like(y_pid) * output,'--',color ='r')\n",
    "\n",
    "plt.title(\"PID control\")\n",
    "plt.grid()\n",
    "plt.show()"
   ]
  },
  {
   "cell_type": "markdown",
   "metadata": {},
   "source": [
    "## Интерактивный подбор параметров PID-регулятора"
   ]
  },
  {
   "cell_type": "markdown",
   "metadata": {},
   "source": [
    "Алгоритм подбора параметров следующий:\n",
    "* Установите значения $K_i$ и $K_d$ равными нулю. Увеличить $K_p$ до значения, где амплитуда уменьшилась на четверть после первого максимума\n",
    "* Увеличивать $K_i$ до тех пор, пока на бесконечности не установится требуемый режим (steady-state error станет равной нулю).\n",
    "* Увеличить $K_d$, если требуется, до тех пор, пока затухание не станет быстрым и колебания от требуемого значения не уменьшаться до допустимого уровня."
   ]
  },
  {
   "cell_type": "code",
   "execution_count": 7,
   "metadata": {},
   "outputs": [
    {
     "data": {
      "application/vnd.jupyter.widget-view+json": {
       "model_id": "ecec6e0b3d174efdaeb0a5f6c032419d",
       "version_major": 2,
       "version_minor": 0
      },
      "text/plain": [
       "interactive(children=(IntSlider(value=250, description='Kp', max=500, min=1), IntSlider(value=150, description…"
      ]
     },
     "metadata": {},
     "output_type": "display_data"
    },
    {
     "data": {
      "text/plain": [
       "<function __main__.series(Kp, Kd, Ki)>"
      ]
     },
     "execution_count": 7,
     "metadata": {},
     "output_type": "execute_result"
    }
   ],
   "source": [
    "#Интерактивное изменение параметров регулятора\n",
    "def series(Kp, Kd, Ki):\n",
    "    M = 1\n",
    "    B = 10 \n",
    "    K = 20\n",
    "    num = np.array([1])\n",
    "    den = np.array([M, B, K])\n",
    "    \n",
    "    num_arr, den_arr = prop_int_derive_control (Kp, Kd, Ki, num, den)\n",
    "    T = ctrl.tf(num_arr, den_arr)\n",
    "    \n",
    "    t, y = ctrl.step_response(T)\n",
    "    print(T)\n",
    "\n",
    "    plt.plot(t,y)\n",
    "    plt.plot(t,np.ones_like(y),'--',color ='r')\n",
    "    plt.grid()\n",
    "    plt.show()\n",
    "    return()\n",
    "\n",
    "interact(series, Kp=(1,500,1),Kd=(0,300,1),Ki=(0,300,1)) #Здесь можно изменить ограничения на слайдерах\n",
    "#Примерный набор (Kp,Kd,Ki) = (150,13,300)"
   ]
  },
  {
   "cell_type": "markdown",
   "metadata": {},
   "source": [
    "## Подбор параметров PID-регулятора через анализ полюсов"
   ]
  },
  {
   "cell_type": "markdown",
   "metadata": {},
   "source": [
    "Достигнем асимптотической устойчивости системы с PID регулятором с анализа полюсов передаточной функции. Размещение одного полюса на расстоянии 5$\\zeta\\omega_n$ от мнимой оси, а двух других соответсвующим образом, приводит к следующей диаграмме:\n",
    "![Диаграмма](diag.png \"ShowMyImage\")\n",
    "Здесь $\\zeta$ и $\\omega_n$ - некоторые параметры, определяющие положения полюсов. Такое расположение обеспечивает асимптотическую устойчивость системы."
   ]
  },
  {
   "cell_type": "markdown",
   "metadata": {},
   "source": [
    "Таким образом, знаменатель можно разложить на множители,исходя их положения выбранных полюсов:\n",
    "$$ s^3 + s^2(\\frac{B+K_d}{M})+s(\\frac{K+K_p}{M}) + \\frac{K_i}{M} = (s+ 5\\zeta\\omega_n)(s^2+2\\zeta\\omega_ns +\\omega_n^2)$$\n",
    "Тогда после решения данной системы, можно получить выражения для коэффициентов регулятора:\n",
    "$$K_d = 7M\\zeta\\omega_n - B$$\n",
    "$$K_p = M(10\\zeta^2\\omega_n^2 + \\omega_n^2)  - K$$\n",
    "$$K_d = 5M\\zeta\\omega_n^3$$"
   ]
  },
  {
   "cell_type": "markdown",
   "metadata": {},
   "source": [
    "Используя следующий критерий: 2% времени установки меньше 1 секунды. Получим выражения для времени установки и времени роста через параметры $\\zeta$ и $\\omega_n$:\n",
    "$$t_s = \\frac{4}{\\zeta\\omega_n}$$ \n",
    "$$t_r = \\frac{\\pi-\\beta}{\\omega_d}$$\n",
    "Или при $\\beta = atan(\\frac{\\omega_n\\sqrt(1-\\zeta^2)}{\\zeta\\omega_n})$:\n",
    "$$t_r = \\frac{\\pi-atan(\\frac{\\omega_n\\sqrt(1-\\zeta^2)}{\\zeta\\omega_n})}{\\omega_d}$$"
   ]
  },
  {
   "cell_type": "code",
   "execution_count": 235,
   "metadata": {},
   "outputs": [
    {
     "name": "stdout",
     "output_type": "stream",
     "text": [
      "\n",
      "  46 s^2 + 746.1 s + 5043\n",
      "---------------------------\n",
      "s^3 + 55 s^2 + 766 s + 5043\n",
      "\n"
     ]
    },
    {
     "data": {
      "image/png": "[encoded data removed]",
      "text/plain": [
       "<Figure size 432x288 with 1 Axes>"
      ]
     },
     "metadata": {
      "needs_background": "light"
     },
     "output_type": "display_data"
    }
   ],
   "source": [
    "#Поиск параметров при известных ограничениях на время\n",
    "\n",
    "import scipy.optimize as sp\n",
    "\n",
    "def func(x):\n",
    "    #Здесь ставятся ограничения на время установления и время роста\n",
    "    tr = 0.3 #сек\n",
    "    ts = 0.5 #сек\n",
    "    return [4 / (x[0]*x[1]) - ts,\n",
    "            (np.pi - np.arctan(np.sqrt(1-x[0]*x[0])/x[0]))/(x[1]*np.sqrt(1-x[0]*x[0])) - tr]\n",
    "\n",
    "\n",
    "root = sp.fsolve(func, [0.2, 22]) \n",
    "\n",
    "zeta = root[0] \n",
    "omega = root[1]\n",
    "\n",
    "Kd_pole = 7*M*zeta*omega - B\n",
    "Kp_pole = M*(10*zeta**2*omega**2+omega**2)-K\n",
    "Ki_pole = 5*M*zeta*omega**3\n",
    "\n",
    "num_arr, den_arr = prop_int_derive_control (Kp_pole, Kd_pole, Ki_pole, num, den)\n",
    "T_pole = ctrl.tf(num_arr, den_arr)\n",
    "\n",
    "t_pole, y_pole = ctrl.step_response(T_pole)\n",
    "print(T_pole)\n",
    "\n",
    "plt.plot(t_pole,y_pole)\n",
    "plt.plot(t_pole,np.ones_like(y_pole),'--',color ='r')\n",
    "plt.grid()\n",
    "plt.show()"
   ]
  },
  {
   "cell_type": "code",
   "execution_count": 233,
   "metadata": {},
   "outputs": [
    {
     "name": "stdout",
     "output_type": "stream",
     "text": [
      "(array([-38.50967885+0.j        ,  -8.24516057+7.93601635j,\n",
      "        -8.24516057-7.93601635j]), array([-8.10960439+6.6236118j, -8.10960439-6.6236118j]))\n"
     ]
    },
    {
     "data": {
      "image/png": "[encoded data removed]",
      "text/plain": [
       "<Figure size 432x288 with 1 Axes>"
      ]
     },
     "metadata": {
      "needs_background": "light"
     },
     "output_type": "display_data"
    }
   ],
   "source": [
    "#Диаграмма полюсов\n",
    "print(ctrl.pzmap(T_pole))"
   ]
  }
 ],
 "metadata": {
  "kernelspec": {
   "display_name": "Python 3",
   "language": "python",
   "name": "python3"
  },
  "language_info": {
   "codemirror_mode": {
    "name": "ipython",
    "version": 3
   },
   "file_extension": ".py",
   "mimetype": "text/x-python",
   "name": "python",
   "nbconvert_exporter": "python",
   "pygments_lexer": "ipython3",
   "version": "3.8.8"
  }
 },
 "nbformat": 4,
 "nbformat_minor": 4
}
