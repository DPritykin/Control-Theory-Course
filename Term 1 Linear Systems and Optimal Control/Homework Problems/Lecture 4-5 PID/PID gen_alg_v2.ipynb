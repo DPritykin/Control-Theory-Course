{
 "cells": [
  {
   "cell_type": "markdown",
   "id": "bc147c64",
   "metadata": {},
   "source": [
    "Рассматривается динамическая система, представляющая собой демпфированный маятник на пружине. Система имеет следующие характеристики: m = 1 кг - масса тележки, b = 10 Нс/м - коэффициент дэмпфирования, k = 20 Н/м - жесткость пружины, F = u = 1 Н.\n",
    "\\\n",
    "Уравнение, описывающее систему:\n",
    "$$ m \\cdot \\ddot{x} + b \\cdot \\dot{x} + k \\cdot x = u $$\n",
    "\\\n",
    "Представим систему в стандартном представлении в пространстве состояний:\n",
    "$$ \\dot{X} = A \\cdot X + B \\cdot u,$$ \n",
    "$$Y = C \\cdot X + D \\cdot u,$$\n",
    "\\\n",
    "Предполагаем, что в данной системе матрица наблюдения имеет вид $C = \\begin{bmatrix} 1 \\\\ 0 \\end{bmatrix}$,а матрица связи $D$ является нулевой, это означает, что в системе нет явной прямой связи выходной величины с измеряемым значением."
   ]
  },
  {
   "cell_type": "markdown",
   "id": "18ea5821",
   "metadata": {},
   "source": [
    "Приведем систему к нормальному виду:\n",
    "$$\n",
    "\\begin{equation*}\n",
    " \\begin{cases}\n",
    "   \\dot{x_1} = x_2, \n",
    "   \\\\\n",
    "   \\dot{x_2} = -\\frac{k}{m}x_1 - \\frac{b}{m}x_2 + u.\n",
    " \\end{cases}\n",
    "\\end{equation*}\n",
    "$$\n",
    "\\\n",
    "Таким образом, из данной системы можно получить матрицы $A$ и $B$:\n",
    "$$ A =\\begin{bmatrix}\n",
    "0& 1\\\\\n",
    "-\\frac{k}{m}& - \\frac{b}{m}\n",
    "\\end{bmatrix},$$\n",
    "\\\n",
    "$$ B =\\begin{bmatrix}\n",
    "0\\\\\n",
    "1\n",
    "\\end{bmatrix}.$$"
   ]
  },
  {
   "cell_type": "code",
   "execution_count": 1,
   "id": "2ce845d8",
   "metadata": {},
   "outputs": [],
   "source": [
    "import numpy as np\n",
    "import matplotlib.pyplot as plt\n",
    "\n",
    "import control\n",
    "from control import *"
   ]
  },
  {
   "cell_type": "code",
   "execution_count": 2,
   "id": "6e98f266",
   "metadata": {},
   "outputs": [],
   "source": [
    "# Инициализация системы\n",
    "M = 1  #кг\n",
    "B = 10 #Нс/м\n",
    "K = 20 #Н/м"
   ]
  },
  {
   "cell_type": "code",
   "execution_count": 3,
   "id": "a5dd7c0c",
   "metadata": {},
   "outputs": [],
   "source": [
    "def Dyn_ST_TF():\n",
    "    A_st=[[0, 1], [-B/M, -K/M]]\n",
    "    B_st=[0,1]\n",
    "    C_st=[1,0]\n",
    "    D_st=[0]\n",
    "    TF_st=control.ss2tf(A_st, B_st, C_st, D_st)\n",
    "    return TF_st"
   ]
  },
  {
   "cell_type": "code",
   "execution_count": 4,
   "id": "d4fb18e6",
   "metadata": {},
   "outputs": [],
   "source": [
    "def PID_TF_Generator(D,P,I):\n",
    "    PID_Num=[D,P,I]\n",
    "    PID_Den=[1,0]\n",
    "    PID_TF=control.tf(PID_Num,PID_Den)\n",
    "    return PID_TF"
   ]
  },
  {
   "cell_type": "code",
   "execution_count": 5,
   "id": "0d62c9c1",
   "metadata": {},
   "outputs": [],
   "source": [
    "def PID_Response(PID_TF,TF_st):\n",
    "    FeedBack = feedback(PID_TF*TF_st,1)\n",
    "    Time=list(np.arange(0,40,0.1))\n",
    "    Time, y = control.step_response(sys=FeedBack,T=Time,X0=0)\n",
    "    return Time,y"
   ]
  },
  {
   "cell_type": "markdown",
   "id": "01e9d183",
   "metadata": {},
   "source": [
    "Показателем эффективности в данной задаче положим суммы нескольких ошибок регулятора,взятых с определенными весами. К таковым ошибкам относим:\n",
    "\\\n",
    "Интегральная квадратичная ошибка → $ISE = \\int\\limits_{0}^{T} e^2(t) dt,$\n",
    "\\\n",
    "Интегральная абсолютная ошибка → $IAE = \\int\\limits_{0}^{T} |e|(t)dt,$\n",
    "\\\n",
    "Абсолютная интегральная ошибка по времени → $ITAE = \\int\\limits_{0}^{T} t|e|dt,$\n",
    "\\\n",
    "Квадратичная интегральная ошибка по времени → $ITSE = \\int\\limits_{0}^{T} te^2dt,$\n",
    "\\\n",
    "Перерегулирование → $overshoot$,\n",
    "\\\n",
    "Время нарастания → $t_{rise}$."
   ]
  },
  {
   "cell_type": "markdown",
   "id": "8a47002b",
   "metadata": {},
   "source": [
    "Соответствующие веса взяты из $\\href{https://www.researchgate.net/publication/252840849_Genetic_Algorithms_for_PID_Parameter_Optimisation_Minimising_Error_Criteria}{статьи}$."
   ]
  },
  {
   "cell_type": "markdown",
   "id": "2a16927f",
   "metadata": {},
   "source": [
    "Функция качества принимает вид:\n",
    "$$ J = 5 \\cdot ISE + 5 \\cdot IAE + 1 \\cdot ITAE + 1 \\cdot ITSE + 4 \\cdot t_{rise} = 5 \\int\\limits_{0}^{T} e^2(t) dt + 5 \\int\\limits_{0}^{T} |e|(t)dt + \\int\\limits_{0}^{T} t|e|dt + \\int\\limits_{0}^{T} te^2dt + 4 \\cdot t_{rise}→ min $$\n",
    "\\\n",
    "или в более стандратной форме:\n",
    "$$ -5 \\cdot ISE - 5 \\cdot IAE - ITAE - ITSE - 4 \\cdot t_{rise} → max $$"
   ]
  },
  {
   "cell_type": "code",
   "execution_count": 6,
   "id": "dd9d7777",
   "metadata": {},
   "outputs": [],
   "source": [
    "def PID_Error_Generator(D,P,I):\n",
    "    TF_gr=Dyn_ST_TF()\n",
    "    w1=5\n",
    "    w2=5\n",
    "    w3=1\n",
    "    w4=1\n",
    "    w5=4\n",
    "    w6=0\n",
    "\n",
    "    PID_TF=PID_TF_Generator(D,P,I)\n",
    "    Time,y=PID_Response(PID_TF,TF_gr)\n",
    "\n",
    "    y_np=np.array(y.copy())\n",
    "    Error=1-y_np\n",
    "    Absolute_Error=np.abs(Error)\n",
    "    Square_Error=Error**2\n",
    "    Overshoot=np.max(y_np)-1\n",
    "\n",
    "    Overshoot_Index=np.where(y_np==(1+Overshoot))[0]\n",
    "    Overshoot_location=np.argmax(y)/10\n",
    "\n",
    "    Rise_Time=0\n",
    "    IAE = np.trapz(Absolute_Error, dx=0.01)\n",
    "    ISE = np.trapz(Square_Error, dx=0.01)\n",
    "    ITAE = np.trapz((Time*Absolute_Error), dx=0.01)\n",
    "    ITSE = np.trapz((Time*Square_Error), dx=0.01)\n",
    "\n",
    "    W=w1*IAE+w2*ISE+w3*ITAE+w4*ITSE+w5*Rise_Time+w6*Overshoot\n",
    "    return W,y,Time,IAE,ISE,ITAE,ITSE,Rise_Time,Overshoot"
   ]
  },
  {
   "cell_type": "code",
   "execution_count": 7,
   "id": "17500568",
   "metadata": {},
   "outputs": [],
   "source": [
    "def create_population(population_size, parameters, sub_chromosome_length,problem_boundary):\n",
    "\n",
    "    population_sub1_ = np.random.uniform(-problem_boundary[0], problem_boundary[0], size=(population_size, 1))\n",
    "    population_sub2_ = np.random.uniform(-problem_boundary[1], problem_boundary[1], size=(population_size, 1))\n",
    "    population_sub3_ = np.random.uniform(-problem_boundary[2], problem_boundary[2], size=(population_size, 1))\n",
    "    sub_chromosome_matrix=np.ones((population_size,sub_chromosome_length))/sub_chromosome_length\n",
    "    \n",
    "    population_sub1=population_sub1_*sub_chromosome_matrix\n",
    "    population_sub2=population_sub2_*sub_chromosome_matrix\n",
    "    population_sub3=population_sub3_*sub_chromosome_matrix\n",
    "    \n",
    "    population_sub12=np.hstack((population_sub1,population_sub2))\n",
    "    population=np.hstack((population_sub12,population_sub3))\n",
    "\n",
    "\n",
    "    return population"
   ]
  },
  {
   "cell_type": "code",
   "execution_count": 8,
   "id": "fb6b3810",
   "metadata": {},
   "outputs": [],
   "source": [
    "def boundary_checker(population,parameters,sub_chromosome_length,problem_boundary):\n",
    "\n",
    "    Feature1=population[:,0:sub_chromosome_length]\n",
    "    Feature2=population[:,sub_chromosome_length:2*sub_chromosome_length]\n",
    "    Feature3=population[:,2*sub_chromosome_length:]\n",
    "    Initial_Length=len(population)\n",
    "\n",
    "    \n",
    "    P=np.sum(Feature1,keepdims=True,axis=1)\n",
    "    maskP=np.abs(P)>problem_boundary[0]\n",
    "    D=np.sum(Feature2,keepdims=True,axis=1)\n",
    "    maskD=np.abs(D)>problem_boundary[1]\n",
    "    I=np.sum(Feature3,keepdims=True,axis=1)\n",
    "    maskI=np.abs(I)>problem_boundary[2]\n",
    "    maskPD=np.hstack((maskP,maskD))\n",
    "    maskPDI=np.hstack((maskPD,maskI))\n",
    "    \n",
    "    \n",
    "    mask=np.invert(np.any(maskPDI,axis=1))\n",
    "    population_checked=population[mask]\n",
    "\n",
    "    return population_checked"
   ]
  },
  {
   "cell_type": "code",
   "execution_count": 9,
   "id": "8be1165b",
   "metadata": {},
   "outputs": [],
   "source": [
    "def calculate_fitness(population_checked,sub_chromosome_length):\n",
    "    \n",
    "    Feature1=population_checked[:,0:sub_chromosome_length]\n",
    "    Feature2=population_checked[:,sub_chromosome_length:2*sub_chromosome_length]\n",
    "    Feature3=population_checked[:,2*sub_chromosome_length:]\n",
    "\n",
    "    X=(np.sum(Feature1,axis=1)).tolist()\n",
    "    Y=(np.sum(Feature2,axis=1)).tolist()\n",
    "    Z=(np.sum(Feature3,axis=1)).tolist()\n",
    "\n",
    "    GA_Errors=[]\n",
    "    for ns in range(len(X)):\n",
    "        TTTT,*_=PID_Error_Generator(X[ns],Y[ns],Z[ns])\n",
    "        GA_Errors.append(TTTT)\n",
    "    GA_Errors=np.reshape(GA_Errors,newshape=(np.shape(population_checked)[0],1))\n",
    "    population_with_fitness=np.hstack((GA_Errors,population_checked))\n",
    "        \n",
    "    return population_with_fitness"
   ]
  },
  {
   "cell_type": "code",
   "execution_count": 10,
   "id": "40ca1c25",
   "metadata": {},
   "outputs": [],
   "source": [
    "def chromosome_to_result(Champ,sub_chromosome_length):\n",
    "    Champ1=Champ[1:]\n",
    "    Feature_1=Champ1[0:sub_chromosome_length]\n",
    "    Feature_2=Champ1[sub_chromosome_length:2*sub_chromosome_length]\n",
    "    Feature_3=Champ1[2*sub_chromosome_length:]\n",
    "\n",
    "    Champ_X=(np.sum(Feature_1)).tolist()\n",
    "    Champ_Y=(np.sum(Feature_2)).tolist()\n",
    "    Champ_Z=(np.sum(Feature_3)).tolist()\n",
    "    Champ_W,Champ_y,Champ_Time,*_=PID_Error_Generator(Champ_X,Champ_Y,Champ_Z)\n",
    "    \n",
    "    return Champ_X,Champ_Y,Champ_Z,Champ_W,Champ_y,Champ_Time"
   ]
  },
  {
   "cell_type": "code",
   "execution_count": 11,
   "id": "b97b137e",
   "metadata": {},
   "outputs": [],
   "source": [
    "def sort_population(population_with_fitness,population_size):\n",
    "    population_sorted_=population_with_fitness[population_with_fitness[:,0].argsort()]\n",
    "    population_sorted=population_sorted_[0:population_size]\n",
    "\n",
    "    return population_sorted"
   ]
  },
  {
   "cell_type": "code",
   "execution_count": 12,
   "id": "0b029609",
   "metadata": {},
   "outputs": [],
   "source": [
    "def breed_by_crossover(parent_1, parent_2,crossovers):\n",
    "\n",
    "    chromosome_length = len(parent_1)-1\n",
    "    crossover_points = np.sort(np.random.choice(range(1,chromosome_length),size=crossovers,replace=False))\n",
    "    parents=[parent_1,parent_2]\n",
    "    j=0\n",
    "    k=1\n",
    "    for point in crossover_points:\n",
    "        child1 = np.hstack((parents[0][0:point],parents[k][point:]))\n",
    "        child2 = np.hstack((parents[1][0:point],parents[j][point:]))\n",
    "        parents[0]=child1.copy()\n",
    "        parents[1]=child2.copy()\n",
    "        j,k=k,j\n",
    "    children=np.vstack((parents[0],parents[1]))\n",
    "    \n",
    "    return children"
   ]
  },
  {
   "cell_type": "code",
   "execution_count": 13,
   "id": "4c2d300c",
   "metadata": {},
   "outputs": [],
   "source": [
    "def population_generator(population_sorted,population_size,mutation_rate,crossovers,mutation_per_chromosome):\n",
    "    \n",
    "    quarter_size=int(population_size/4)\n",
    "    selected_index=np.random.permutation(2*quarter_size)\n",
    "    parent_one_list=selected_index[0:quarter_size]\n",
    "    parent_two_list=selected_index[quarter_size:]\n",
    "    population_no_score=np.delete(population_sorted,0,axis=1)\n",
    "    population_for_breeding=population_no_score[:2*quarter_size]\n",
    "\n",
    "    for i in range(quarter_size):\n",
    "        parent_1=population_for_breeding[parent_one_list[i],:]\n",
    "        parent_2=population_for_breeding[parent_two_list[i],:]\n",
    "        children=breed_by_crossover(parent_1, parent_2,crossovers)\n",
    "        population_for_breeding=np.vstack((population_for_breeding,children))\n",
    "\n",
    "    population_for_mutation=population_for_breeding.copy()\n",
    "    population_after_mutation=randomly_mutate_population(population_for_mutation, mutation_rate,mutation_per_chromosome)\n",
    "    population=population_after_mutation.copy()\n",
    "    return population"
   ]
  },
  {
   "cell_type": "code",
   "execution_count": 14,
   "id": "293c0f2f",
   "metadata": {},
   "outputs": [],
   "source": [
    "def randomly_mutate_population(population_for_mutation, mutation_rate,mutation_per_chromosome):\n",
    "    \n",
    "    (people,chromosome_length)=np.shape(population_for_mutation)\n",
    "    keep=1\n",
    "    max_val=np.max(population_for_mutation)\n",
    "    min_val=np.min(population_for_mutation)\n",
    "    muts1=int(mutation_rate*people)\n",
    "    mutation_people=np.random.choice(range(keep,people),size=muts1,replace=False)\n",
    "\n",
    "    for num in mutation_people:\n",
    "        mutant_genes=np.random.choice(range(0,chromosome_length),size=mutation_per_chromosome,replace=False)\n",
    "        for mutant_gene in mutant_genes:\n",
    "            population_for_mutation[num,mutant_gene]=np.random.uniform(min_val, max_val)\n",
    "    population_after_mutation=population_for_mutation.copy()\n",
    "    return population_after_mutation"
   ]
  },
  {
   "cell_type": "code",
   "execution_count": 15,
   "id": "54845c69",
   "metadata": {},
   "outputs": [],
   "source": [
    "def Plot_Error_Per_Generation(best_score_progress):\n",
    "    plt.plot(best_score_progress)\n",
    "    plt.xlabel('Поколение')\n",
    "    plt.ylabel('Ошибка(% от целевого значения)')\n",
    "    plt.grid()\n",
    "    plt.show()"
   ]
  },
  {
   "cell_type": "code",
   "execution_count": 16,
   "id": "ec46ecff",
   "metadata": {},
   "outputs": [],
   "source": [
    "def Result_Plotter(Time,y):\n",
    "    plt.plot(Time, y)\n",
    "    plt.xlabel('Время,сек')\n",
    "    plt.ylabel('Амплитуда')\n",
    "    plt.title('Отклик на ступенчатый вход от PID-регулятора')\n",
    "    plt.grid()"
   ]
  },
  {
   "cell_type": "code",
   "execution_count": 17,
   "id": "cf826110",
   "metadata": {},
   "outputs": [],
   "source": [
    "problem_boundary=[2,4,2]\n",
    "sub_chromosome_length = 10\n",
    "crossovers=5\n",
    "population_size = 100\n",
    "maximum_generation = 100\n",
    "best_score_progress = []\n",
    "parameters=3\n",
    "mutation_rate = 0.5\n",
    "mutation_per_chromosome=5\n",
    "chromosome_length=parameters*sub_chromosome_length\n",
    "\n",
    "population = create_population(population_size, parameters, sub_chromosome_length,problem_boundary)\n",
    "population_with_fitness= calculate_fitness(population,sub_chromosome_length)\n",
    "population_sorted=sort_population(population_with_fitness,population_size)\n",
    "\n",
    "best_score = population_sorted[0,0]\n",
    "best_score_progress.append(best_score)\n",
    "population_with_fitness=[]\n",
    "\n",
    "\n",
    "for generation in range(maximum_generation):\n",
    "    \n",
    "    population=population_generator(population_sorted,population_size,mutation_rate,crossovers,mutation_per_chromosome)\n",
    "    population_checked=boundary_checker(population,parameters,sub_chromosome_length,problem_boundary)\n",
    "    population_with_fitness= calculate_fitness(population_checked,sub_chromosome_length)\n",
    "    population_sorted=sort_population(population_with_fitness,population_size)\n",
    "\n",
    "    best_score = population_sorted[0,0]\n",
    "    best_score_progress.append(best_score)\n",
    "    \n",
    "    Champ=population_sorted[0]\n",
    "    Champ_X,Champ_Y,Champ_Z,Champ_W,Champ_y,Champ_Time=chromosome_to_result(Champ,sub_chromosome_length)\n",
    "    #print(f'Решение в данном поколении {generation}: ', Champ_X,Champ_Y,Champ_Z')\n",
    "    #print('Ошибка: ',Champ_W)\n",
    "    #print('----------------------------------------------------------')\n",
    "\n"
   ]
  },
  {
   "cell_type": "code",
   "execution_count": 18,
   "id": "44145d18",
   "metadata": {},
   "outputs": [
    {
     "data": {
      "image/png": "[encoded data removed]",
      "text/plain": [
       "<Figure size 432x288 with 1 Axes>"
      ]
     },
     "metadata": {
      "needs_background": "light"
     },
     "output_type": "display_data"
    }
   ],
   "source": [
    "Plot_Error_Per_Generation(best_score_progress)"
   ]
  },
  {
   "cell_type": "code",
   "execution_count": 19,
   "id": "b3a563bd",
   "metadata": {},
   "outputs": [
    {
     "data": {
      "image/png": "[encoded data removed]",
      "text/plain": [
       "<Figure size 432x288 with 1 Axes>"
      ]
     },
     "metadata": {
      "needs_background": "light"
     },
     "output_type": "display_data"
    }
   ],
   "source": [
    "TF_gr=Dyn_ST_TF()\n",
    "\n",
    "#1: Kd = -2,Kp = 4,Ki = 2\n",
    "PID_TF_1=PID_TF_Generator(-2,4,2)\n",
    "Time_1,y_1=PID_Response(PID_TF_1,TF_gr)\n",
    "\n",
    "#2: Kd = 10,Kp = -2,Ki = 5\n",
    "PID_TF_2=PID_TF_Generator(10,-2,10)\n",
    "Time_2,y_2=PID_Response(PID_TF_2,TF_gr)\n",
    "\n",
    "\n",
    "plt.plot(Time_1,y_1,label ='Kd = 2,Kp = 5,Ki = 2')\n",
    "plt.plot(Time_2,y_2,label ='Kd = 10,Kp = -2,Ki = 5')\n",
    "plt.plot(Champ_Time,Champ_y, label = 'Optimal settings')\n",
    "\n",
    "plt.xlabel('Время,сек')\n",
    "plt.ylabel('Амплитуда')\n",
    "plt.title('Отклик на ступенчатый вход от PID-регулятора')\n",
    "plt.grid()\n",
    "\n",
    "plt.legend()\n",
    "plt.show()"
   ]
  },
  {
   "cell_type": "code",
   "execution_count": 20,
   "id": "96ca0dc0",
   "metadata": {},
   "outputs": [
    {
     "name": "stdout",
     "output_type": "stream",
     "text": [
      "Оптимальные настройки PID-регулятора:\n",
      "Kd =  -1.60565\n",
      "Kp =  1.21619\n",
      "Ki =  1.998\n"
     ]
    }
   ],
   "source": [
    "Kd = Champ_X\n",
    "Kp = Champ_Y\n",
    "Ki = Champ_Z\n",
    "print('Оптимальные настройки PID-регулятора:')\n",
    "print('Kd = ',round(Kd,5))\n",
    "print('Kp = ',round(Kp,5))\n",
    "print('Ki = ',round(Ki,5))"
   ]
  }
 ],
 "metadata": {
  "kernelspec": {
   "display_name": "Python 3",
   "language": "python",
   "name": "python3"
  },
  "language_info": {
   "codemirror_mode": {
    "name": "ipython",
    "version": 3
   },
   "file_extension": ".py",
   "mimetype": "text/x-python",
   "name": "python",
   "nbconvert_exporter": "python",
   "pygments_lexer": "ipython3",
   "version": "3.8.8"
  }
 },
 "nbformat": 4,
 "nbformat_minor": 5
}
