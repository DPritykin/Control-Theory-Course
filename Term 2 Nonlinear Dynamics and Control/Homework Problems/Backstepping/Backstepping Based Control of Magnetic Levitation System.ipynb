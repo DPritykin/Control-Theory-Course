{
 "cells": [
  {
   "cell_type": "markdown",
   "id": "19e4d752",
   "metadata": {},
   "source": [
    "## Управление системой магнитной левитации на основе бэкстеппинга\n",
    "\n",
    "### Тимофеев Сергей Б03-909"
   ]
  },
  {
   "cell_type": "markdown",
   "id": "b208ff23",
   "metadata": {},
   "source": [
    "#### Постановка задачи"
   ]
  },
  {
   "cell_type": "markdown",
   "id": "8f10ac91",
   "metadata": {},
   "source": [
    "Рассматривается модель магнитной левитации металлического шарика движение которого описывается уравнениеми\n",
    "$$ m \\ddot{h} = - k\\dot{h} + mg - F(h, i),$$\n",
    "где сила $F(h, i)$ задается формулой:\n",
    "$$ F(h, i) = \\frac{a L_0 i^2}{2(a+h)^2}$$\n",
    "При этом управляющее напряжние связывается с силой тока с помощью законов Кирхгоффа для электромагнита:\n",
    "$$ u = L \\dot{i} + Ri$$\n",
    "В данных уравнениях использованы следующие обозначения:\\\n",
    "$m$ - масса шарика, кг\\\n",
    "$k$ - вязкость воздуха\\\n",
    "$h$ - вертикальная координата шарика в установке, м\\\n",
    "$g$ - ускорение свободного падения, кг/м3\\\n",
    "$a$ - диаметр шарика, м\\\n",
    "$i$ - сила тока на обмотках картушки, А\\\n",
    "$L_0$ - амплитуда силового воздействия, Н\\\n",
    "$L, R$ - константы, описывающие электромагнит\\\n",
    "$u$ - управляющее воздействие (напряжение на обмотках), В"
   ]
  },
  {
   "attachments": {
    "image-3.png": {
     "image/png": "[encoded data removed]"
    }
   },
   "cell_type": "markdown",
   "id": "e3eaa6c0",
   "metadata": {},
   "source": [
    "Примерная схема установки:\n",
    "![image-3.png](attachment:image-3.png)\n",
    "\n",
    "Рассматривается задача стабилизации левитирующего шарика вокруг нулевого положения равновесия."
   ]
  },
  {
   "cell_type": "markdown",
   "id": "6af59c0c",
   "metadata": {},
   "source": [
    "#### Уравнения динамики системы"
   ]
  },
  {
   "cell_type": "markdown",
   "id": "5458bea1",
   "metadata": {},
   "source": [
    "Определим набор переменных состояния системы: \\\n",
    "$x_1 = h$,  $x_2 = \\dot{h}$, $x_3 = i^2$\\\n",
    "Для них перепишем дифференциальные уравнения:\n",
    "$$\\begin{equation*}\n",
    " \\begin{cases}\n",
    "   \\dot{x_1} = x_2\n",
    "   \\\\\n",
    "   \\dot{x_2} = -\\frac{k}{m} x_1 + g - \\frac{a L_0}{2m(a+x_1)^2}x_3\n",
    "   \\\\\n",
    "   \\dot{x_3} = - \\frac{2R}{L} \\sqrt{x_3} + u\\sqrt{x_3}\n",
    " \\end{cases}\n",
    "\\end{equation*}$$"
   ]
  },
  {
   "cell_type": "markdown",
   "id": "e244c8a2",
   "metadata": {},
   "source": [
    "Для удобства определим новую переменную:\n",
    "$$ x_4 = \\frac{a L_0}{2m(a+x_1)^2}x_3$$"
   ]
  },
  {
   "cell_type": "markdown",
   "id": "ce8c1137",
   "metadata": {},
   "source": [
    "С учетом этого обозначения новый набор фазовых переменных системы будет иметь вид:\n",
    "$$ (x_1, x_2, x_3) \\rightarrow (x_1, x_2, x_4) \\rightarrow (\\xi_1, \\xi_2, \\xi_3)$$"
   ]
  },
  {
   "cell_type": "markdown",
   "id": "82bc0395",
   "metadata": {},
   "source": [
    "Тогда для этого набора переменных система дифференциальных уравнений пример вид:\n",
    "$$\\begin{equation}\n",
    " \\tag{1}\n",
    " \\begin{cases}\n",
    "   \\dot{\\xi_1} = \\xi_2\n",
    "   \\\\\n",
    "   \\dot{\\xi_2} = -\\xi_3 + g - \\frac{k}{m} \\xi_1\n",
    "   \\\\\n",
    "   \\dot{\\xi_3} = -b \\frac{\\sqrt{\\xi_3}}{a + \\xi_1} + c \\frac{\\sqrt{\\xi_3}}{a + \\xi_1} u - \\frac{2\\xi_2\\xi_3}{a + \\xi_1},\n",
    " \\end{cases}\n",
    "\\end{equation}$$"
   ]
  },
  {
   "cell_type": "markdown",
   "id": "95412a8b",
   "metadata": {},
   "source": [
    "где постоянные коэффициенты:\n",
    "$$b = \\sqrt{\\frac{a L_0}{2m}} \\frac{2R}{L}$$\n",
    "$$c = \\sqrt{\\frac{a L_0}{2m}} \\frac{1}{L}$$"
   ]
  },
  {
   "cell_type": "markdown",
   "id": "fd014aed",
   "metadata": {},
   "source": [
    "#### Схема бэкстепинга"
   ]
  },
  {
   "cell_type": "markdown",
   "id": "b7d96fc3",
   "metadata": {},
   "source": [
    "Необходимо заменой переменных привести систему к виду (2): \n",
    "$$\\begin{equation}\n",
    "\\tag{2}\n",
    "            \\begin{cases}\n",
    "           \\dot{\\eta} = f_0(\\eta) + g_0(\\eta)\\zeta_1, \\\\\n",
    "           \\dot{\\zeta}_1 = f_1(\\eta, \\zeta_1) + g_1(\\eta,\\zeta_1)\\zeta_2,\\\\\n",
    "           \\dot{\\zeta}_2 = f_2(\\eta, \\zeta_1, \\zeta_2) + g_2(\\eta, \\zeta_1, \\zeta_2)\\zeta_3,\\\\\n",
    "           \\vdots \\\\\n",
    "           \\dot{\\zeta}_{n-m} = f_{n-m}(\\eta, \\zeta_1,..., \\zeta_{n-m}) + g_{n-m}(\\eta, \\zeta_1,..., \\zeta_{n-m})u\n",
    "           \\end{cases}\n",
    "    \\end{equation}$$"
   ]
  },
  {
   "cell_type": "markdown",
   "id": "a0ae304f",
   "metadata": {},
   "source": [
    "Пошагово рассмотрим схему бэкстеппинга:"
   ]
  },
  {
   "cell_type": "markdown",
   "id": "6282bb8f",
   "metadata": {},
   "source": [
    "1. Для начала рассмотрим первое уравнение (подсистему) системы (1) относительно $\\eta$. Применим обозначения системы (2). Тогда $\\eta$ = $\\xi_1$. В качестве управления возьмем переменную $\\xi_2$. Синтезируем закон управления в виде $\\xi_2 = \\varphi_0(\\eta) = -C_1 \\eta$, $ \\varphi_0(0)= 0$.\\\n",
    "Таким образом нулевое решение системы\n",
    "$$ \\dot{\\eta} = \\varphi_0(\\eta)$$\n",
    "асимтотически устойчиво.\\\n",
    "Попутно выберем соответствующую положительно определенную функцию Ляпунова:\n",
    "$$ V_0 = \\frac{1}{2} \\eta^2$$ \n",
    "с производной:\n",
    "$$ W_0 = \\dot{V_0} = \\frac{\\partial V_0}{\\partial \\eta} \\dot{\\eta} = \\eta \\xi_2 = -С_1 \\eta ^ 2 < 0$$\n",
    "При этом в качестве следующей переменной системы рассмотрим отклонение второй фазовой переменной \\\n",
    "($C_1$ - некоторая положительная константа): $$ \\zeta_1 = \\xi_2 - \\varphi_0 = \\xi_2  + C_1 \\eta$$"
   ]
  },
  {
   "cell_type": "markdown",
   "id": "9d287a73",
   "metadata": {},
   "source": [
    "2. Рассмотрим вторую подсистему системы (1) относительно $\\zeta_1$ с управлением из $\\xi_3$.\\\n",
    "Для начала продифференцируем $\\zeta_1$ и получим для него уравнение.\n",
    "$$ \\dot{\\zeta_1} = \\dot{\\xi_2} - \\dot{\\varphi_0} = -\\xi_3 + g - \\frac{k}{m} \\xi_1 + C_1(\\zeta_1 - C_1 \\eta)$$\n",
    "Тогда синтезируем управляющее воздействие для $\\xi_3$\\\n",
    "($C_2$ - некоторая положительная константа):\n",
    "$$ \\xi_3 = \\varphi_1 = C_2 \\zeta_1 + C_1 \\zeta_1 - C_1^2 \\eta + \\eta - \\frac{k}{m} \\eta = (C_1 + C_2) \\zeta_1 + g + (1 - C_1^2 - \\frac{k}{m})\\eta$$\\\n",
    "Аналогично первому шагу выберем функцию Ляпунова:\n",
    "$$ V_1 = 0.5 \\zeta_1 ^2 $$\n",
    "и соответсвующая производная функции Ляпунова:\n",
    "$$ W_1 = \\dot{V_1} = \\zeta_1 \\dot{\\zeta_1} = \\zeta_1 (-\\xi_3 + g + C_1 \\zeta _1  - C_1^2 \\eta - \\frac{k}{m} \\eta) = -С_2 \\zeta_1^2 < 0$$\n",
    "При этом в качестве следующей переменной системы выберем так же отклонение уже третьей фазовой переменной: $$ \\zeta_2 = \\xi_3 - \\varphi_1$$"
   ]
  },
  {
   "cell_type": "markdown",
   "id": "3cfd8e43",
   "metadata": {},
   "source": [
    "3. На последнем шаге алгоритма поступим аналогично предыдущим действиям. \n",
    "Для начала определим производную по времени от третьей переменной системы (2):\n",
    "$$ \\dot{\\zeta_2} = \\frac{b}{a + \\eta}\\sqrt{\\xi_3} - \\frac{2}{a + \\eta} \\xi_2 \\xi_3 + \\frac{c}{a + \\eta}\\sqrt{\\xi_3} u - (1 - C_1^2 - \\frac{k}{m})(\\zeta_1 - C_1 \\eta) - (C_2 +C_1) (-\\zeta_2 - (C_1 + C_2)\\zeta_1 + (C_1^2 -1) \\eta + g)$$\\\n",
    "Рассмотрим аналогичную предыдущим функцию Ляпунова:\n",
    "$$ V_2 = 0.5 \\zeta_2 ^2 $$\n",
    "Тогда ее производная:\n",
    "$$ W_2 = \\dot{V_2} = \\zeta_2 (\\frac{c}{a + \\eta} \\sqrt{\\xi_3} u - \\frac{b}{a + \\eta} \\sqrt{\\xi_3} - \\frac{2\\xi_2 \\xi_3}{a + \\eta} - (1 - C_1^2 - \\frac{k}{m})(\\zeta_1 - C_1 \\eta) - (C_2 +C_1) (-\\xi_3 + g - \\frac{k}{m} \\xi_1) = -C_3 \\zeta_2^2 < 0$$\\\n",
    "Управление $u$ определим непосредственно из условия отрицательности произвольной функции Ляпунова. Тогда получим выражение для закона управления:\n",
    "$$ u = \\frac{a + \\eta}{c \\sqrt{\\xi_3}}(-C_3 \\zeta_2 + \\frac{b}{a + \\eta} \\sqrt{\\xi_3} + \\frac{2\\xi_2 \\xi_3}{a + \\eta} + (1 - C_1^2 - \\frac{k}{m})(\\zeta_1 - C_1 \\eta) + (C_2 + C_1) (-\\xi_3 + g - \\frac{k}{m}\\xi_1)),$$\\\n",
    "где $C_3$ - некоторая положительная константа."
   ]
  },
  {
   "cell_type": "markdown",
   "id": "3a44b252",
   "metadata": {},
   "source": [
    "При этом полная система (1) будет устойчивой по теореме Ляпунова:\n",
    "$$ V = 0.5(V_0 + V_1 + V_2) = 0.5(\\eta^2 + \\zeta_1^2 + \\zeta_2^2) >= 0$$\\\n",
    "$$ W = \\dot{V} = -(C_1\\eta^2 + C_2\\zeta_1^2 + C_3\\zeta_2^2) <= 0$$"
   ]
  },
  {
   "cell_type": "code",
   "execution_count": 6,
   "id": "1626522b",
   "metadata": {},
   "outputs": [],
   "source": [
    "import numpy as np\n",
    "import scipy.integrate as sci\n",
    "import matplotlib.pyplot as plt"
   ]
  },
  {
   "cell_type": "code",
   "execution_count": 7,
   "id": "8d0c63a7",
   "metadata": {},
   "outputs": [],
   "source": [
    "class Parameters(object):\n",
    "    pass\n",
    "\n",
    "params = Parameters()\n",
    "params.m = 0.1       \n",
    "params.g = 9.81       \n",
    "params.a = 0.05        \n",
    "params.L0 = 0.01      \n",
    "params.L = 0.03 \n",
    "\n",
    "params.R = 11      \n",
    "params.k = 0.1\n",
    "\n",
    "params.C1 = 2\n",
    "params.C2 = 2\n",
    "params.C3 = 3\n"
   ]
  },
  {
   "cell_type": "code",
   "execution_count": 8,
   "id": "08470c0f",
   "metadata": {},
   "outputs": [],
   "source": [
    "# Задание уравнений\n",
    "\n",
    "def control_backstep(z, c, b, eps1, eps2, eps3): \n",
    "    u = (params.a + z[0]) / (c * np.sqrt(eps3)) * (-params.C3 * z[2] + b * np.sqrt(eps3) / (params.a + z[0]) + \\\n",
    "        2 * eps2 * eps3 / (params.a + z[0]) + (1 - params.C1 ** 2 - params.k / params.m) * (z[1] - params.C1 * z[0]) + \\\n",
    "        (params.C1 + params.C2) * (-z[2] - (params.C1 + params.C2) * z[1] + (params.C1**2 - 1)*z[0] + params.g))   \n",
    "    return u\n",
    "\n",
    "def rhs_backstep(t, z):\n",
    "    dzdt = np.zeros(3)\n",
    "\n",
    "    eps1 = z[0]\n",
    "    eps2 = z[1] - params.C1 * z[0] \n",
    "    eps3 = z[2] + ((params.C1 + params.C2) * z[1] + params.g + (-params.C1 ** 2 + 1 - params.k/params.m) * z[0])\n",
    "\n",
    "    c = np.sqrt(params.a * params.L0 / (2 * params.m)) * 2 * params.R / params.L\n",
    "    b = np.sqrt(params.a * params.L0 / (2 * params.m)) * 1 / params.L\n",
    "   \n",
    "    u = control_backstep(z, c, b, eps1, eps2, eps3)\n",
    "    noise = 0;\n",
    "    \n",
    "    dzdt[0] = eps2\n",
    "    dzdt[1] = -eps3 + params.g - params.k / params.m * eps1 + params.C1 * (z[1] - params.C1 * z[0])\n",
    "    dzdt[2] = -b / (params.a + z[0]) * np.sqrt(eps3) - 2 / (params.a + z[0]) * eps2 * eps3 + \\\n",
    "              c / (params.a + z[0]) * np.sqrt(eps3) * u - (1 - params.C1 ** 2 - params.k / params.m) * (z[1] - params.C1 * z[0]) + \\\n",
    "              noise - (params.C2 + params.C1) * (-z[2] - (params.C1 + params.C2) * z[1] + (params.C1 ** 2 - 1) * z[0] + params.g) \n",
    "    \n",
    "    return dzdt"
   ]
  },
  {
   "cell_type": "code",
   "execution_count": 9,
   "id": "06b1b4eb",
   "metadata": {
    "scrolled": true
   },
   "outputs": [],
   "source": [
    "#Интегрирование\n",
    "\n",
    "t0, tf, dt = 0, 3, 0.01\n",
    "t_sol = np.arange(t0, tf, dt)\n",
    "\n",
    "z0 = [1, -1, 1]\n",
    "\n",
    "sol = sci.solve_ivp(rhs_backstep, (t0, tf), z0, t_eval = t_sol)\n",
    "\n",
    "x_sol = sol.y.T"
   ]
  },
  {
   "cell_type": "code",
   "execution_count": 10,
   "id": "14a92e5f",
   "metadata": {},
   "outputs": [
    {
     "data": {
      "image/png": "[encoded data removed]",
      "text/plain": [
       "<Figure size 720x504 with 1 Axes>"
      ]
     },
     "metadata": {
      "needs_background": "light"
     },
     "output_type": "display_data"
    }
   ],
   "source": [
    "# Визуализация\n",
    "\n",
    "Title = 'Значения фазовых переменных при начальных условиях ' + str(z0)\n",
    "\n",
    "plt.figure(figsize=(10,7))\n",
    "plt.plot(t_sol, x_sol[:, 0])\n",
    "plt.plot(t_sol, x_sol[:, 1])\n",
    "plt.plot(t_sol, x_sol[:, 2])\n",
    "plt.title(Title)\n",
    "plt.legend(['$\\eta$', '$\\zeta_1$', '$\\zeta_2$'])\n",
    "plt.ylabel('Значения фазовых переменных: $\\eta$, $\\zeta_1$,$\\zeta_2$')\n",
    "plt.xlabel('t, сек.')\n",
    "plt.grid()"
   ]
  },
  {
   "cell_type": "markdown",
   "id": "9138f954",
   "metadata": {},
   "source": [
    "#### Источники:\n",
    "1. Zhou, Wei & Liu, Baobin. (2013). Backstepping Based Adaptive Control of Magnetic Levitation System. Applied Mechanics and Materials. 341-342. 10.2991/icsem.2013.83. $\\textbf{(опорная статья)}$\n",
    "2. Fatemimoghadam, Armita & Toshani, Hamid & Manthouri, Mohammad. (2020). Control of magnetic levitation system using recurrent neural network-based adaptive optimal backstepping strategy. Transactions of the Institute of Measurement and Control. 42. 014233122091182. 10.1177/0142331220911821.\n",
    "3. Dalwadi, Nihal & Deb, Dipankar & Muyeen, S M. (2021). A Reference Model Assisted Adaptive Control Structure for Maglev Transportation System. Electronics. 10. 332. 10.3390/electronics10030332. "
   ]
  }
 ],
 "metadata": {
  "kernelspec": {
   "display_name": "Python 3",
   "language": "python",
   "name": "python3"
  },
  "language_info": {
   "codemirror_mode": {
    "name": "ipython",
    "version": 3
   },
   "file_extension": ".py",
   "mimetype": "text/x-python",
   "name": "python",
   "nbconvert_exporter": "python",
   "pygments_lexer": "ipython3",
   "version": "3.8.8"
  }
 },
 "nbformat": 4,
 "nbformat_minor": 5
}
