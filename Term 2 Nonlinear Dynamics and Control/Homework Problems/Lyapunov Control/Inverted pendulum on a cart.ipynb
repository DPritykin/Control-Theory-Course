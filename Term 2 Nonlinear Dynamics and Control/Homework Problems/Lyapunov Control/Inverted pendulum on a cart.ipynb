{
 "cells": [
  {
   "cell_type": "markdown",
   "id": "cf59441e",
   "metadata": {},
   "source": [
    "# Управление обращенным маятником на тележке\n",
    "\n",
    "## Петрова Дарья (Б03-908)\n",
    "\n",
    "## Постановка задачи\n",
    "Рассмотреть эталонную систему **Inverted Pendulum on a Cart (IPCS)**. Использовать метод функций Ляпунова для управления системой и анализа ее устойчивости.\n",
    "$$ $$\n",
    "Параметры системы:\n",
    "$$ m = 0.21, \\qquad M = 0.815,\\qquad g = 9.8, \\qquad l=0.305. $$\n",
    "\n",
    "Система имеет 4 переменных состояния: $ [x,\\dot{x}, \\theta, \\dot{\\theta}] $ и один выходной параметр $  u $.\n",
    "\n",
    "Уравнения движения системы после линеаризации:\n",
    "\n",
    "$\n",
    "\\left[\n",
    "  \\begin{array}{ccc}\n",
    "     \\ddot{x}  \\\\\n",
    "     \\ddot{\\theta}  \\\\\n",
    "  \\end{array}\n",
    "\\right] \n",
    "=\n",
    "\\left[\n",
    "  \\begin{array}{ccc}\n",
    "     4u + \\frac{4(M+m)gtan(\\theta)-3mgsin(\\theta)cos(\\theta)}{4(M+m)-3mcos(\\theta)^2} \\\\\n",
    "     \\frac{-3ucos(\\theta)}{l}  \\\\\n",
    "  \\end{array}\n",
    "\\right]\n",
    "$\n",
    "\n",
    "Ограничения: $$ S: [-1,1]^4, U: [-20, 20], I: \\cal{B_{0.1}}(x) , T: \\cal{B_{0.1}}(x) $$\n",
    "\n",
    "Функция Ляпунова:\n",
    "$$ V = + 11.64\\dot{\\theta}^2 + 45.93\\dot{\\theta}\\theta + 85.47\\theta^2 + 12.15x\\dot{\\theta} + 36.57x\\theta + 6.44x^2 + 15.07\\dot{\\theta}\\dot{x} + 33.06\\dot{x}\\theta + 8.98\\dot{x}x + 6.09x^2 $$\n",
    "\n",
    "Источник: Hadi Ravanbakhsh and Sriram Sankaranarayanan, Learning Lyapunov (Potential) Functions from Counterexamples and Demonstrations [1]"
   ]
  },
  {
   "cell_type": "markdown",
   "id": "a53658f6",
   "metadata": {},
   "source": [
    "# Решение"
   ]
  },
  {
   "cell_type": "code",
   "execution_count": 30,
   "id": "1230b887",
   "metadata": {},
   "outputs": [],
   "source": [
    "import math\n",
    "import sympy\n",
    "from sympy.solvers import solve\n",
    "from sympy import *\n",
    "import numpy as np\n",
    "import matplotlib.pyplot as plt\n",
    "from scipy.integrate import solve_ivp "
   ]
  },
  {
   "cell_type": "markdown",
   "id": "43e030ea",
   "metadata": {},
   "source": [
    "## Параметры системы"
   ]
  },
  {
   "cell_type": "code",
   "execution_count": 31,
   "id": "eb7115fd",
   "metadata": {},
   "outputs": [],
   "source": [
    "#Параметры системы\n",
    "m = 0.21\n",
    "M = 0.815\n",
    "g = 9.8\n",
    "l = 0.305"
   ]
  },
  {
   "cell_type": "markdown",
   "id": "cfb149e2",
   "metadata": {},
   "source": [
    "## Начальные условия"
   ]
  },
  {
   "cell_type": "code",
   "execution_count": 32,
   "id": "61328a24",
   "metadata": {},
   "outputs": [
    {
     "name": "stdout",
     "output_type": "stream",
     "text": [
      "[0.5 1.  0.  0. ]\n"
     ]
    }
   ],
   "source": [
    "#Задаем начальные условия\n",
    "x0 = np.empty(4)\n",
    "x0[0] = 0.5\n",
    "x0[1] = 1\n",
    "x0[2] = 0\n",
    "x0[3] = 0\n",
    "print(x0)"
   ]
  },
  {
   "cell_type": "markdown",
   "id": "3e2d6314",
   "metadata": {},
   "source": [
    "## Теорема Ляпунова\n",
    "Рассмотрим систему\n",
    "$$\\dot{x} = f(x)$$\n",
    "\n",
    "и её равновесие $x = 0$.\n",
    "\n",
    "Пусть существует функция  $V(x,t)$ такая что\n",
    "$$\\left\\{ \\tag{1}\n",
    "\\begin{array}\\\\\n",
    "V(x) > 0, \\qquad x >0 \\\\\n",
    "V(x) = 0, \\qquad x = 0\n",
    "\\end{array}\n",
    "\\right.$$\n",
    "\n",
    "Рассмотрим её производную по времени в силу уравнений движения ($\\dot{x}$ будем заменять на $f(x)$)\n",
    "$$\\dot{V}(x) = \\sum_{i} \\frac{\\partial V}{\\partial x}\\cdot \\dot{x} = \\sum_{i} \\frac{\\partial V}{\\partial x}\\cdot f(x) = \\nabla{V} \\cdot f(x)$$\n",
    "\n",
    "Потребовав \n",
    "\n",
    "$$\\nabla{V} \\cdot f(x) < 0 \\tag{2}$$ \n",
    "\n",
    "мы обеспечим сходимость траекторий к нулю.\n",
    "\n",
    "Таким образом, существование функции $V(x)$, удовлетворяющей условиям (1) и (2) гарантирует асимптотическую устойчивость нулевого равновесия системы. Функция $V(x)$ в этом случае называется функцией Ляпунова.\n"
   ]
  },
  {
   "cell_type": "markdown",
   "id": "c8597363",
   "metadata": {},
   "source": [
    "## Система перевернутого маятника на тележке\n",
    "![model](./1.png)\n",
    "Устройство состоит из шеста, точка поворота которого установлена на тележке. Маятник может свободно вращаться вокруг своей\n",
    "точки поворота. Тележка может перемещаться горизонтально перпендикулярно маятнику оси и приводится в действие горизонтальной силой. Цель управления состоит в том, чтобы стабилизировать механизм вокруг точки неустойчивого равновесия путем приложения силы к тележке. Закон управления основан на подходе Ляпунова в сочетании с подходящей линеаризацией с частичной обратной связью для IPCS."
   ]
  },
  {
   "cell_type": "markdown",
   "id": "7aea05be",
   "metadata": {},
   "source": [
    "Применение 2-ой закона Ньютона позволило описать данную систему следующими уравнениями движения:\n",
    "$$ (M+m)\\ddot{x}\\ +\\ mlcos\\theta\\ddot{\\theta}\\ -\\ mlsin\\theta\\dot{\\theta}^2 = f $$\n",
    "$$ ml cos\\theta\\ddot{x} + ml^2\\ddot{\\theta} - mgl sin\\theta = 0 $$\n",
    "\n",
    "$x : смещение \\ тележки\\ [м]; $ \n",
    "\n",
    "$\\theta : угол,\\ который\\ образует\\ маятник\\ с\\ вертикалью\\ [rad]; $\n",
    "\n",
    "$f  : сила,\\ приложенная\\ к\\ тележке,\\ действующая\\ как\\ управляющий\\ вход\\ [Н]; $\n",
    "\n",
    "$m  : масса\\ тележки\\ [кг]; $\n",
    "\n",
    "$M  :  масса\\ маятника\\ [кг]; $\n",
    "\n",
    "$l : длина\\ маятника\\ [м]; $\n",
    "\n",
    "$g : ускорение\\ свободного\\ падения\\ [м/с^2]; $"
   ]
  },
  {
   "cell_type": "markdown",
   "id": "f696255a",
   "metadata": {},
   "source": [
    "Переобозначим переменные, используемые в исходных уравнениях движения, следующим образом:\n",
    "\n",
    "$$ \\boldsymbol{x}  = (x, \\theta, \\dot{x}, \\dot{\\theta})^T = (x_1, x_2, x_3, x_4)^T$$\n",
    "\n",
    "Тогда уравнения движения:\n",
    "$ \\boldsymbol{\\dot{x}} = \n",
    "\\left[\n",
    "  \\begin{array}{ccc}\n",
    "     \\dot{x_1}  \\\\\n",
    "     \\dot{x_2}  \\\\\n",
    "     \\dot{x_3} \\\\\n",
    "     \\dot{x_4} \\\\\n",
    "  \\end{array}\n",
    "\\right] \n",
    "=\n",
    "\\left[\n",
    "  \\begin{array}{ccc}\n",
    "     x3 \\\\\n",
    "     x4 \\\\\n",
    "     4u + \\frac{4(M+m)gtan(x_2)-3mgsin(x_2)cos(x_2)}{4(M+m)-3mcos(x_2)^2} \\\\\n",
    "     \\frac{-3ucos(x_2)}{l}  \\\\\n",
    "  \\end{array}\n",
    "\\right]\n",
    "$\n",
    "\n",
    "Функция Ляпунова в новых обозначениях:\n",
    "$$ V = + 11.64x_4^2 + 45.93x_4x_2 + 85.47x_2^2 + 12.15x_1x_4 + 36.57x_1x_2 + 6.44x_1^2 + 15.07x_4x_3 + 33.06x_3x_2 + 8.98x_3x_1 + 6.09x_1^2 $$"
   ]
  },
  {
   "cell_type": "markdown",
   "id": "46665d4a",
   "metadata": {},
   "source": [
    "При дальнейших расчетах было обнаружено, что в статье [1] допущена опечатка при записи функции Ляпунова.\n",
    "Поэтому функция Ляпунова на самом деле имеет следующий вид:\n",
    "$$ V = + 11.64\\dot{\\theta}^2 + 45.93\\dot{\\theta}\\theta + 85.47\\theta^2 + 12.15x\\dot{\\theta} + 36.57x\\theta + 6.44x^2 + 15.07\\dot{\\theta}\\dot{x} + 33.06\\dot{x}\\theta + 8.98\\dot{x}x + 6.09\\theta^2 $$\n",
    "\n",
    "И соответсвенно, в новых обозначениях\n",
    "\n",
    "$$ V = + 11.64x_4^2 + 45.93x_4x_2 + 85.47x_2^2 + 12.15x_1x_4 + 36.57x_1x_2 + 6.44x_1^2 + 15.07x_4x_3 + 33.06x_3x_2 + 8.98x_3x_1 + 6.09x_3^2 $$"
   ]
  },
  {
   "cell_type": "markdown",
   "id": "12d82276",
   "metadata": {},
   "source": [
    "Проверим, что функция Ляпунова удовлетворяет условиям теоремы Ляпунова:\n",
    "$$ \\qquad\\qquad\\qquad\\qquad  V(0) = 0; \\qquad (1) $$\n",
    "$$ (\\forall{x} \\in{S}\\setminus\\{0\\}) \\qquad V(x) > 0;\\qquad(2) $$\n",
    "$$ (\\forall{x} \\in{S}\\setminus\\{0\\}, \\exists{u}\\in{U})  \\qquad \\nabla{V}\\cdot{f(x, u)} < 0; \\qquad (3) $$\n",
    "\n",
    "$$1)  V(0) = V(0,0,0,0) = 0  - условие\\ 1\\ выполняется. $$\n",
    "$$ $$\n",
    "$$2) Нужно\\ проверить,\\ что\\ V(x)\\ является\\ положительно\\ определенным\\ многочленом\\ для\\ x\\in{S}.\\ Согласно\\ статье\\ [1],\\ это\\ сводится\\ к\\qquad проверке\\ следующего\\ условия:\\ $$\n",
    "$$ (\\exists{x} \\in{S}\\setminus\\{0\\}) \\qquad V(x) \\leq{0}; $$\n",
    "$$ Пусть\\ x_0=(0,0,-1,1)^T.\\ Тогда\\ V(x_0)=11.64-15.07=-3.43 \\leq{0} - условие\\ 2\\ выполняется. $$\n",
    "$$ $$\n",
    "$$ 3)Проверка\\ третьего\\ условия\\ сводится\\ к\\ поиску\\ такой\\ функции\\ управления\\  u(x),\\ при\\ которой\\ \\boldsymbol{\\dot{V}}\\ <\\ 0\\ (\\forall{x} \\in{S}\\setminus\\{0\\}). $$"
   ]
  },
  {
   "cell_type": "markdown",
   "id": "9f0bb839",
   "metadata": {},
   "source": [
    "Тригонометрические и рациональные функции аппроксимируем с помощью разложения в ряд Маклонена полиномами 3-ей степени."
   ]
  },
  {
   "cell_type": "code",
   "execution_count": 33,
   "id": "b75c3cc7",
   "metadata": {},
   "outputs": [],
   "source": [
    "# Аппроксимируем функции\n",
    "\n",
    "def tg_appr(x):\n",
    "    return x + x**3/3\n",
    "\n",
    "def sin_appr(x):\n",
    "    return x - x**3/math.factorial(3)\n",
    "\n",
    "def cos_appr(x):\n",
    "    return 1 - x**2/math.factorial(2)\n",
    "\n",
    "def sin_cos_appr(x):\n",
    "    return x - x**3/math.factorial(2) - x**3/math.factorial(3)"
   ]
  },
  {
   "cell_type": "code",
   "execution_count": 34,
   "id": "f5789a37",
   "metadata": {},
   "outputs": [],
   "source": [
    "#Перепишем выражения в правой части уравнений с учетом аппроксимации\n",
    "\n",
    "def a(x, u):\n",
    "    return 4*u + (4*(M+m)*g*tg_appr(x) - 3*m*g*sin_cos_appr(x))/(4*(M+m)-3*m*cos_appr(x)**2)\n",
    "\n",
    "def b(x, u):\n",
    "    return (-3*u*cos_appr(x))/l"
   ]
  },
  {
   "cell_type": "markdown",
   "id": "7865f494",
   "metadata": {},
   "source": [
    "Ищем производную заданной функции Ляпунова. Используем уравнения движения."
   ]
  },
  {
   "cell_type": "code",
   "execution_count": 35,
   "id": "90051ac8",
   "metadata": {},
   "outputs": [
    {
     "name": "stdout",
     "output_type": "stream",
     "text": [
      "-9.83606557377049*u*(1 - x2**2/2)*(12.15*x1 + 45.93*x2 + 15.07*x3 + 23.28*x4) + x3*(12.88*x1 + 36.57*x2 + 8.98*x3 + 12.15*x4) + x4*(36.57*x1 + 170.94*x2 + 33.06*x3 + 45.93*x4) + (4*u + (17.5093333333333*x2**3 + 34.006*x2)/(4.1 - 0.63*(1 - x2**2/2)**2))*(8.98*x1 + 33.06*x2 + 12.18*x3 + 15.07*x4)\n"
     ]
    }
   ],
   "source": [
    "x1, x2, x3, x4, u = symbols('x1 x2 x3 x4 u')\n",
    "\n",
    "#Функция Ляпунова. В статье опечатка - последнее слагаемое неправильно\n",
    "V = 11.64*x4*x4 + 45.93*x2*x4 + 85.47*x2*x2 + 12.15*x1*x4 + 36.57*x1*x2 + 6.44*x1*x1 + 15.07*x3*x4 + 33.06*x2*x3 + 8.98*x1*x3 + 6.09*x3*x3\n",
    "#Производная функции Ляпунова\n",
    "deriv_v = diff(V, x1)*x3 + diff(V, x2)*x4 + diff(V, x3)*a(x2, u) + diff(V, x4)*b(x2, u)\n",
    "\n",
    "print(deriv_v)\n",
    "derive_v_lambdify = lambdify([x1, x2, x3, x4, u], deriv_v)\n",
    "#Производная функции Ляпунова в начальный момент\n",
    "#print(derive_v_lambdify(x0[0], x0[1], x0[2], x0[3])) "
   ]
  },
  {
   "cell_type": "markdown",
   "id": "5952bf1c",
   "metadata": {},
   "source": [
    "Находим такую функцию управления $ u(x),$ при которой $ \\boldsymbol{\\dot{V}}\\ <\\ 0\\ (\\forall{x} \\in{S}\\setminus\\{0\\}). $ Пусть $ \\dot{V} = -x_1^2 - x_2^2 - x_3^2 - x_4^2< 0 $ при $(x_1, x_2, x_3, x_4) \\neq (0,0,0,0)$."
   ]
  },
  {
   "cell_type": "code",
   "execution_count": 36,
   "id": "856d0885",
   "metadata": {},
   "outputs": [
    {
     "name": "stdout",
     "output_type": "stream",
     "text": [
      "[6.1e-10*(-157500000000000.0*x1**2*x2**4 + 630000000000000.0*x1**2*x2**2 + 3.47e+15*x1**2 - 2.0286e+15*x1*x2**4*x3 - 5.759775e+15*x1*x2**4*x4 + 1.57233813333333e+17*x1*x2**3 + 8.1144e+15*x1*x2**2*x3 + 2.30391e+16*x1*x2**2*x4 + 3.0537388e+17*x1*x2 + 4.46936e+16*x1*x3 + 1.268979e+17*x1*x4 - 157500000000000.0*x2**6 - 5.759775e+15*x2**5*x3 - 2.692305e+16*x2**5*x4 - 1.57185e+15*x2**4*x3**2 - 7.120575e+15*x2**4*x3*x4 - 7.391475e+15*x2**4*x4**2 + 5.79488559999999e+17*x2**4 + 2.3630278e+17*x2**3*x3 + 3.71557853333333e+17*x2**3*x4 + 6.2874e+15*x2**2*x3**2 + 2.84823e+16*x2**2*x3*x4 + 2.95659e+16*x2**2*x4**2 + 1.12770836e+18*x2**2 + 5.4109098e+17*x2*x3 + 1.10563222e+18*x2*x4 + 3.46306e+16*x3**2 + 1.568787e+17*x3*x4 + 1.628471e+17*x4**2)/(5740875.0*x1*x2**6 - 30994236.0*x1*x2**4 - 94358556.0*x1*x2**2 + 176931136.0*x1 + 21701925.0*x2**7 + 7120575.0*x2**6*x3 + 10999800.0*x2**6*x4 - 117506592.0*x2**5 - 38042676.0*x2**4*x3 - 60207399.0*x2**4*x4 - 355335732.0*x2**3 - 118637196.0*x2**2*x3 - 177512004.0*x2**2*x4 + 676350192.0*x2 + 210631776.0*x3 + 357094924.0*x4)]\n"
     ]
    }
   ],
   "source": [
    "#Подбираем функцию u(x), так чтобы V(x) <=0 для всех (x1, x2, x3, x4)\n",
    "#Пусть V' = -x1*x1 - x2*x2 - x3*x3 - x4*x4\n",
    "#Решаем уравнение\n",
    "\n",
    "u1_solution = solve(deriv_v + x1*x1 + x2*x2 + x3*x3 + x4*x4, u)\n",
    "print(u1_solution)\n",
    "\n",
    "#Решение есть, нашли функцию управления u-> V - это функция Ляпунова\n",
    "\n",
    "#Функция управления\n",
    "u_lambdify = lambdify([x1, x2, x3, x4], u1_solution)\n",
    "\n",
    "#Функция управления в начальный момент времени\n",
    "#print(u_lambdify(x0[0], x0[1], x0[2], x0[3])[0]) "
   ]
  },
  {
   "cell_type": "markdown",
   "id": "86a441b8",
   "metadata": {},
   "source": [
    "Выбор данной функции управления удовлетворяет третьему условию теоремы Ляпунова. Следовательно, заданная функция действительно является функцией Ляпунова. Это гарантирует нам асимптотическую устойчивость нулевого равновесия системы."
   ]
  },
  {
   "cell_type": "code",
   "execution_count": 37,
   "id": "f3712fe3",
   "metadata": {},
   "outputs": [],
   "source": [
    "#Функция управления\n",
    "def u(x):\n",
    "    res = u_lambdify(x[0], x[1], x[2], x[3])[0]\n",
    "    return res\n",
    "\n",
    "#Динамическая система\n",
    "def equation(t, x):\n",
    "    dxdt = np.empty(4)\n",
    "    dxdt[0] = x[2]\n",
    "    dxdt[1] = x[3]\n",
    "    dxdt[2] = 4*u(x) + (4*(M+m)*g*tg_appr(x[1]) - 3*m*g*sin_appr(x[1])*cos_appr(x[1]))/(4*(M+m)-3*m*cos_appr(x[1])**2)\n",
    "    dxdt[3] = (-3*u(x)*cos_appr(x[1]))/l\n",
    "    \n",
    "    #print('u=', u(x))\n",
    "    #print('dvdt= ', derive_v_lambdify(x[0], x[1], x[2], x[3], u(x)))\n",
    "    #print('---')\n",
    "    return dxdt\n",
    "\n",
    "t0 = 0.\n",
    "tf = 100.\n",
    "t_eval = np.arange(t0, tf, 0.01)\n",
    "\n",
    "sol = solve_ivp(lambda t, x: equation(t, x), (t0,tf), x0, t_eval = t_eval)\n",
    "x = sol.y.T\n",
    "t = sol.t"
   ]
  },
  {
   "cell_type": "code",
   "execution_count": 39,
   "id": "e289a3b5",
   "metadata": {},
   "outputs": [],
   "source": [
    "#Задаем ограничения\n",
    "def lim(n, a, b):\n",
    "    s1 = []\n",
    "    for i in range(n):\n",
    "        s1.append(a)\n",
    "    s2 = []\n",
    "    for i in range(n):\n",
    "        s2.append(b)\n",
    "    return s1, s2"
   ]
  },
  {
   "cell_type": "code",
   "execution_count": 40,
   "id": "97b75f53",
   "metadata": {},
   "outputs": [
    {
     "data": {
      "text/plain": [
       "<matplotlib.legend.Legend at 0x1e90a8376a0>"
      ]
     },
     "execution_count": 40,
     "metadata": {},
     "output_type": "execute_result"
    },
    {
     "data": {
      "image/png": "[encoded data removed]",
      "text/plain": [
       "<Figure size 432x288 with 1 Axes>"
      ]
     },
     "metadata": {
      "needs_background": "light"
     },
     "output_type": "display_data"
    }
   ],
   "source": [
    "n = len(x[:,0])\n",
    "time = np.linspace(0, 100, n)\n",
    "fig = plt.figure()\n",
    "ax1 = fig.add_subplot(1,1,1)\n",
    "ax1.set_ylabel('x_1, м')\n",
    "ax1.set_xlabel('t, с')\n",
    "ax1.set_title('Смещение тележки')\n",
    "ax1.set_xlim([0, 100])\n",
    "ax1.set_ylim([-5, 5])\n",
    "ax1.plot(time,x[:,0])\n",
    "s1, s2 = lim(n, 1, -1)\n",
    "ax1.plot(time, s1, linestyle='dashed', color = 'green', label = 'Limitations')\n",
    "ax1.plot(time, s2, linestyle='dashed', color = 'green')\n",
    "ax1.legend()"
   ]
  },
  {
   "cell_type": "code",
   "execution_count": 41,
   "id": "807941ee",
   "metadata": {},
   "outputs": [
    {
     "data": {
      "text/plain": [
       "<matplotlib.legend.Legend at 0x1e90e899940>"
      ]
     },
     "execution_count": 41,
     "metadata": {},
     "output_type": "execute_result"
    },
    {
     "data": {
      "image/png": "[encoded data removed]",
      "text/plain": [
       "<Figure size 432x288 with 1 Axes>"
      ]
     },
     "metadata": {
      "needs_background": "light"
     },
     "output_type": "display_data"
    }
   ],
   "source": [
    "n = len(x[:,1])\n",
    "time = np.linspace(0, 100, n)\n",
    "fig = plt.figure()\n",
    "ax1 = fig.add_subplot(1,1,1)\n",
    "ax1.set_ylabel('x_2, rad')\n",
    "ax1.set_title('Угол наклона маятника')\n",
    "ax1.set_xlim([0, 100])\n",
    "ax1.set_ylim([-2, 2])\n",
    "ax1.plot(time,x[:,1])\n",
    "s1, s2 = lim(n, 1, -1)\n",
    "ax1.plot(time, s1, linestyle='dashed', color = 'green', label = 'Limitations')\n",
    "ax1.plot(time, s2, linestyle='dashed', color = 'green')\n",
    "ax1.legend()"
   ]
  },
  {
   "cell_type": "code",
   "execution_count": 42,
   "id": "ba11cb11",
   "metadata": {},
   "outputs": [
    {
     "data": {
      "text/plain": [
       "<matplotlib.legend.Legend at 0x1e90e8f88e0>"
      ]
     },
     "execution_count": 42,
     "metadata": {},
     "output_type": "execute_result"
    },
    {
     "data": {
      "image/png": "[encoded data removed]",
      "text/plain": [
       "<Figure size 432x288 with 1 Axes>"
      ]
     },
     "metadata": {
      "needs_background": "light"
     },
     "output_type": "display_data"
    }
   ],
   "source": [
    "n = len(x[:,2])\n",
    "time = np.linspace(0, 10, n)\n",
    "fig = plt.figure()\n",
    "ax1 = fig.add_subplot(1,1,1)\n",
    "ax1.set_ylabel('x_3, м/с')\n",
    "ax1.set_title('Скорость тележки')\n",
    "ax1.set_xlim([0, 10])\n",
    "ax1.set_ylim([-6, 6])\n",
    "ax1.plot(time,x[:,2])\n",
    "s1, s2 = lim(n, 1, -1)\n",
    "ax1.plot(time, s1, linestyle='dashed', color = 'green', label = 'Limitations')\n",
    "ax1.plot(time, s2, linestyle='dashed', color = 'green')\n",
    "ax1.legend()"
   ]
  },
  {
   "cell_type": "code",
   "execution_count": 43,
   "id": "1105fe69",
   "metadata": {},
   "outputs": [
    {
     "data": {
      "text/plain": [
       "<matplotlib.legend.Legend at 0x1e90e95ae80>"
      ]
     },
     "execution_count": 43,
     "metadata": {},
     "output_type": "execute_result"
    },
    {
     "data": {
      "image/png": "[encoded data removed]",
      "text/plain": [
       "<Figure size 432x288 with 1 Axes>"
      ]
     },
     "metadata": {
      "needs_background": "light"
     },
     "output_type": "display_data"
    }
   ],
   "source": [
    "n = len(x[:,3])\n",
    "time = np.linspace(0, 10, n)\n",
    "fig = plt.figure()\n",
    "ax1 = fig.add_subplot(1,1,1)\n",
    "ax1.set_ylabel('x_4, rad')\n",
    "ax1.set_title('Угловая скорость маятника')\n",
    "ax1.set_xlim([0, 10])\n",
    "ax1.set_ylim([-5, 5])\n",
    "ax1.plot(time,x[:,3])\n",
    "s1, s2 = lim(n, 1, -1)\n",
    "ax1.plot(time, s1, linestyle='dashed', color = 'green', label = 'Limitations')\n",
    "ax1.plot(time, s2, linestyle='dashed', color = 'green')\n",
    "ax1.legend()"
   ]
  },
  {
   "cell_type": "code",
   "execution_count": 44,
   "id": "9f29d847",
   "metadata": {},
   "outputs": [
    {
     "data": {
      "text/plain": [
       "<matplotlib.legend.Legend at 0x1e90e690820>"
      ]
     },
     "execution_count": 44,
     "metadata": {},
     "output_type": "execute_result"
    },
    {
     "data": {
      "image/png": "[encoded data removed]",
      "text/plain": [
       "<Figure size 432x288 with 1 Axes>"
      ]
     },
     "metadata": {
      "needs_background": "light"
     },
     "output_type": "display_data"
    }
   ],
   "source": [
    "u1 = []\n",
    "for i in x:\n",
    "    c = u(i)\n",
    "    u1.append(c)\n",
    "\n",
    "n = len(u1)\n",
    "time = np.linspace(0, 50, n)\n",
    "fig = plt.figure()\n",
    "ax1 = fig.add_subplot(1,1,1)\n",
    "ax1.set_ylabel('u')\n",
    "ax1.set_title('Управление')\n",
    "ax1.set_ylim([-25, 25])\n",
    "ax1.set_xlim([0, 50])\n",
    "ax1.plot(u1)\n",
    "s1, s2 = lim(n, 20, -20)\n",
    "ax1.plot(time, s1, linestyle='dashed', color = 'green', label = 'Limitations')\n",
    "ax1.plot(time, s2, linestyle='dashed', color = 'green')\n",
    "ax1.legend(bbox_to_anchor=(1, 1))"
   ]
  },
  {
   "cell_type": "markdown",
   "id": "fade3fcb",
   "metadata": {},
   "source": [
    "## Литература\n"
   ]
  },
  {
   "cell_type": "markdown",
   "id": "f5160068",
   "metadata": {},
   "source": [
    "1) Hadi Ravanbakhsh and Sriram Sankaranarayanan, Learning Lyapunov (Potential) Functions from Counterexamples and Demonstrations (https://arxiv.org/pdf/1705.09619.pdf)\n",
    "\n",
    "2) Control Theory Course (https://github.com/DPritykin/Control-Theory-Course/tree/main/Term%202%20Nonlinear%20Dynamics%20and%20Control/Lecture%20Jupyter%20Notebooks)\n",
    "\n",
    "3) Maria Landry, Sue Ann Campbell, Kirsten Morris, and Cesar O Aguilar. Dynamics of an inverted pendulum with delayed feedback control. (https://www.geneseo.edu/~aguilar/public/assets/papers/dynamics_delayed_feedback_Landry-Campbell-Morris-Aguilar_SIAM05.pdf)\n",
    "\n",
    "4) Carlos Aguilar I., Octavio Gutierrez F. and Miguel S. Suarez C., Lyapunov Based Controller for the Inverted Pendulum Cart System (https://vk.com/doc199758746_648976579?hash=3Gki6tZdng9iCz29VlBr0AhBuNqdCEHTA0ykWZzRBJ8&dl=0vIWzmisNbgzfsZJeATfV64cZS23vtxSHLd6vkTEGB0)"
   ]
  },
  {
   "cell_type": "code",
   "execution_count": null,
   "id": "bd337b90",
   "metadata": {},
   "outputs": [],
   "source": []
  }
 ],
 "metadata": {
  "kernelspec": {
   "display_name": "Python 3",
   "language": "python",
   "name": "python3"
  },
  "language_info": {
   "codemirror_mode": {
    "name": "ipython",
    "version": 3
   },
   "file_extension": ".py",
   "mimetype": "text/x-python",
   "name": "python",
   "nbconvert_exporter": "python",
   "pygments_lexer": "ipython3",
   "version": "3.8.8"
  }
 },
 "nbformat": 4,
 "nbformat_minor": 5
}
