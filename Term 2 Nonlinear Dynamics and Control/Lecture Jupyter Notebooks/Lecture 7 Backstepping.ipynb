{
 "cells": [
  {
   "cell_type": "markdown",
   "id": "c0d3e465",
   "metadata": {},
   "source": [
    "# Каскадные системы. Синтез управления методом бэкстеппинга"
   ]
  },
  {
   "cell_type": "markdown",
   "id": "3389c2c2",
   "metadata": {},
   "source": [
    "Рассмотрим задачу о стабилизации верхнего положения маятника.\n",
    "\n",
    "Уравнения движения:\n",
    "\n",
    "$$\n",
    "m l^2 \\ddot{\\alpha} - m g l \\sin{\\alpha} = M_{\\mathrm{упр}} \\rightarrow\n",
    "\\left\\{\n",
    "    \\begin{array}\\\\\n",
    "       \\dot{\\alpha} = \\omega, \\\\\n",
    "       \\dot{\\omega} =  \\frac{g}{l}\\sin{\\alpha} + u\n",
    "    \\end{array}   \n",
    "\\right.\n",
    "$$\n",
    "\n",
    "Расмотрим управляющее воздействие вида\n",
    "$$\n",
    "u(\\alpha,\\omega) = k_1 \\alpha + k_2 \\sin{\\alpha} + k_3 \\omega.\n",
    "$$\n",
    "\n",
    "Для анализа устойчивости вертикального равновесия с выбранным законом управления рассмотрим функцию Ляпунова вида:\n",
    "$$\n",
    "    V(\\alpha, \\omega) = \\frac{1}{2}(\\alpha + \\omega)^2 + \\frac{1}{2}\\omega^2.\n",
    "$$\n",
    "\n",
    "Вычислим производную V в силу вранений движения:\n",
    "$$\n",
    "\\dot{V}(\\alpha, \\omega) = (\\alpha+\\omega)\\omega + (\\alpha + 2\\omega)(\\frac{g}{l}\\sin{\\alpha}+k_1 \\alpha + k_2 \\sin{\\alpha} + k_3 \\omega).\n",
    "$$\n",
    "\n",
    "Выберем коэффициенты $k_1, k_2, k_3$ так, чтобы обеспечить выполнение условия $\\dot{V}<0$. Положим $k_2 = -g/l$:\n",
    "$$\n",
    "\\dot{V}(\\alpha, \\omega) = k_1 \\alpha^2 + (1 + 2 k_3) \\omega^2 + (1 + 2k_1 + k_3)\\alpha\\omega.\n",
    "$$\n",
    "\n",
    "Положив $k_1 = -1/8$, $k_3 = -3/4$, получим\n",
    "$$\n",
    "\\dot{V}(\\alpha, \\omega) = -\\frac{1}{8}\\alpha^2 - \\frac{1}{2}\\omega^2 < 0.\n",
    "$$\n",
    "\n",
    "Таким образом, закон управления:\n",
    "$$\n",
    "u(\\alpha, \\omega) = -\\frac{1}{8}\\alpha - \\frac{g}{l}\\sin{\\alpha} -\\frac{3}{4}\\omega.\n",
    "$$"
   ]
  },
  {
   "cell_type": "code",
   "execution_count": 1,
   "id": "64fd3294",
   "metadata": {},
   "outputs": [],
   "source": [
    "import numpy as np\n",
    "import scipy.integrate as sci\n",
    "import matplotlib.pyplot as plt"
   ]
  },
  {
   "cell_type": "code",
   "execution_count": 2,
   "id": "1bbedf7f",
   "metadata": {},
   "outputs": [],
   "source": [
    "class Parameters(object):\n",
    "    pass\n",
    "\n",
    "param = Parameters()\n",
    "param.g = 10\n",
    "param.l = 1\n",
    "param.gl = param.g / param.l\n",
    "\n",
    "def control(x):\n",
    "    return -x[0]/8 - param.gl * np.sin(x[0]) - 3/4 *  x[1]\n",
    "\n",
    "def rhs(t, x):\n",
    "    dxdt = np.zeros(2)\n",
    "    \n",
    "    dxdt[0] = x[1]\n",
    "    dxdt[1] = param.gl * np.sin(x[0]) + control(x)\n",
    "    \n",
    "    return dxdt"
   ]
  },
  {
   "cell_type": "code",
   "execution_count": 3,
   "id": "72f59328",
   "metadata": {},
   "outputs": [
    {
     "data": {
      "image/png": "[encoded data removed]",
      "text/plain": [
       "<Figure size 432x288 with 1 Axes>"
      ]
     },
     "metadata": {
      "needs_background": "light"
     },
     "output_type": "display_data"
    }
   ],
   "source": [
    "t0, tf, dt = 0, 100, 0.1\n",
    "t_sol = np.arange(t0, tf, dt)\n",
    "\n",
    "x0 = [0.25, 0]\n",
    "\n",
    "sol = sci.solve_ivp(rhs, (t0, tf), x0, t_eval = t_sol)\n",
    "\n",
    "x_sol = sol.y.T\n",
    "\n",
    "pltlim = 1.1*max(max(x_sol[:,0]), max(x_sol[:,1]))\n",
    "\n",
    "fig = plt.figure()\n",
    "ax = fig.add_subplot(111)\n",
    "plt.xlim(-pltlim, pltlim)\n",
    "plt.ylim(-pltlim, pltlim)\n",
    "ax.plot(x_sol[:, 0], x_sol[:, 1])\n",
    "ax.grid(True)\n",
    "ax.set_title('Phase Plane')\n",
    "ax.set_ylabel(r'$\\omega$, [rad/s]')\n",
    "ax.set_xlabel(r'$\\alpha$, [rad]')\n",
    "ax.set_aspect('equal')"
   ]
  },
  {
   "cell_type": "markdown",
   "id": "a8f5a942",
   "metadata": {},
   "source": [
    "Пусть теперь задача управления поставлена для динамической системы, описываемой системой дифференциальных уравнений\n",
    "$$\n",
    "\\dot{x} = f(x,u,t),\n",
    "$$\n",
    "\n",
    "и пусть некоторой заменой переменных эта система приводится к виду:\n",
    "\n",
    "$$\n",
    "\\begin{equation}\\tag{1}\n",
    "\\left\\{\n",
    "    \\begin{array}\\\\\n",
    "       \\dot{\\eta} = f_0(\\eta) + g_0(\\eta)\\xi_1, \\\\\n",
    "       \\dot{\\xi}_1 = f_1(\\eta, \\xi_1) + g_1(\\eta, \\xi_1)\\xi_2,\\\\\n",
    "       \\dot{\\xi}_2 = f_2(\\eta, \\xi_1, \\xi_2) + g_2(\\eta, \\xi_1, \\xi_2)\\xi_3,\\\\\n",
    "       \\vdots \\\\\n",
    "       \\dot{\\xi}_{n-m} = f_{n-m}(\\eta, \\xi_1,..., \\xi_{n-m}) + g_{n-m}(\\eta, \\xi_1,..., \\xi_{n-m})u\n",
    "    \\end{array}   \n",
    "\\right. \n",
    "\\end{equation}\n",
    "$$\n",
    "\n",
    "Таким образом, в новых переменных система принимает блочный нижне-треугольный вид, начинающийся с неприводимого блока, отвечающего переменным $\\eta$.\n",
    "\n",
    "Частным случаем такой системы, является система, включающая несколько последовательно включенных интеграторов\n",
    "$$\n",
    "\\begin{equation}\\tag{2}\n",
    "\\left\\{\n",
    "    \\begin{array}\\\\\n",
    "       \\dot{\\eta} = f_0(\\eta) + g_0(\\eta)\\xi_1, \\\\\n",
    "       \\dot{\\xi}_1 = \\xi_2,\\\\\n",
    "       \\dot{\\xi}_2 = \\xi_3,\\\\\n",
    "       \\vdots \\\\\n",
    "       \\dot{\\xi}_{n-m} = u\n",
    "    \\end{array}   \n",
    "\\right. \n",
    "\\end{equation}\n",
    "$$"
   ]
  },
  {
   "attachments": {
    "backstep_scheme.png": {
     "image/png": "[encoded data removed]"
    }
   },
   "cell_type": "markdown",
   "id": "5f0494bc",
   "metadata": {},
   "source": [
    "![backstep_scheme.png](attachment:backstep_scheme.png)"
   ]
  },
  {
   "cell_type": "markdown",
   "id": "26eec0b2",
   "metadata": {},
   "source": [
    "Благодаря рекурсивной структуре системы синтез управления можно начать со стабилизации первой неприводимой системы  в переменных $\\eta$. Затем полученный закон управления последовательно наращивается включением в рассмотрение новых переменных $\\xi_i$, при этом мы пошагово двигаемся по блоксхеме полной системы справа налево (то есть в обратном направлении), что и дало название методу - backstepping.\n",
    "\n",
    "Схематично метод бэкстеппинга работает следующим образом:\n",
    "\n",
    "1. Рассмотрим первую подсистему системы (1) в переменных $\\eta$, взяв $\\xi_1$ в качестве управления. Пусть эта система может быть стабилизирована с помощью закона управления $\\xi_1 = \\varphi_0(\\eta)$, удовлетворяющего условию $\\varphi_0(0)=0$, таким образом, что нулевое решение системы\n",
    "$$\n",
    "\\begin{equation}\\tag{3}\n",
    "\\dot{\\eta} = f_0(\\eta) + g_0(\\eta)\\varphi_0(\\eta) \n",
    "\\end{equation}\n",
    "$$\n",
    "асимптотически устойчиво. Кроме того, будем считать, что нам известна положительно определённая функция Ляпунова\n",
    "$$\n",
    "V_0(\\eta): \\quad  \\quad \\dot{V}_0 = \\frac{\\partial V_0}{\\partial \\eta}\\dot{\\eta} = W_0(\\eta) <0\n",
    "$$\n",
    "в некоторой окрестности нуля.\n",
    "\n",
    "\n",
    "2. Рассмотрим вторую подсистему системы (1) относительно переменной $\\xi_1$, взяв в качестве управления $\\xi_2$, и синтезируем закон управления $\\xi_2 = \\varphi_1(\\eta, \\xi_1)$, удовлетворяющий условию $\\varphi_1(0,0) = 0$, таким образом, что система, состоящая из (1) и\n",
    "$$\n",
    "\\dot{\\xi}_1 = f_1(\\eta, \\xi_1) + g_1(\\eta, \\xi_1)\\xi_2\n",
    "$$\n",
    "имеет асимптотически устойчивое нулевое решение, причём переменная $\\xi_1$ повторяет закон управления $\\varphi_0(\\eta)$, синтезированный на предыдущем шаге. Для синтеза закона управления $\\xi_2 = \\varphi_1(\\eta, \\xi_1)$ используем функцию Ляпунова\n",
    "$$\n",
    "V_1(\\eta, \\xi_1) = V_1(\\eta) + \\frac{1}{2}\\left(\\xi_1 - \\varphi_0(\\eta)\\right)^2\n",
    "$$\n",
    "\n",
    "Закон управления $\\varphi_1(\\eta, xi_1)$ выбираем такким образом, чтобы добиться отрицательной определённости производной\n",
    "$$\n",
    "\\dot{V}_1 = \\frac{\\partial V_1}{\\partial \\eta} \\dot{\\eta} + \\frac{\\partial V_1}{\\partial \\xi_1} \\dot{\\xi_1} = W_1(\\eta, \\xi_1) <0\n",
    "$$\n",
    "\n",
    "3. Процесс пошагового синтеза управления продолжается до шага с номером $n-m$, на котором синтезируется закон управления $u$.\n",
    "\n",
    "\n",
    "Можно показать, что для системы вида (2)  с одним интегратором, закон управления имеет вид:\n",
    "$$\n",
    "u(\\eta, \\xi) = \\frac{\\partial \\varphi_0(\\eta)}{\\partial \\eta} \\left( f_0(\\eta) + g_0(\\eta) \\xi\\right) - \\frac{\\partial V_0(\\eta)}{\\partial \\eta} g_0(\\eta) - \\lambda (\\xi - \\varphi(\\eta)), \\quad \\lambda > 0\n",
    "$$\n",
    "\n",
    "\n",
    "Подробное обоснование метода см. например, в книге \n",
    " Поляк Б.Т., Хлебников М.В., Рапопорт Л.Б. Математическая теория автоматического управления: учебное пособие. - М.: Ленанд, 2019."
   ]
  },
  {
   "cell_type": "markdown",
   "id": "1a88c5dd",
   "metadata": {},
   "source": [
    "## Пример\n",
    "\n",
    "Вернёмся к примеру о стабилизации верхнего положения математического маятника. Пусть нужно стабилизировать верхнее положение математического маятника при помощи рулевой машинки. Будем считать, что уравнения описывающие мащинку можно представить в виде двойного интегратора.\n",
    "\n",
    "обозначив через $\\alpha$ отклонение от вертикали и через $\\omega$ угловую скорость, запишем:\n",
    "$$\n",
    "\\left\\{\n",
    "    \\begin{array}\\\\\n",
    "       \\dot{\\alpha} = \\omega, \\\\\n",
    "       \\dot{\\omega} =  \\frac{g}{l}\\sin{\\alpha} + \\xi_1, \\\\\n",
    "       \\dot{\\xi}_1 = \\xi_2, \\\\\n",
    "       \\dot{\\xi}_2 = u\n",
    "    \\end{array}   \n",
    "\\right.\n",
    "$$\n",
    "\n",
    "Синтез закона управления, стабилизирующего нулевое положение этой системы, разобъём на два шага в соответствии с описанной схемой. На первом шаге рассмотрим стабилизацию системы с одним интегратором:\n",
    "\n",
    "$$\n",
    "\\left\\{\n",
    "    \\begin{array}\\\\\n",
    "       \\dot{\\alpha} = \\omega, \\\\\n",
    "       \\dot{\\omega} =  \\frac{g}{l}\\sin{\\alpha} + \\xi_1, \\\\\n",
    "       \\dot{\\xi}_1 = \\xi_2\n",
    "    \\end{array}   \n",
    "\\right.\n",
    "$$\n",
    "\n",
    "и управлением $\\xi_2$, для синтеза которого применим один шаг бэкстеппинга."
   ]
  },
  {
   "cell_type": "markdown",
   "id": "fb5e7c90",
   "metadata": {},
   "source": [
    "Из предыдущего примера для $\\eta = (\\alpha, \\omega)$\n",
    "$$\n",
    "\\varphi_0(\\eta) = -\\frac{1}{8}\\alpha -\\frac{g}{l}\\sin{\\alpha}-\\frac{3}{4}\\omega, \\quad V_0(\\eta) = \\frac{1}{2}(\\alpha + \\omega)^2 + \\frac{1}{2}\\omega^2.\n",
    "$$\n",
    "\n",
    "При этом\n",
    "$$\n",
    "W_0(\\eta) = -\\frac{1}{8}\\alpha^2 - \\frac{1}{2}\\omega^2. \n",
    "$$"
   ]
  },
  {
   "cell_type": "code",
   "execution_count": 51,
   "id": "9bad499d",
   "metadata": {},
   "outputs": [],
   "source": [
    "def control_bck1(x):\n",
    "    lmbda0  = 10\n",
    "    \n",
    "    a = (1 + lmbda0 / 8)\n",
    "    b = (17/8 + 3 * lmbda0 / 4)\n",
    "    c = (3/4 + lmbda0)\n",
    "    \n",
    "    ctrl = - a * x[0] -b * x[1] - c * param.gl * np.sin(x[0]) - param.gl * x[1] * np.cos(x[0]) - c * x[2]\n",
    "    \n",
    "    return ctrl\n",
    "\n",
    "def rhs_bck1(t, x):\n",
    "    dxdt = np.zeros(3)\n",
    "    \n",
    "    dxdt[0] = x[1]\n",
    "    dxdt[1] = param.gl * np.sin(x[0]) + x[2]\n",
    "    dxdt[2] = control_bck1(x)\n",
    "        \n",
    "    return dxdt\n",
    "\n",
    "def control_bck2(x):\n",
    "    lmbda0  = 10\n",
    "    lmbda1 = 10\n",
    "    \n",
    "    a = (1 + lmbda0 / 8)\n",
    "    b = (17 / 8 + 3 * lmbda0 / 4)\n",
    "    c = (3 / 4 + lmbda0)\n",
    "    e = x[2] + x[0] / 8 + param.gl * np.sin(x[0]) + 3 * x[1] / 4\n",
    "    \n",
    "    ctrl  = x[0] * x[1] + x[1]**2 + e * x[1] * (1/8 + param.gl * np.cos(x[0])) + \\\n",
    "            (x[0] + 2 * x[1] + 3 * e / 4) * (param.gl * np.sin(x[0]) + x[2]) + e * x[3] - e - \\\n",
    "            lmbda1 * (x[3] + a * x[0] + b * x[1] + c * param.gl * np.sin(x[0]) + param.gl * x[1] * np.cos(x[0]) + c * x[3])\n",
    "    return ctrl\n",
    "\n",
    "def rhs_bck2(t, x):\n",
    "    dxdt = np.zeros(4)\n",
    "    \n",
    "    dxdt[0] = x[1]\n",
    "    dxdt[1] = param.gl * np.sin(x[0]) + x[2]\n",
    "    dxdt[2] = x[3]\n",
    "    dxdt[3] = control_bck2(x)\n",
    "    \n",
    "    \n",
    "    return dxdt"
   ]
  },
  {
   "cell_type": "code",
   "execution_count": 52,
   "id": "60cfcccc",
   "metadata": {},
   "outputs": [
    {
     "data": {
      "image/png": "[encoded data removed]",
      "text/plain": [
       "<Figure size 432x288 with 1 Axes>"
      ]
     },
     "metadata": {
      "needs_background": "light"
     },
     "output_type": "display_data"
    }
   ],
   "source": [
    "t0, tf, dt = 0, 20, 0.1\n",
    "t_sol = np.arange(t0, tf, dt)\n",
    "\n",
    "x0 = [0.25, 0, 0]\n",
    "\n",
    "sol = sci.solve_ivp(rhs_bck1, (t0, tf), x0, t_eval = t_sol)\n",
    "\n",
    "x_sol = sol.y.T\n",
    "\n",
    "pltlim = 1.1*max(max(x_sol[:,0]), max(x_sol[:,1]))\n",
    "\n",
    "fig = plt.figure()\n",
    "ax = fig.add_subplot(111)\n",
    "plt.xlim(-pltlim, pltlim)\n",
    "plt.ylim(-pltlim, pltlim)\n",
    "ax.plot(x_sol[:, 0], x_sol[:, 1])\n",
    "ax.grid(True)\n",
    "ax.set_title('Phase Plane')\n",
    "ax.set_ylabel(r'$\\omega$, [rad/s]')\n",
    "ax.set_xlabel(r'$\\alpha$, [rad]')\n",
    "ax.set_aspect('equal')"
   ]
  },
  {
   "cell_type": "code",
   "execution_count": null,
   "id": "d17cd5e2",
   "metadata": {},
   "outputs": [],
   "source": []
  },
  {
   "cell_type": "code",
   "execution_count": null,
   "id": "426c5e5e",
   "metadata": {},
   "outputs": [],
   "source": []
  }
 ],
 "metadata": {
  "kernelspec": {
   "display_name": "Python 3",
   "language": "python",
   "name": "python3"
  },
  "language_info": {
   "codemirror_mode": {
    "name": "ipython",
    "version": 3
   },
   "file_extension": ".py",
   "mimetype": "text/x-python",
   "name": "python",
   "nbconvert_exporter": "python",
   "pygments_lexer": "ipython3",
   "version": "3.8.8"
  }
 },
 "nbformat": 4,
 "nbformat_minor": 5
}
