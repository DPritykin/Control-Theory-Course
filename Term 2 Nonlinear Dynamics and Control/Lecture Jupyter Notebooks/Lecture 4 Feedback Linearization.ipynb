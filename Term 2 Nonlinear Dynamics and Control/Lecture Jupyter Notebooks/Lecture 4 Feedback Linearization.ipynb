{
 "cells": [
  {
   "cell_type": "markdown",
   "id": "0a578e61",
   "metadata": {},
   "source": [
    "# Линеаризация обратной связью\n"
   ]
  },
  {
   "cell_type": "markdown",
   "id": "43bc0f09",
   "metadata": {},
   "source": [
    "Рассматривается система управления, модель которой представляется в виде\n",
    "$$\\dot{\\mathbf{x}} = \\mathbf{f}(\\mathbf{x}) + \\mathbf{g}(\\mathbf{x}) \\cdot \\mathbf{u}, \\quad \\mathbf{x} \\in \\mathbb{R}^n, \\quad, u \\in \\mathbb{R}$$\n",
    "\n",
    "а уравнение выхода\n",
    "$$y = h(\\mathbf(x)), \\quad y \\in \\mathbb{R}.$$\n",
    "\n",
    "И ставится задача стабилизации нулевого равновесия $y = h(x) = 0$.\n",
    "\n",
    "Поскольку $h(\\mathbf{x})$ явно не зависит от управления, мы не можем найти закон управления $u(t)$ непосредственно из уравнения выхода. Вычислим производную $y$ в силу системы:\n",
    "\n",
    "$$\\dot{y} = L_f h(\\mathbf{x})+L_g h(\\mathbf{x}) \\cdot u.$$\n",
    "\n",
    "Если $L_g h(\\mathbf{x}) \\not\\equiv 0$, можно составить _линейное_ дифференциальное уравнение $\\dot{y} + k_0y = 0$ и подставиви в него выражения для $y$ и $\\dot{y}$, выразить управление $u = u{\\mathbf{x}}$. Если же $L_g h(\\mathbf{x}) \\equiv 0$, продолжим дифференцирование выражения $\\dot{y} = L_f h(\\mathbf{x})$.\n",
    "\n",
    "Продолжая дифференцирование, мы придём к ситуации, когда в первый раз получим $L_g L_f^{r-1}h(\\mathbf{x}) \\not\\equiv 0$, а все предыдущие производные Ли тождественно нулевые. Тогда, обознаяая _i_-ю производную $y$ через $y^{(i)}$, составим выражение\n",
    "\n",
    "$$y^{(r)} + k_{r-1}y^{(r-1)} + \\ldots +k_0 y = 0$$\n",
    "\n",
    "и подставив в него выражения для всех производных, получим алгебраическое уравнение\n",
    "\n",
    "$$L_f^r h(\\mathbf{x}) + L_g L_f^{r-1}h(\\mathbf{x})\\cdot u + k_{r-1}L_f^{r-1}h(\\mathbf{x}) + \\ldots + k_0 h(\\mathbf{x}) = 0.$$\n",
    "\n",
    "Решив это уравнение относительно $u$, получим:\n",
    "$$u(\\mathbf{x}) = -\\frac{L_f^r h(\\mathbf{x}) + k_{r-1}L_f^{r-1}h(\\mathbf{x}) + \\ldots + k_0 h(\\mathbf{x})}{L_g L_f^{r-1}h(\\mathbf{x})}$$\n",
    "\n",
    "\n",
    "Подробнее см. в:\n",
    "Поляк Б.Т., Хлебников М.В., Рапопорт Л.Б. Математическая теория автоматического управления: учебной пособие. - М.:ЛЕНАНД, 2019"
   ]
  },
  {
   "cell_type": "markdown",
   "id": "bd66377c",
   "metadata": {},
   "source": [
    "## Пример. Обращенный маятник на тележке\n",
    "\n",
    "Кинетическая энергия\n",
    "$$T = \\frac{m}{2}\\left[(l\\dot{\\alpha}\\cos{\\alpha}+ \\dot{s})^2 + (l\\dot{\\alpha}\\sin{\\alpha})^2\\right] + \\frac{M}{2}\\dot{s}^2$$\n",
    "\n",
    "Потенциальная энергия\n",
    "$$\\Pi = mgl\\cos{\\alpha}$$\n",
    "\n",
    "\n",
    "Уравнения Лагранжа\n",
    "$$\\frac{d}{dt}\\frac{\\partial L(q, \\dot{q}, t)}{\\partial \\dot{q}} - \\frac{\\partial L(q, \\dot{q}, t)}{\\partial q} = 0, \\quad L(q, \\dot{q}, t) = T - \\Pi$$\n",
    "\n",
    "для обращенного маятника на тележке:\n",
    "$$\\left\\{ \n",
    "\\begin{array}\\\\\n",
    "ml^2\\ddot{\\alpha} + ml\\ddot{s}\\cos{\\alpha} - ml\\dot{s}\\dot{\\alpha}\\sin{\\alpha}- mgl\\sin{\\alpha} = 0 \\\\\n",
    "ml\\ddot{\\alpha}\\cos{\\alpha} + (m + M)\\ddot{s} - ml\\dot{\\alpha}^2\\sin{\\alpha} = u\n",
    "\\end{array}\n",
    "\\right. \n",
    "$$"
   ]
  },
  {
   "cell_type": "code",
   "execution_count": 19,
   "id": "183e0b12",
   "metadata": {},
   "outputs": [],
   "source": [
    "from sympy import Symbol, symbols, Function, cos, sin\n",
    "from sympy.calculus.euler import euler_equations\n",
    "from sympy.printing.latex import LatexPrinter, print_latex\n",
    "\n",
    "from sympy.interactive import printing\n",
    "printing.init_printing(use_latex='mathjax')"
   ]
  },
  {
   "cell_type": "code",
   "execution_count": 20,
   "id": "c54703c4",
   "metadata": {},
   "outputs": [
    {
     "data": {
      "text/latex": [
       "$\\displaystyle \\left[ g l m \\sin{\\left(\\alpha{\\left(t \\right)} \\right)} - l m \\left(1.0 l \\frac{d^{2}}{d t^{2}} \\alpha{\\left(t \\right)} - \\sin{\\left(\\alpha{\\left(t \\right)} \\right)} \\frac{d}{d t} \\alpha{\\left(t \\right)} \\frac{d}{d t} s{\\left(t \\right)} + \\cos{\\left(\\alpha{\\left(t \\right)} \\right)} \\frac{d^{2}}{d t^{2}} s{\\left(t \\right)}\\right) - l m \\sin{\\left(\\alpha{\\left(t \\right)} \\right)} \\frac{d}{d t} \\alpha{\\left(t \\right)} \\frac{d}{d t} s{\\left(t \\right)} = 0\\right]$"
      ],
      "text/plain": [
       "⎡                      ⎛        2                                             \n",
       "⎢                      ⎜       d                    d        d                \n",
       "⎢g⋅l⋅m⋅sin(α(t)) - l⋅m⋅⎜1.0⋅l⋅───(α(t)) - sin(α(t))⋅──(α(t))⋅──(s(t)) + cos(α(\n",
       "⎢                      ⎜        2                   dt       dt               \n",
       "⎣                      ⎝      dt                                              \n",
       "\n",
       "      2      ⎞                                      ⎤\n",
       "     d       ⎟                 d        d           ⎥\n",
       "t))⋅───(s(t))⎟ - l⋅m⋅sin(α(t))⋅──(α(t))⋅──(s(t)) = 0⎥\n",
       "      2      ⎟                 dt       dt          ⎥\n",
       "    dt       ⎠                                      ⎦"
      ]
     },
     "metadata": {},
     "output_type": "display_data"
    },
    {
     "data": {
      "text/latex": [
       "$\\displaystyle \\left[ l m \\sin{\\left(\\alpha{\\left(t \\right)} \\right)} \\left(\\frac{d}{d t} \\alpha{\\left(t \\right)}\\right)^{2} - l m \\cos{\\left(\\alpha{\\left(t \\right)} \\right)} \\frac{d^{2}}{d t^{2}} \\alpha{\\left(t \\right)} - \\left(M + m\\right) \\frac{d^{2}}{d t^{2}} s{\\left(t \\right)} = 0\\right]$"
      ],
      "text/plain": [
       "⎡                        2                   2                   2          ⎤\n",
       "⎢              ⎛d       ⎞                   d                   d           ⎥\n",
       "⎢l⋅m⋅sin(α(t))⋅⎜──(α(t))⎟  - l⋅m⋅cos(α(t))⋅───(α(t)) - (M + m)⋅───(s(t)) = 0⎥\n",
       "⎢              ⎝dt      ⎠                    2                   2          ⎥\n",
       "⎣                                          dt                  dt           ⎦"
      ]
     },
     "metadata": {},
     "output_type": "display_data"
    }
   ],
   "source": [
    "M, m, g, l, t = symbols('M, m, g, l, t')\n",
    "a = Function('alpha')(t)\n",
    "w = Function('omega')(t)\n",
    "s = Function('s')(t)\n",
    "v = Function('v')(t)\n",
    "\n",
    "V = Function('V')\n",
    "V = 0.5 * (M + m)* (s.diff(t))**2 + 0.5 * m * l**2 * a.diff(t)**2 + m * l * s.diff(t) * a.diff(t) * cos(a)\n",
    "\n",
    "U = Function('U')\n",
    "U = m * g * l * cos(a)\n",
    "\n",
    "L = V - U\n",
    "\n",
    "eqwA = euler_equations(L, a, t)\n",
    "eqwS = euler_equations(L, s, t)\n",
    "display(eqwA)\n",
    "display(eqwS)"
   ]
  },
  {
   "cell_type": "markdown",
   "id": "84a598c7",
   "metadata": {},
   "source": [
    "## Синтез регулятора\n",
    "\n",
    "В нормальной форме Коши уравнения обращённого маятника имеют вид:\n",
    "$$\\left\\{ \n",
    "\\begin{array}\\\\\n",
    "\\dot{\\alpha} = \\omega \\\\\n",
    "\\dot{\\omega} = \\frac{1}{(M+m\\sin{\\alpha}^2)l} \\left[(M+m)(g+v\\omega)\\sin{\\alpha} - ml\\omega^2\\sin{\\alpha}\\cos{\\alpha}-u\\cos{\\alpha}\\right] \\\\\n",
    "\\dot{s} = v \\\\\n",
    "\\dot{v} = \\frac{1}{(M+m\\sin{\\alpha}^2)} \\left[-m(g + v\\omega)\\sin{\\alpha}\\cos{\\alpha} + ml\\omega^2\\sin{\\alpha} + u\\right]\n",
    "\\end{array}\n",
    "\\right. \n",
    "$$\n",
    "\n",
    "Таким образом, система может быть записана в форме\n",
    "$$\\dot{\\mathbf{x}} = \\mathbf{f}(\\mathbf{x}) + \\mathbf{g}(\\mathbf{x}) \\cdot \\mathbf{u},$$\n",
    "\n",
    "где\n",
    "$$\\mathbf{f}(\\mathbf{x}) = \n",
    "\\left(\n",
    "\\begin{array}\\\\\n",
    "\\omega\\\\\n",
    "\\frac{(M+m)(g+v\\omega)\\sin{\\alpha} - ml\\omega^2\\sin{\\alpha}\\cos{\\alpha}}{(M+m\\sin{\\alpha}^2)l}\\\\\n",
    "v\\\\\n",
    "\\frac{-m(g+v\\omega)\\sin{\\alpha}\\cos{\\alpha} + ml\\omega^2\\sin{\\alpha}}{(M+m\\sin{\\alpha}^2)}\n",
    "\\end{array}\\right), \\quad\n",
    "\\mathbf{g}(\\mathbf{x}) = \n",
    "\\left(\n",
    "\\begin{array}\\\\\n",
    "0\\\\\n",
    "\\frac{-\\cos{\\alpha}}{(M+m\\sin{\\alpha}^2)l}\\\\\n",
    "0\\\\\n",
    "\\frac{1}{(M+m\\sin{\\alpha}^2)}\n",
    "\\end{array}\n",
    "\\right), \\quad\n",
    "\\mathbf{x}=\n",
    "\\left(\n",
    "\\begin{array}\\\\\n",
    "\\alpha\\\\\n",
    "\\omega\\\\\n",
    "s\\\\\n",
    "v\n",
    "\\end{array}\n",
    "\\right).$$\n",
    "\n",
    "Цель управления - стабилизация углового положения в нуле:\n",
    "$$y = \\alpha, \\quad h(x) = \\alpha \\rightarrow 0$$\n",
    "\n",
    "Последовательно вычисляя производные $h(x)$ в силу системы, получим, что относительная степень управляемой системы $r=2$\n",
    "$$L_g L_f^{r-1}h(x)=-\\frac{\\cos{\\alpha}}{(M + m\\sin{\\alpha}^2)l}$$\n",
    "\n",
    "Тогда управление\n",
    "$$u(x) = -\\frac{L^2_f h(x) + k_1 L^1_f h(x) + k_0 h(x)}{L_g L_f^{r-1}h(x)}=\\frac{(M+m)(g+v\\omega)\\sin{\\alpha}-ml\\omega^2\\sin{\\alpha}\\cos{\\alpha} + l(M + m\\sin{\\alpha}^2)(k_1\\omega+k_0\\alpha)}{\\cos{\\alpha}},$$\n",
    "\n",
    "где коэффициенты $k_1$ и $k_0$ таковы, что нулевое решение системы дифференциальных уравнений\n",
    "$$\\ddot{\\alpha} + k_1\\dot{\\alpha} + k_0\\alpha = 0$$\n",
    "асимптотически устойчиво."
   ]
  },
  {
   "cell_type": "code",
   "execution_count": 3,
   "id": "d8edea64",
   "metadata": {},
   "outputs": [],
   "source": [
    "import numpy as np\n",
    "import matplotlib.pyplot as plt\n",
    "from scipy.integrate import solve_ivp "
   ]
  },
  {
   "cell_type": "code",
   "execution_count": 21,
   "id": "2746ba96",
   "metadata": {},
   "outputs": [],
   "source": [
    "def control(x, p):\n",
    "    cosA = np.cos(x[0])\n",
    "    sinA = np.sin(x[0])\n",
    "    \n",
    "    a = 1\n",
    "    k1 = a**2\n",
    "    k0 = 2 * a;\n",
    "    \n",
    "    u = ((p.M + p.m) * (p.g + x[1] * x[3]) * sinA - p.m *p.l * x[1]**2 * sinA * cosA + p.l * (p.M + p.m * sinA**2) * (k1 * x[1] + k0 * x[0])) / np.cos(x[0])\n",
    "    return u\n",
    "\n",
    "def rhs(t, x, p):\n",
    "    \n",
    "    u = control(x, p)        \n",
    "    \n",
    "    cosA = np.cos(x[0])\n",
    "    sinA = np.sin(x[0])\n",
    "    \n",
    "    x_dot = np.zeros(4)\n",
    "\n",
    "    x_dot[0] = x[1]\n",
    "    x_dot[1] = ( (p.M + p.m) * (p.g + x[1]*x[3]) * sinA - p.m *p.l * x[1]**2 * sinA * cosA - u * cosA ) / (p.M + p.m * sinA**2) / p.l\n",
    "    x_dot[2] = x[3]\n",
    "    x_dot[3]=  ( -p.m * (p.g + x[1]*x[3]) * sinA * cosA + p.m * p.l * x[1]**2 * sinA + u ) / (p.M + p.m * sinA**2) / p.l\n",
    "        \n",
    "    return x_dot"
   ]
  },
  {
   "cell_type": "code",
   "execution_count": 30,
   "id": "34684f86",
   "metadata": {},
   "outputs": [
    {
     "data": {
      "image/png": "[encoded data removed]",
      "text/plain": [
       "<Figure size 1152x576 with 4 Axes>"
      ]
     },
     "metadata": {
      "needs_background": "light"
     },
     "output_type": "display_data"
    }
   ],
   "source": [
    "class Parameters(object):\n",
    "    pass\n",
    "\n",
    "param = Parameters()\n",
    "param.M = 1\n",
    "param.m = 0.5\n",
    "param.g = 10\n",
    "param.l = 0.5\n",
    "\n",
    "x_0 = np.array([0.5, 1., 0., 0.])\n",
    "\n",
    "t0 = 0.\n",
    "tf = 20.\n",
    "t_eval = np.arange(t0, tf, 0.01)\n",
    "\n",
    "sol = solve_ivp(lambda t, x: rhs(t, x, param), (t0, tf), x_0, t_eval = t_eval)\n",
    "x = sol.y.T\n",
    "t = sol.t\n",
    "\n",
    "u = np.zeros((np.size(t), 1))\n",
    "for i in range(np.size(t)):\n",
    "    u[i] = control(x[i, :], param)\n",
    "\n",
    "   \n",
    "fig1 = plt.figure(figsize=(16,8))\n",
    "ax1 = fig1.add_subplot(2,2,1)\n",
    "\n",
    "ax1.set_title(\"Angle\")\n",
    "ax1.plot(t, x[:, 0] * 180. / np.pi, label = r'$ \\alpha $', color = 'red')\n",
    "ax1.set_ylabel(r'angle, [deg]')\n",
    "ax1.set_xlabel(r't, [s]')\n",
    "ax1.grid(True)\n",
    "ax1.legend()\n",
    "\n",
    "ax2 = fig1.add_subplot(2,2,2)\n",
    "\n",
    "ax2.set_title(\"Angular Velocity\")\n",
    "ax2.plot(t, x[:,1], label = '$\\omega$', color = 'red')\n",
    "ax2.set_ylabel(r'angular velocity, [rad/s]')\n",
    "ax2.set_xlabel(r't, [s]')\n",
    "ax2.grid(True)\n",
    "ax2.legend()\n",
    "\n",
    "ax3 = fig1.add_subplot(2,2,3)\n",
    "\n",
    "ax3.set_title(\"Trolley Position\")\n",
    "ax3.plot(t, x[:,2], label = '$s$', color = 'red')\n",
    "ax3.set_ylabel(r's, [m]')\n",
    "ax3.set_xlabel(r't, [s]')\n",
    "ax3.grid(True)\n",
    "ax3.legend()\n",
    "\n",
    "ax4 = fig1.add_subplot(2,2,4)\n",
    "\n",
    "ax4.set_title(\"Control Action\")\n",
    "ax4.plot(t, u, label = '$u$', color = 'red')\n",
    "ax4.set_ylabel(r'u, [Nm]')\n",
    "ax4.set_xlabel(r't, [s]')\n",
    "ax4.grid(True)\n",
    "ax4.legend()\n",
    "\n",
    "plt.tight_layout()"
   ]
  },
  {
   "cell_type": "markdown",
   "id": "d455d3aa",
   "metadata": {},
   "source": [
    "## Возможные задачи\n",
    "\n",
    "1. Преписать пример выше на sympy. Вход - кинетическая и потенциальная энергии, значения параметров, начальные условия и цель управления.\n",
    "\n",
    "\n",
    "2. Input-Output Feedback Linearization for the Control of a 4 Cable-Driven Parallel Robot\n",
    "https://hal.archives-ouvertes.fr/hal-03229586/document\n",
    "\n",
    "\n",
    "3. Input output feedback linearization control and variable step size MPPT algorithm of a grid-connected photovoltaic inverter\n",
    "https://doi.org/10.1016/j.renene.2011.04.027\n",
    "\n",
    "\n",
    "4. Feedback Linearization Control of the Inertia Wheel Pendulum\n",
    "https://sciendo.com/pdf/10.2478/cait-2014-0036\n",
    "\n",
    "\n",
    "5. Feedback linearization control of systems with singularities: a ball-beam revisit\n",
    "http://control.dei.unipd.it/public/Schenato/TESI/Tosin_2009/materiale/Feedback%20linearization%20control.PDF\n",
    "\n",
    "\n",
    "6. Robust feedback linearization for nonlinear processes control (пример с манипулятором)\n",
    "https://doi.org/10.1016/j.isatra.2018.01.017"
   ]
  },
  {
   "cell_type": "code",
   "execution_count": null,
   "id": "c81d6e71",
   "metadata": {},
   "outputs": [],
   "source": []
  }
 ],
 "metadata": {
  "kernelspec": {
   "display_name": "Python 3",
   "language": "python",
   "name": "python3"
  },
  "language_info": {
   "codemirror_mode": {
    "name": "ipython",
    "version": 3
   },
   "file_extension": ".py",
   "mimetype": "text/x-python",
   "name": "python",
   "nbconvert_exporter": "python",
   "pygments_lexer": "ipython3",
   "version": "3.8.8"
  }
 },
 "nbformat": 4,
 "nbformat_minor": 5
}
