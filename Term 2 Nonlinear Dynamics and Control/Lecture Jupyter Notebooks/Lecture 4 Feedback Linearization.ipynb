{
 "cells": [
  {
   "cell_type": "markdown",
   "id": "0a578e61",
   "metadata": {},
   "source": [
    "# Линеаризация обратной связью\n"
   ]
  },
  {
   "cell_type": "markdown",
   "id": "43bc0f09",
   "metadata": {},
   "source": [
    "Рассматривается система управления, модель которой представляется в виде\n",
    "$$\\dot{\\mathbf{x}} = \\mathbf{f}(\\mathbf{x}) + \\mathbf{g}(\\mathbf{x}) \\cdot \\mathbf{u}, \\quad \\mathbf{x} \\in \\mathbb{R}^n, \\quad, u \\in \\mathbb{R}$$\n",
    "\n",
    "а уравнение выхода\n",
    "$$y = h(\\mathbf(x)), \\quad y \\in \\mathbb{R}.$$\n",
    "\n",
    "И ставится задача стабилизации нулевого равновесия $y = h(x) = 0$.\n",
    "\n",
    "Поскольку $h(\\mathbf{x})$ явно не зависит от управления, мы не можем найти закон управления $u(t)$ непосредственно из уравнения выхода. Вычислим производную $y$ в силу системы:\n",
    "\n",
    "$$\\dot{y} = L_f h(\\mathbf{x})+L_g h(\\mathbf{x}) \\cdot u.$$\n",
    "\n",
    "Если $L_g h(\\mathbf{x}) \\not\\equiv 0$, можно составить _линейное_ дифференциальное уравнение $\\dot{y} + k_0y = 0$ и подставиви в него выражения для $y$ и $\\dot{y}$, выразить управление $u = u{\\mathbf{x}}$. Если же $L_g h(\\mathbf{x}) \\equiv 0$, продолжим дифференцирование выражения $\\dot{y} = L_f h(\\mathbf{x})$.\n",
    "\n",
    "Продолжая дифференцирование, мы придём к ситуации, когда в первый раз получим $L_g L_f^{r-1}h(\\mathbf{x}) \\not\\equiv 0$, а все предыдущие производные Ли тождественно нулевые. Тогда, обознаяая _i_-ю производную $y$ через $y^{(i)}$, составим выражение\n",
    "\n",
    "$$y^{(r)} + k_{r-1}y^{(r-1)} + \\ldots +k_0 y = 0$$\n",
    "\n",
    "и подставив в него выражения для всех производных, получим алгебраическое уравнение\n",
    "\n",
    "$$L_f^r h(\\mathbf{x}) + L_g L_f^{r-1}h(\\mathbf{x})\\cdot u + k_{r-1}L_f^{r-1}h(\\mathbf{x}) + \\ldots + k_0 h(\\mathbf{x}) = 0.$$\n",
    "\n",
    "Решив это уравнение относительно $u$, получим:\n",
    "$$u(\\mathbf{x}) = -\\frac{L_f^r h(\\mathbf{x}) + k_{r-1}L_f^{r-1}h(\\mathbf{x}) + \\ldots + k_0 h(\\mathbf{x})}{L_g L_f^{r-1}h(\\mathbf{x})}$$\n",
    "\n",
    "\n",
    "Подробнее см. в:\n",
    "Поляк Б.Т., Хлебников М.В., Рапопорт Л.Б. Математическая теория автоматического управления: учебной пособие. - М.:ЛЕНАНД, 2019"
   ]
  },
  {
   "cell_type": "markdown",
   "id": "bd66377c",
   "metadata": {},
   "source": [
    "## Пример. Обращенный маятник на тележке\n",
    "\n",
    "### Обозначения\n",
    "$s : смещение \\ тележки\\ [м]; $ \n",
    "\n",
    "$\\alpha : угол,\\ который\\ образует\\ маятник\\ с\\ вертикалью\\ [rad]; $\n",
    "\n",
    "$u  : сила,\\ приложенная\\ к\\ тележке,\\ действующая\\ как\\ управляющий\\ вход\\ [Н]; $\n",
    "\n",
    "$m  : масса\\ тележки\\ [кг]; $\n",
    "\n",
    "$M  :  масса\\ маятника\\ [кг]; $\n",
    "\n",
    "$l : длина\\ маятника\\ [м]; $\n",
    "\n",
    "$g : ускорение\\ свободного\\ падения\\ [м/с^2]; $\n",
    "\n",
    "### Уравнения Лагранжа\n",
    "\n",
    "Кинетическая энергия\n",
    "$$T = \\frac{m}{2}\\left[(l\\dot{\\alpha}\\cos{\\alpha}+ \\dot{s})^2 + (l\\dot{\\alpha}\\sin{\\alpha})^2\\right] + \\frac{M}{2}\\dot{s}^2$$\n",
    "\n",
    "Потенциальная энергия\n",
    "$$\\Pi = mgl\\cos{\\alpha}$$\n",
    "\n",
    "\n",
    "Уравнения Лагранжа\n",
    "$$\\frac{d}{dt}\\frac{\\partial L(q, \\dot{q}, t)}{\\partial \\dot{q}} - \\frac{\\partial L(q, \\dot{q}, t)}{\\partial q} = Q, \\quad L(q, \\dot{q}, t) = T - \\Pi,$$\n",
    "где $Q$ - обобщенные силы.\n",
    "\n",
    "для обращенного маятника на тележке:\n",
    "$$\\left\\{ \n",
    "\\begin{array}\\\\\n",
    "ml^2\\ddot{\\alpha} + ml\\ddot{s}\\cos{\\alpha} - ml\\dot{s}\\dot{\\alpha}\\sin{\\alpha}- mgl\\sin{\\alpha} = 0 \\\\\n",
    "ml\\ddot{\\alpha}\\cos{\\alpha} + (m + M)\\ddot{s} - ml\\dot{\\alpha}^2\\sin{\\alpha} = u\n",
    "\\end{array}\n",
    "\\right. \n",
    "$$"
   ]
  },
  {
   "cell_type": "code",
   "execution_count": 1,
   "id": "183e0b12",
   "metadata": {},
   "outputs": [],
   "source": [
    "from sympy import Symbol, symbols, Function, Array, cos, sin, simplify, lambdify\n",
    "from sympy.calculus.euler import euler_equations\n",
    "from sympy.printing.latex import LatexPrinter, print_latex\n",
    "\n",
    "from sympy.interactive import printing\n",
    "printing.init_printing(use_latex='mathjax')"
   ]
  },
  {
   "cell_type": "code",
   "execution_count": 2,
   "id": "c54703c4",
   "metadata": {},
   "outputs": [
    {
     "name": "stdout",
     "output_type": "stream",
     "text": [
      "Уравнения Лагранжа:\n"
     ]
    },
    {
     "data": {
      "text/latex": [
       "$\\displaystyle \\left[ g l m \\sin{\\left(\\alpha{\\left(t \\right)} \\right)} - l m \\left(1.0 l \\frac{d^{2}}{d t^{2}} \\alpha{\\left(t \\right)} - \\sin{\\left(\\alpha{\\left(t \\right)} \\right)} \\frac{d}{d t} \\alpha{\\left(t \\right)} \\frac{d}{d t} s{\\left(t \\right)} + \\cos{\\left(\\alpha{\\left(t \\right)} \\right)} \\frac{d^{2}}{d t^{2}} s{\\left(t \\right)}\\right) - l m \\sin{\\left(\\alpha{\\left(t \\right)} \\right)} \\frac{d}{d t} \\alpha{\\left(t \\right)} \\frac{d}{d t} s{\\left(t \\right)} = 0\\right]$"
      ],
      "text/plain": [
       "⎡                      ⎛        2                                             \n",
       "⎢                      ⎜       d                    d        d                \n",
       "⎢g⋅l⋅m⋅sin(α(t)) - l⋅m⋅⎜1.0⋅l⋅───(α(t)) - sin(α(t))⋅──(α(t))⋅──(s(t)) + cos(α(\n",
       "⎢                      ⎜        2                   dt       dt               \n",
       "⎣                      ⎝      dt                                              \n",
       "\n",
       "      2      ⎞                                      ⎤\n",
       "     d       ⎟                 d        d           ⎥\n",
       "t))⋅───(s(t))⎟ - l⋅m⋅sin(α(t))⋅──(α(t))⋅──(s(t)) = 0⎥\n",
       "      2      ⎟                 dt       dt          ⎥\n",
       "    dt       ⎠                                      ⎦"
      ]
     },
     "metadata": {},
     "output_type": "display_data"
    },
    {
     "data": {
      "text/latex": [
       "$\\displaystyle \\left[ l m \\sin{\\left(\\alpha{\\left(t \\right)} \\right)} \\left(\\frac{d}{d t} \\alpha{\\left(t \\right)}\\right)^{2} - l m \\cos{\\left(\\alpha{\\left(t \\right)} \\right)} \\frac{d^{2}}{d t^{2}} \\alpha{\\left(t \\right)} - \\left(M + m\\right) \\frac{d^{2}}{d t^{2}} s{\\left(t \\right)} = - u\\right]$"
      ],
      "text/plain": [
       "⎡                        2                   2                   2           ⎤\n",
       "⎢              ⎛d       ⎞                   d                   d            ⎥\n",
       "⎢l⋅m⋅sin(α(t))⋅⎜──(α(t))⎟  - l⋅m⋅cos(α(t))⋅───(α(t)) - (M + m)⋅───(s(t)) = -u⎥\n",
       "⎢              ⎝dt      ⎠                    2                   2           ⎥\n",
       "⎣                                          dt                  dt            ⎦"
      ]
     },
     "metadata": {},
     "output_type": "display_data"
    }
   ],
   "source": [
    "M, m, g, l, t, u = symbols('M, m, g, l, t, u')\n",
    "a = Function('alpha')(t)\n",
    "w = Function('omega')(t)\n",
    "s = Function('s')(t)\n",
    "v = Function('v')(t)\n",
    "\n",
    "# кинетическая энергия\n",
    "T = Function('T')\n",
    "T = 0.5 * (M + m)* (s.diff(t))**2 + 0.5 * m * l**2 * a.diff(t)**2 + m * l * s.diff(t) * a.diff(t) * cos(a)\n",
    "\n",
    "# потенциальная эрергия\n",
    "U = Function('U')\n",
    "U = m * g * l * cos(a)\n",
    "\n",
    "# лагранжиан\n",
    "L = T - U\n",
    "\n",
    "# левые части уравнений Лагранжа на угол и перемещение тележки\n",
    "eqwA = euler_equations(L, a, t)\n",
    "eqwS = euler_equations(L, s, t)\n",
    "\n",
    "# подстановка обобщённых сил\n",
    "Q = Array([0, -u])\n",
    "eqwA[0] = eqwA[0].subs(eqwA[0].rhs, Q[0])\n",
    "eqwS[0] = eqwS[0].subs(eqwS[0].rhs, Q[1])\n",
    "\n",
    "# принт\n",
    "print(\"Уравнения Лагранжа:\")\n",
    "display(eqwA)\n",
    "display(eqwS)"
   ]
  },
  {
   "cell_type": "markdown",
   "id": "84a598c7",
   "metadata": {},
   "source": [
    "## Синтез регулятора\n",
    "\n",
    "В нормальной форме Коши уравнения обращённого маятника имеют вид:\n",
    "$$\\left\\{ \n",
    "\\begin{array}\\\\\n",
    "\\dot{\\alpha} = \\omega \\\\\n",
    "\\dot{\\omega} = \\frac{1}{(M+m\\sin{\\alpha}^2)l} \\left[(M+m)g\\sin{\\alpha} - ml\\omega^2\\sin{\\alpha}\\cos{\\alpha}-u\\cos{\\alpha}\\right] \\\\\n",
    "\\dot{s} = v \\\\\n",
    "\\dot{v} = \\frac{1}{(M+m\\sin{\\alpha}^2)} \\left[-mg\\sin{\\alpha}\\cos{\\alpha} + ml\\omega^2\\sin{\\alpha} + u\\right]\n",
    "\\end{array}\n",
    "\\right. \n",
    "$$\n",
    "\n",
    "Таким образом, система может быть записана в форме\n",
    "$$\\dot{\\mathbf{x}} = \\mathbf{f}(\\mathbf{x}) + \\mathbf{g}(\\mathbf{x}) \\cdot \\mathbf{u},$$\n",
    "\n",
    "где\n",
    "$$\\mathbf{f}(\\mathbf{x}) = \n",
    "\\begin{pmatrix}\n",
    "\\omega\\\\\n",
    "\\frac{(M+m)g\\sin{\\alpha} - ml\\omega^2\\sin{\\alpha}\\cos{\\alpha}}{(M+m\\sin{\\alpha}^2)l}\\\\\n",
    "v\\\\\n",
    "\\frac{-mg\\sin{\\alpha}\\cos{\\alpha} + ml\\omega^2\\sin{\\alpha}}{(M+m\\sin{\\alpha}^2)}\n",
    "\\end{pmatrix}, \\quad\n",
    "\\mathbf{g}(\\mathbf{x}) = \n",
    "\\begin{pmatrix}\n",
    "0\\\\\n",
    "\\frac{-\\cos{\\alpha}}{(M+m\\sin{\\alpha}^2)l}\\\\\n",
    "0\\\\\n",
    "\\frac{1}{(M+m\\sin{\\alpha}^2)}\n",
    "\\end{pmatrix}\n",
    ", \\quad\n",
    "\\mathbf{x}=\n",
    "\\left(\n",
    "\\begin{array}\\\\\n",
    "\\alpha\\\\\n",
    "\\omega\\\\\n",
    "s\\\\\n",
    "v\n",
    "\\end{array}\n",
    "\\right).$$"
   ]
  },
  {
   "cell_type": "code",
   "execution_count": 3,
   "id": "c17cc973",
   "metadata": {},
   "outputs": [],
   "source": [
    "from sympy.solvers import solve, nonlinsolve\n",
    "\n",
    "# разрешаем уравнения Лагранжа относительно старших производных\n",
    "alpha_ddot = solve(eqwA[0], a.diff(t, 2)) \n",
    "s_ddot = solve(eqwS[0], s.diff(t, 2))\n",
    "\n",
    "# делаем замены вторых производных угла и положения на первые производные угловой и линейной скорости\n",
    "eqwA_single_dot = eqwA[0].subs([(a.diff(t, 2), w.diff(t)), (s.diff(t, 2), v.diff(t))])\n",
    "eqwS_single_dot = eqwS[0].subs([(a.diff(t, 2), w.diff(t)), (s.diff(t, 2), v.diff(t))])\n",
    "\n",
    "# разрешаем систему уравнений относительно производных\n",
    "cauchy_form = nonlinsolve((a.diff(t) - w, \\\n",
    "                           eqwA_single_dot.lhs, s.diff(t) - v, \\\n",
    "                           eqwS_single_dot.lhs - eqwS[0].rhs), \\\n",
    "                          a.diff(t), w.diff(t), s.diff(t), v.diff(t))"
   ]
  },
  {
   "cell_type": "code",
   "execution_count": 4,
   "id": "1e08778c",
   "metadata": {},
   "outputs": [
    {
     "name": "stdout",
     "output_type": "stream",
     "text": [
      "Компоненты f:\n"
     ]
    },
    {
     "data": {
      "text/latex": [
       "$\\displaystyle \\left[ \\omega{\\left(t \\right)}, \\  \\frac{1.0 \\left(M g \\sin{\\left(\\alpha{\\left(t \\right)} \\right)} + g m \\sin{\\left(\\alpha{\\left(t \\right)} \\right)} - \\frac{l m \\omega^{2}{\\left(t \\right)} \\sin{\\left(2 \\alpha{\\left(t \\right)} \\right)}}{2}\\right)}{l \\left(M + m \\sin^{2}{\\left(\\alpha{\\left(t \\right)} \\right)}\\right)}, \\  v{\\left(t \\right)}, \\  \\frac{1.0 \\left(- \\frac{g m \\sin{\\left(2 \\alpha{\\left(t \\right)} \\right)}}{2} + l m \\omega^{2}{\\left(t \\right)} \\sin{\\left(\\alpha{\\left(t \\right)} \\right)}\\right)}{M + m \\sin^{2}{\\left(\\alpha{\\left(t \\right)} \\right)}}\\right]$"
      ],
      "text/plain": [
       "⎡          ⎛                                     2               ⎞            \n",
       "⎢          ⎜                                l⋅m⋅ω (t)⋅sin(2⋅α(t))⎟            \n",
       "⎢      1.0⋅⎜M⋅g⋅sin(α(t)) + g⋅m⋅sin(α(t)) - ─────────────────────⎟        1.0⋅\n",
       "⎢          ⎝                                          2          ⎠            \n",
       "⎢ω(t), ───────────────────────────────────────────────────────────, v(t), ────\n",
       "⎢                            ⎛         2      ⎞                               \n",
       "⎣                          l⋅⎝M + m⋅sin (α(t))⎠                               \n",
       "\n",
       "                                         ⎤\n",
       "⎛  g⋅m⋅sin(2⋅α(t))        2             ⎞⎥\n",
       "⎜- ─────────────── + l⋅m⋅ω (t)⋅sin(α(t))⎟⎥\n",
       "⎝         2                             ⎠⎥\n",
       "─────────────────────────────────────────⎥\n",
       "                    2                    ⎥\n",
       "           M + m⋅sin (α(t))              ⎦"
      ]
     },
     "metadata": {},
     "output_type": "display_data"
    },
    {
     "name": "stdout",
     "output_type": "stream",
     "text": [
      "Компоненты g:\n"
     ]
    },
    {
     "data": {
      "text/latex": [
       "$\\displaystyle \\left[ 0, \\  - \\frac{1.0 \\cos{\\left(\\alpha{\\left(t \\right)} \\right)}}{l \\left(M + m \\sin^{2}{\\left(\\alpha{\\left(t \\right)} \\right)}\\right)}, \\  0, \\  \\frac{1.0}{M + m \\sin^{2}{\\left(\\alpha{\\left(t \\right)} \\right)}}\\right]$"
      ],
      "text/plain": [
       "⎡     -1.0⋅cos(α(t))               1.0       ⎤\n",
       "⎢0, ────────────────────, 0, ────────────────⎥\n",
       "⎢     ⎛         2      ⎞              2      ⎥\n",
       "⎣   l⋅⎝M + m⋅sin (α(t))⎠     M + m⋅sin (α(t))⎦"
      ]
     },
     "metadata": {},
     "output_type": "display_data"
    }
   ],
   "source": [
    "a_dot_rhs, w_dot_rhs, s_dot_rhs, v_dot_rhs = list(cauchy_form)[0]\n",
    "\n",
    "a_dot_rhs_f, a_dot_rhs_g = a_dot_rhs.subs(u, 0), a_dot_rhs.diff(u)\n",
    "w_dot_rhs_f, w_dot_rhs_g = w_dot_rhs.subs(u, 0), w_dot_rhs.diff(u)\n",
    "s_dot_rhs_f, s_dot_rhs_g = s_dot_rhs.subs(u, 0), s_dot_rhs.diff(u)\n",
    "v_dot_rhs_f, v_dot_rhs_g = v_dot_rhs.subs(u, 0), v_dot_rhs.diff(u)\n",
    "\n",
    "print('Компоненты f:')\n",
    "display([a_dot_rhs_f, w_dot_rhs_f, s_dot_rhs_f, v_dot_rhs_f])\n",
    "print('Компоненты g:')\n",
    "display([a_dot_rhs_g, w_dot_rhs_g, s_dot_rhs_g, v_dot_rhs_g])"
   ]
  },
  {
   "cell_type": "markdown",
   "id": "32bfdfe1",
   "metadata": {},
   "source": [
    "## Вычисление производных Ли\n",
    "\n",
    "Пусть цель управления - стабилизация углового положения маятника в нуле:\n",
    "$$y = \\alpha, \\quad h(x) = \\alpha \\rightarrow 0$$\n",
    "\n",
    "Последовательно вычисляя производные $h(x)$ в силу системы, получим, что относительная степень управляемой системы $r=2$\n",
    "$$L_g L_f^{r-1}h(x)=-\\frac{\\cos{\\alpha}}{(M + m\\sin{\\alpha}^2)l}$$"
   ]
  },
  {
   "cell_type": "code",
   "execution_count": 5,
   "id": "4c7faba0",
   "metadata": {},
   "outputs": [
    {
     "name": "stdout",
     "output_type": "stream",
     "text": [
      "Относительная степень: r =  2\n",
      "Производные Ли по направлению f: \n"
     ]
    },
    {
     "data": {
      "text/latex": [
       "$\\displaystyle \\left[ \\omega{\\left(t \\right)}, \\  \\frac{1.0 \\left(M g \\sin{\\left(\\alpha{\\left(t \\right)} \\right)} + g m \\sin{\\left(\\alpha{\\left(t \\right)} \\right)} - \\frac{l m \\omega^{2}{\\left(t \\right)} \\sin{\\left(2 \\alpha{\\left(t \\right)} \\right)}}{2}\\right)}{l \\left(M + m \\sin^{2}{\\left(\\alpha{\\left(t \\right)} \\right)}\\right)}\\right]$"
      ],
      "text/plain": [
       "⎡          ⎛                                     2               ⎞⎤\n",
       "⎢          ⎜                                l⋅m⋅ω (t)⋅sin(2⋅α(t))⎟⎥\n",
       "⎢      1.0⋅⎜M⋅g⋅sin(α(t)) + g⋅m⋅sin(α(t)) - ─────────────────────⎟⎥\n",
       "⎢          ⎝                                          2          ⎠⎥\n",
       "⎢ω(t), ───────────────────────────────────────────────────────────⎥\n",
       "⎢                            ⎛         2      ⎞                   ⎥\n",
       "⎣                          l⋅⎝M + m⋅sin (α(t))⎠                   ⎦"
      ]
     },
     "metadata": {},
     "output_type": "display_data"
    },
    {
     "name": "stdout",
     "output_type": "stream",
     "text": [
      "Смешанные производные Ли: \n"
     ]
    },
    {
     "data": {
      "text/latex": [
       "$\\displaystyle \\left[ 0, \\  - \\frac{1.0 \\cos{\\left(\\alpha{\\left(t \\right)} \\right)}}{l \\left(M + m \\sin^{2}{\\left(\\alpha{\\left(t \\right)} \\right)}\\right)}\\right]$"
      ],
      "text/plain": [
       "⎡     -1.0⋅cos(α(t))    ⎤\n",
       "⎢0, ────────────────────⎥\n",
       "⎢     ⎛         2      ⎞⎥\n",
       "⎣   l⋅⎝M + m⋅sin (α(t))⎠⎦"
      ]
     },
     "metadata": {},
     "output_type": "display_data"
    }
   ],
   "source": [
    "from sympy.diffgeom import *\n",
    "\n",
    "#Нахождение производных Ли и относительной степени\n",
    "K = Manifold(\"M\", 4)\n",
    "P = Patch(\"P\", K)\n",
    "xa, xw, xs, xv = symbols('xa, xw, xs, xv')\n",
    "coord = CoordSystem(\"coord\", P, [xa, xw, xs, xv])\n",
    "\n",
    "ca, cw, cs, cv = coord.coord_functions()\n",
    "e_a, e_w, e_s, e_v = coord.base_vectors()\n",
    "\n",
    "f_x = a_dot_rhs_f * e_a + w_dot_rhs_f * e_w + s_dot_rhs_f * e_s + v_dot_rhs_f * e_v\n",
    "g_x = a_dot_rhs_g * e_a + w_dot_rhs_g * e_w + s_dot_rhs_g * e_s + v_dot_rhs_g * e_v\n",
    "f_x = f_x.subs([(a, ca), (w, cw), (s, cs), (w, cw)])\n",
    "g_x = g_x.subs([(a, ca), (w, cw), (s, cs), (w, cw)])\n",
    "\n",
    "Lf_arr = []\n",
    "LgLf_arr = []\n",
    "h = Function('h')(ca, cw, cs, cv)\n",
    "h = ca\n",
    "r = 0\n",
    "\n",
    "Lf = Function('Lf')(ca, cw, cs, cv)\n",
    "Lf = h\n",
    "LgLf = Function('LgLf')(ca, cw, cs, cv)\n",
    "\n",
    "while r == 0 or LgLf == 0:\n",
    "    r += 1\n",
    "    LgLf = LieDerivative(g_x, Lf)    \n",
    "    Lf = LieDerivative(f_x, Lf)\n",
    "    Lf_arr.append(Lf)\n",
    "    LgLf_arr.append(LgLf)\n",
    "\n",
    "for i in reversed(range(r)):\n",
    "    Lf_arr[i] = Lf_arr[i].subs([(ca, a), (cw, w), (cs, s), (cv, v)])\n",
    "    LgLf_arr[i] = LgLf_arr[i].subs([(ca, a), (cw, w), (cs, s), (cv, v)])\n",
    "    \n",
    "print(\"Относительная степень: r = \", r)\n",
    "print(\"Производные Ли по направлению f: \")\n",
    "display(Lf_arr)\n",
    "print(\"Смешанные производные Ли: \")\n",
    "display(LgLf_arr)"
   ]
  },
  {
   "cell_type": "markdown",
   "id": "42f73fe4",
   "metadata": {},
   "source": [
    "## Закон управления\n",
    "\n",
    "Тогда управление\n",
    "$$u(x) = -\\frac{L^2_f h(x) + k_1 L^1_f h(x) + k_0 h(x)}{L_g L_f^{r-1}h(x)}=\\frac{(M+m)g\\sin{\\alpha}-ml\\omega^2\\sin{\\alpha}\\cos{\\alpha} + l(M + m\\sin{\\alpha}^2)(k_1\\omega+k_0\\alpha)}{\\cos{\\alpha}},$$\n",
    "\n",
    "где коэффициенты $k_1$ и $k_0$ таковы, что нулевое решение системы дифференциальных уравнений\n",
    "$$\\ddot{\\alpha} + k_1\\dot{\\alpha} + k_0\\alpha = 0$$\n",
    "асимптотически устойчиво."
   ]
  },
  {
   "cell_type": "code",
   "execution_count": 6,
   "id": "3aa64a58",
   "metadata": {},
   "outputs": [
    {
     "data": {
      "text/plain": [
       "'Закон управления u(x):'"
      ]
     },
     "metadata": {},
     "output_type": "display_data"
    },
    {
     "data": {
      "text/latex": [
       "$\\displaystyle \\frac{1.0 M g \\sin{\\left(\\alpha{\\left(t \\right)} \\right)} + 1.0 g m \\sin{\\left(\\alpha{\\left(t \\right)} \\right)} - 0.5 l m \\omega^{2}{\\left(t \\right)} \\sin{\\left(2 \\alpha{\\left(t \\right)} \\right)} + 1.0 l \\left(M + m \\sin^{2}{\\left(\\alpha{\\left(t \\right)} \\right)}\\right) \\left(k_{0} \\alpha{\\left(t \\right)} + k_{1} \\omega{\\left(t \\right)}\\right)}{\\cos{\\left(\\alpha{\\left(t \\right)} \\right)}}$"
      ],
      "text/plain": [
       "                                                 2                        ⎛   \n",
       "1.0⋅M⋅g⋅sin(α(t)) + 1.0⋅g⋅m⋅sin(α(t)) - 0.5⋅l⋅m⋅ω (t)⋅sin(2⋅α(t)) + 1.0⋅l⋅⎝M +\n",
       "──────────────────────────────────────────────────────────────────────────────\n",
       "                                                   cos(α(t))                  \n",
       "\n",
       "      2      ⎞                    \n",
       " m⋅sin (α(t))⎠⋅(k₀⋅α(t) + k₁⋅ω(t))\n",
       "──────────────────────────────────\n",
       "                                  "
      ]
     },
     "metadata": {},
     "output_type": "display_data"
    }
   ],
   "source": [
    "k1, k0 = symbols('k_1, k_0')\n",
    "coeffs = [k1, 1]\n",
    "u_fun = Function('U')(a, w, s, v)\n",
    "u_fun = 0\n",
    "\n",
    "for i in reversed(range(r)):    \n",
    "    u_fun += Lf_arr[i] * coeffs[i]\n",
    "\n",
    "u_fun += k0 * h.subs([(ca, a), (cw, w), (cs, s), (cv, v)])    \n",
    "u_fun /= -LgLf_arr[r-1]    \n",
    "\n",
    "display( \"Закон управления u(x):\", simplify(u_fun) )"
   ]
  },
  {
   "cell_type": "code",
   "execution_count": 7,
   "id": "d8edea64",
   "metadata": {},
   "outputs": [],
   "source": [
    "import numpy as np\n",
    "import matplotlib.pyplot as plt\n",
    "from scipy.integrate import solve_ivp "
   ]
  },
  {
   "cell_type": "markdown",
   "id": "dfa2d24b",
   "metadata": {},
   "source": [
    "## Параметры и функция для правой части ДУ"
   ]
  },
  {
   "cell_type": "code",
   "execution_count": 8,
   "id": "2746ba96",
   "metadata": {},
   "outputs": [],
   "source": [
    "class Parameters(object):\n",
    "    pass\n",
    "\n",
    "param = Parameters()\n",
    "param.M = 1\n",
    "param.m = 0.5\n",
    "param.g = 10\n",
    "param.l = 0.5\n",
    "\n",
    "# critically damped case для расчёта коэффициентов k1 и k0\n",
    "dzeta = 1\n",
    "\n",
    "# замена значений паораметров\n",
    "u_fun = u_fun.subs([(M, param.M), (m, param.m), (g, param.g), (l, param.l), (k1, dzeta**2), (k0, 2*dzeta)]) \n",
    "w_dot_rhs_f  = w_dot_rhs_f.subs([(M, param.M), (m, param.m), (g, param.g), (l, param.l)]) \n",
    "w_dot_rhs_g  = w_dot_rhs_g.subs([(M, param.M), (m, param.m), (g, param.g), (l, param.l)]) \n",
    "v_dot_rhs_f  = v_dot_rhs_f.subs([(M, param.M), (m, param.m), (g, param.g), (l, param.l)]) \n",
    "v_dot_rhs_g  = v_dot_rhs_g.subs([(M, param.M), (m, param.m), (g, param.g), (l, param.l)]) \n",
    "\n",
    "# вспомогательные функции для вычисления правой части ДУ и управления\n",
    "control = lambdify((a, w, s, v), u_fun)\n",
    "w_f = lambdify((a, w, s, v), w_dot_rhs_f)\n",
    "w_g = lambdify((a, w, s, v), w_dot_rhs_g)\n",
    "v_f = lambdify((a, w, s, v), v_dot_rhs_f)\n",
    "v_g = lambdify((a, w, s, v), v_dot_rhs_g)\n",
    "\n",
    "def rhs(t, x):\n",
    "    \n",
    "    u = control(x[0], x[1], x[2], x[3])        \n",
    "    \n",
    "    x_dot = np.zeros(4)\n",
    "\n",
    "    x_dot[0] = x[1]\n",
    "    x_dot[1] = w_f(x[0], x[1], x[2], x[3]) + w_g(x[0], x[1], x[2], x[3]) * u\n",
    "    x_dot[2] = x[3]\n",
    "    x_dot[3] = v_f(x[0], x[1], x[2], x[3]) + v_g(x[0], x[1], x[2], x[3]) * u\n",
    "        \n",
    "    return x_dot"
   ]
  },
  {
   "cell_type": "markdown",
   "id": "7395e38b",
   "metadata": {},
   "source": [
    "## Интегрирование модели и визуализация"
   ]
  },
  {
   "cell_type": "code",
   "execution_count": 9,
   "id": "34684f86",
   "metadata": {},
   "outputs": [
    {
     "data": {
      "image/png": "[encoded data removed]",
      "text/plain": [
       "<Figure size 1152x576 with 4 Axes>"
      ]
     },
     "metadata": {
      "needs_background": "light"
     },
     "output_type": "display_data"
    }
   ],
   "source": [
    "# начальные условия\n",
    "x_0 = np.array([0.5, 1., 0., 0.])\n",
    "\n",
    "t0 = 0.\n",
    "tf = 20.\n",
    "t_eval = np.arange(t0, tf, 0.01)\n",
    "\n",
    "# решение ДУ\n",
    "sol = solve_ivp(lambda t, x: rhs(t, x), (t0, tf), x_0, t_eval = t_eval)\n",
    "x = sol.y.T\n",
    "t = sol.t\n",
    "\n",
    "# вычисление управляющего воздействия вдоль траектории\n",
    "u = np.zeros((np.size(t), 1))\n",
    "for i in range(np.size(t)):\n",
    "    u[i] = control(x[i, 0], x[i, 1], x[i, 2], x[i, 3])\n",
    "\n",
    "# визуализация   \n",
    "fig1 = plt.figure(figsize=(16,8))\n",
    "ax1 = fig1.add_subplot(2,2,1)\n",
    "\n",
    "ax1.set_title(\"Angle\")\n",
    "ax1.plot(t, x[:, 0] * 180. / np.pi, label = r'$ \\alpha $', color = 'red')\n",
    "ax1.set_ylabel(r'angle, [deg]')\n",
    "ax1.set_xlabel(r't, [s]')\n",
    "ax1.grid(True)\n",
    "ax1.legend()\n",
    "\n",
    "ax2 = fig1.add_subplot(2,2,2)\n",
    "\n",
    "ax2.set_title(\"Angular Velocity\")\n",
    "ax2.plot(t, x[:,1], label = '$\\omega$', color = 'red')\n",
    "ax2.set_ylabel(r'angular velocity, [rad/s]')\n",
    "ax2.set_xlabel(r't, [s]')\n",
    "ax2.grid(True)\n",
    "ax2.legend()\n",
    "\n",
    "ax3 = fig1.add_subplot(2,2,3)\n",
    "\n",
    "ax3.set_title(\"Trolley Position\")\n",
    "ax3.plot(t, x[:,2], label = '$s$', color = 'red')\n",
    "ax3.set_ylabel(r's, [m]')\n",
    "ax3.set_xlabel(r't, [s]')\n",
    "ax3.grid(True)\n",
    "ax3.legend()\n",
    "\n",
    "ax4 = fig1.add_subplot(2,2,4)\n",
    "\n",
    "ax4.set_title(\"Control Action\")\n",
    "ax4.plot(t, u, label = '$u$', color = 'red')\n",
    "ax4.set_ylabel(r'u, [Nm]')\n",
    "ax4.set_xlabel(r't, [s]')\n",
    "ax4.grid(True)\n",
    "ax4.legend()\n",
    "\n",
    "plt.tight_layout()"
   ]
  },
  {
   "cell_type": "markdown",
   "id": "d455d3aa",
   "metadata": {},
   "source": [
    "## Возможные задачи\n",
    "\n",
    "1. Input-Output Feedback Linearization for the Control of a 4 Cable-Driven Parallel Robot\n",
    "https://hal.archives-ouvertes.fr/hal-03229586/document\n",
    "\n",
    "\n",
    "2. Input output feedback linearization control and variable step size MPPT algorithm of a grid-connected photovoltaic inverter\n",
    "https://doi.org/10.1016/j.renene.2011.04.027\n",
    "\n",
    "\n",
    "3. Feedback Linearization Control of the Inertia Wheel Pendulum\n",
    "https://sciendo.com/pdf/10.2478/cait-2014-0036\n",
    "\n",
    "\n",
    "4. Feedback linearization control of systems with singularities: a ball-beam revisit\n",
    "http://control.dei.unipd.it/public/Schenato/TESI/Tosin_2009/materiale/Feedback%20linearization%20control.PDF\n",
    "\n",
    "\n",
    "5. Robust feedback linearization for nonlinear processes control (пример с манипулятором)\n",
    "https://doi.org/10.1016/j.isatra.2018.01.017"
   ]
  },
  {
   "cell_type": "code",
   "execution_count": null,
   "id": "c81d6e71",
   "metadata": {},
   "outputs": [],
   "source": []
  }
 ],
 "metadata": {
  "kernelspec": {
   "display_name": "Python 3",
   "language": "python",
   "name": "python3"
  },
  "language_info": {
   "codemirror_mode": {
    "name": "ipython",
    "version": 3
   },
   "file_extension": ".py",
   "mimetype": "text/x-python",
   "name": "python",
   "nbconvert_exporter": "python",
   "pygments_lexer": "ipython3",
   "version": "3.8.8"
  }
 },
 "nbformat": 4,
 "nbformat_minor": 5
}
