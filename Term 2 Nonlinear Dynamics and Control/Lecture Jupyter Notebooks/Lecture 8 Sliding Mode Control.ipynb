{
 "cells": [
  {
   "cell_type": "markdown",
   "id": "5a2ae9f9",
   "metadata": {},
   "source": [
    "## Метод скользящих режимов"
   ]
  },
  {
   "cell_type": "markdown",
   "id": "00ed1f4e",
   "metadata": {},
   "source": [
    "Скользящие режимы управления предполагают наличие (осознанный выбор) некоторого многообразия в фазовом пространстве системы, движение по которому \"навязывает\" системе желаемые динамические свойства (система становится линейной или асимптотически стремится к нулю или удовлетворяет какому-то наперёд заданному условию). \n",
    "\n",
    "Метод скользящих режимов управления сводится к ответу на следующие вопросы:\n",
    "1) Найдётся ли многообразие S, по которому система \"скользит\" в нужном направлении?  \n",
    "2) Найдётся ли закон управления, приводящий систему на это многообразие за конечное время?  \n",
    "3) Найдётся ли закон управления, поддерживающий систему на многообразии?  "
   ]
  },
  {
   "cell_type": "markdown",
   "id": "52b6d18b",
   "metadata": {},
   "source": [
    "### Пример.  Стабилизация верхнего положения маятника методом скользящих режимов\n",
    "   \n",
    "$$\n",
    "m l^2 \\ddot{\\alpha} - m g l \\sin{\\alpha} = M_{\\mathrm{упр}} \\rightarrow\n",
    "\\left\\{\n",
    "    \\begin{array}\\\\\n",
    "       \\dot{\\alpha} = \\omega, \\\\\n",
    "       \\dot{\\omega} =  \\frac{g}{l}\\sin{\\alpha} + u\n",
    "    \\end{array}   \n",
    "\\right.\n",
    "$$\n",
    "\n",
    "Обозначим $b = \\frac{g}{l}$, отметим, что $b>0$ соответствует обращенному маятнику, $b=0$ -- двойному интегратору (точка на прямой под действием силы).\n",
    "   \n",
    "#### 1. Найдётся ли многообразие S, по которому система \"скользит\" в нужном направлении? \n",
    "Фазовое пространство системы двумерно и любая прямая вида \n",
    "\n",
    "\\begin{equation} \n",
    "\\omega + k \\alpha= 0 \\tag{1}\n",
    "\\end{equation}  \n",
    "\n",
    "проходящая через начало координат фазовой плоскости $(\\alpha, \\omega)$, задает диференциальное уравнение:  \n",
    "\n",
    "\\begin{equation} \n",
    "\\dot{{\\alpha}} + k\\alpha = 0, \\tag{2}\n",
    "\\end{equation}\n",
    "поскольку \n",
    "\\begin{equation} \n",
    "\\omega = \\dot{\\alpha} \n",
    "\\end{equation}  \n",
    "\n",
    "это эквивалентно экспоненциальному затуханию при некотором *с*, зависящем от начальных условий.  \n",
    "\\begin{equation} \n",
    "\\alpha(t) = сe^{-kt}. \\tag{3}\\end{equation}\n",
    "  \n",
    "Таким образом, если привести систему на линейное одномерное многообразие  \n",
    "\n",
    "\\begin{equation} \n",
    "S: k\\alpha + \\omega = 0 \\tag{4}\n",
    "\\end{equation} \n",
    "\n",
    "ей, тем самым, будут \"навязаны\" динамические свойства, определяющие сходимость траекторий системы к нулю (требуемому режиму)."
   ]
  },
  {
   "cell_type": "markdown",
   "id": "ccecbc24",
   "metadata": {},
   "source": [
    "Далее задача стабилизации нулевого равновесия сводится к двум этапам:\n",
    "\n",
    "#### 2) обеспечение сходимости $\\alpha(t), \\omega(t)$ из начальной точки $\\alpha_0, \\omega_0 $ к начальному многообразию $s = 0$ (за конечное время) \n",
    "\n",
    "Рассмотрим следующую функцию Ляпунова ($s = k\\alpha + \\omega$):\n",
    "\\begin{equation} V(\\alpha, \\omega) = s^2/2 \\tag{5}\\end{equation}\n",
    "\n",
    "Имеем\n",
    "\\begin{equation} \n",
    "\\dot{V}(\\alpha, \\omega) = s(k\\dot{\\alpha} +\\dot{\\omega}) = s(k \\omega + b \\sin{\\alpha} + u) \\le |s||k \\omega +b\\sin{\\alpha}|+su \\tag{6}\\end{equation}\n",
    "\n",
    "Выберем управление в виде:\n",
    "\\begin{equation} u = - \\beta(\\alpha, \\omega) sign(s) \\tag{7}\\end{equation}  \n",
    "где функция $\\beta(\\alpha, \\omega) > 0$ такова, что  \n",
    "\n",
    "\\begin{equation} \\beta(\\alpha, \\omega) \\ge |k \\omega + b\\sin{\\alpha}| + \\varepsilon \\tag{8}\\end{equation} \n",
    "\n",
    "где $\\varepsilon$ некоторая положительная константа, тогда\n",
    "\n",
    "\\begin{equation} \n",
    "\\dot{V}(\\alpha, \\omega) \\le |s||k \\omega +b\\sin{\\alpha}|+|s|\\beta(\\alpha, \\omega) \\le -|s|\\varepsilon = - \\sqrt{2V(\\alpha, \\omega)}\\varepsilon \\tag{9}\\end{equation}  \n",
    "\n",
    "Откуда следует оценка \n",
    "\\begin{equation} \n",
    "  \\frac{d}{dt}\\sqrt{V(\\alpha, \\omega)}\\le - \\varepsilon/2 \\end{equation}\n",
    "\n",
    "\\begin{equation}\n",
    "  \\frac{d \\sqrt{V(\\alpha, \\omega)}}{dt} = \\frac{\\dot{V}}{2\\sqrt{V}} \\end{equation}\n",
    "  \n",
    "Следовательно, начав движение с начальными данными $\\alpha(0)=\\alpha_0, \\omega(0)=\\omega_0$, получим\n",
    "\\begin{equation} \n",
    "  \\sqrt{V(\\alpha(t), \\omega(t))} \\le \\sqrt{V(\\alpha_0, \\omega_0)} - \\frac{\\varepsilon t}{2} \\tag{10}\n",
    "\\end{equation}\n",
    "  \n",
    "Из последней оценки следует $V \\to 0$ за конечное время.  \n",
    "\n",
    "После того как величина |s(t)| обратилась в нуль, она не может снова стать положительной в силу (10). Поэтому попав на многообразие $s = 0$, траектория системы больше его не покидает, а продолжает по нему \"скользить\".  \n",
    "  \n",
    "#### 3) поддержание системы на многообразии $s = 0$, что гарантирует стабилизацию нулевого равновесия   \n",
    "\n",
    "В качестве поддерживающего управления, выберем\n",
    "\n",
    "\\begin{equation} \n",
    "  u = -\\omega - \\rho \\cdot sign(s).\n",
    "\\end{equation}\n",
    "  \n",
    "  \n",
    "#### Литература  \n",
    "Б.Т. Поляк, М.В. Хлебников, Л.Б. Рапопорт Математическая теория автоматического управления: учебное пособие. - М.:ЛЕНАНД, 2019 - 500с.:ил."
   ]
  },
  {
   "cell_type": "code",
   "execution_count": 1,
   "id": "0a8a0519",
   "metadata": {},
   "outputs": [],
   "source": [
    "import numpy as np\n",
    "import scipy.integrate as sci\n",
    "import matplotlib.pyplot as plt"
   ]
  },
  {
   "cell_type": "code",
   "execution_count": 2,
   "id": "1082e634",
   "metadata": {},
   "outputs": [],
   "source": [
    "def rhs_dbl_int(t, x):\n",
    "    s = x[1] + x[0] #скользящее многообразие\n",
    "    rho = 1\n",
    "    \n",
    "    sgn = s / (np.abs(s) + 0.01)\n",
    "    u = -x[1] - rho * sgn\n",
    "    \n",
    "    dxdt = np.zeros(2)\n",
    "    dxdt[0] = x[1]\n",
    "    dxdt[1] = u\n",
    "    \n",
    "    return dxdt\n",
    "\n",
    "def rhs_inv_pnd(t, x):\n",
    "    s = x[1] + x[0] #скользящее многообразие\n",
    "    epsilon = 2\n",
    "    \n",
    "    sgn = s / (np.abs(s) + 0.01)\n",
    "    u = -(np.abs(x[1] + np.sin(x[0])) + epsilon) * sgn\n",
    "   \n",
    "    dxdt = np.zeros(2)\n",
    "    dxdt[0] = x[1]\n",
    "    dxdt[1] = -np.sin(x[0]) + u\n",
    "    \n",
    "    return dxdt"
   ]
  },
  {
   "cell_type": "code",
   "execution_count": 3,
   "id": "8f09f480",
   "metadata": {},
   "outputs": [
    {
     "data": {
      "image/png": "[encoded data removed]",
      "text/plain": [
       "<Figure size 432x288 with 1 Axes>"
      ]
     },
     "metadata": {
      "needs_background": "light"
     },
     "output_type": "display_data"
    }
   ],
   "source": [
    "x0  = [0.7, 0.3]\n",
    "t0 = 0\n",
    "tf  = 100\n",
    "\n",
    "sol_dbl_int = sci.solve_ivp(rhs_dbl_int, [t0, tf], x0, rtol  =1e-10, atol = 1e-10)\n",
    "sol_inv_pnd = sci.solve_ivp(rhs_inv_pnd, [t0, tf], x0, rtol  =1e-10, atol = 1e-10)\n",
    "\n",
    "plt.plot(sol_dbl_int.y[0,:], sol_dbl_int.y[1,:], label = 'двойной интегратор')\n",
    "plt.plot(sol_inv_pnd.y[0,:], sol_inv_pnd.y[1,:], label = 'обращённый маятник')\n",
    "plt.legend(loc='lower left')\n",
    "plt.grid()\n",
    "plt.show()"
   ]
  },
  {
   "cell_type": "markdown",
   "id": "0a740650",
   "metadata": {},
   "source": [
    "### Возможные задачи\n",
    "\n",
    "1. Rafał Wiśniewski Sliding Mode Attitude Control for Magnetic Actuated Satellite\n",
    "https://doi.org/10.1016/S1474-6670(17)41076-7\n",
    "\n",
    "\n",
    "2. A.Cavallo, G.De Maria, F.Ferrara, P.Nistri A Sliding Manifold Approach to Satellite Attitude Control\n",
    "https://doi.org/10.1016/S1474-6670(17)48874-4\n",
    "\n",
    "\n",
    "3. M.Yu.Ovchinnikov, D.S.Roldugin, V.I.Penkov, S.S.Tkachev, Y.V.Mashtakov Fully magnetic sliding mode control for acquiring three-axis attitude\n",
    "https://doi.org/10.1016/j.actaastro.2015.12.031\n",
    "\n",
    "\n",
    "4. Runcharoon, K., & Srichatrapimuk, V. (2013). Sliding Mode Control of quadrotor. 2013 The International Conference on Technological Advances in Electrical, Electronics and Computer Engineering (TAEECE).\n",
    "https://doi.org/10.1109/TAEECE.2013.6557334)\n",
    "\n",
    "\n",
    "5. Olfa Jedda, Jalel Ghabi & Ali Douik  Sliding Mode Control of an Inverted Pendulum\n",
    "https://link.springer.com/chapter/10.1007/978-981-10-2374-3_6"
   ]
  },
  {
   "cell_type": "code",
   "execution_count": null,
   "id": "f0bc37e2",
   "metadata": {},
   "outputs": [],
   "source": []
  }
 ],
 "metadata": {
  "kernelspec": {
   "display_name": "Python 3",
   "language": "python",
   "name": "python3"
  },
  "language_info": {
   "codemirror_mode": {
    "name": "ipython",
    "version": 3
   },
   "file_extension": ".py",
   "mimetype": "text/x-python",
   "name": "python",
   "nbconvert_exporter": "python",
   "pygments_lexer": "ipython3",
   "version": "3.8.8"
  }
 },
 "nbformat": 4,
 "nbformat_minor": 5
}
