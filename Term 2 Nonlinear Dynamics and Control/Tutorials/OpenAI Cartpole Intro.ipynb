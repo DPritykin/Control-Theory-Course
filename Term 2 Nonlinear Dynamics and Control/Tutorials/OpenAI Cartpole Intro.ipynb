{
 "cells": [
  {
   "cell_type": "code",
   "execution_count": 1,
   "id": "13e40bfe",
   "metadata": {},
   "outputs": [],
   "source": [
    "# pip install gymnasium\n",
    "import gymnasium as gym\n",
    "\n",
    "import numpy as np\n",
    "import random\n",
    "import os\n",
    "import collections\n",
    "\n",
    "import time\n",
    "\n",
    "import matplotlib as mpl\n",
    "import matplotlib.pyplot as plt\n",
    "import matplotlib.animation as animation\n",
    "\n",
    "mpl.rc('axes', labelsize=14)\n",
    "mpl.rc('xtick', labelsize=12)\n",
    "mpl.rc('ytick', labelsize=12)\n",
    "\n",
    "mpl.rc('animation', html='jshtml')\n",
    "\n",
    "# pip install array2gif\n",
    "from array2gif import write_gif"
   ]
  },
  {
   "cell_type": "markdown",
   "id": "7c9a57c3",
   "metadata": {},
   "source": [
    "### OpenAI Gym. Маятник на тележке - Cartpole\n",
    "\n",
    "![cartpole](https://www.gymlibrary.dev/_images/cart_pole.gif)\n",
    "\n",
    "<font size=\"3\">\n",
    "<p>Эта среда - одна из систем в <a href='https://www.gymlibrary.dev/environments/classic_control/index.html'>Classic Control environments</a>.</p>\n",
    "<div class=\"table-wrapper colwidths-auto docutils container\">\n",
    "<table class=\"docutils align-default\">\n",
    "<thead>\n",
    "<tr class=\"row-odd\"><th class=\"head\"><p></p></th>\n",
    "<th class=\"head\"><p></p></th>\n",
    "</tr>\n",
    "</thead>\n",
    "<tbody>\n",
    "<tr class=\"row-even\"><td><p>Пространство действий</p></td>\n",
    "<td><p>Discrete(2)</p></td>\n",
    "</tr>\n",
    "<tr class=\"row-odd\"><td><p>Размер вектора состояния</p></td>\n",
    "<td><p>(4,)</p></td>\n",
    "</tr>\n",
    "<tr class=\"row-even\"><td><p>Верхние границы</p></td>\n",
    "<td><p>[4.8   inf 0.42  inf]</p></td>\n",
    "</tr>\n",
    "<tr class=\"row-odd\"><td><p>Нижние границы</p></td>\n",
    "<td><p>[-4.8   -inf -0.42  -inf]</p></td>\n",
    "</tr>\n",
    "<tr class=\"row-even\"><td><p>Импорт</p></td>\n",
    "<td><p><code class=\"docutils literal notranslate\"><span class=\"pre\">gym.make(&quot;CartPole-v1&quot;)</span></code></p></td>\n",
    "</tr>\n",
    "</tbody>\n",
    "</table>\n",
    "</font>"
   ]
  },
  {
   "cell_type": "code",
   "execution_count": 2,
   "id": "a31bed45",
   "metadata": {},
   "outputs": [],
   "source": [
    "env = gym.make('CartPole-v1', render_mode = 'rgb_array')"
   ]
  },
  {
   "cell_type": "markdown",
   "id": "08714453",
   "metadata": {},
   "source": [
    "### Состояния\n",
    "\n",
    "<table class=\"docutils align-default\">\n",
    "<thead>\n",
    "<tr class=\"row-odd\"><th class=\"head\"><p>№</p></th>\n",
    "<th class=\"head\"><p>Переменная</p></th>\n",
    "<th class=\"head\"><p>Min</p></th>\n",
    "<th class=\"head\"><p>Max</p></th>\n",
    "</tr>\n",
    "</thead>\n",
    "<tbody>\n",
    "<tr class=\"row-even\"><td><p>0</p></td>\n",
    "<td><p>Положение тележки</p></td>\n",
    "<td><p>-4.8</p></td>\n",
    "<td><p>4.8</p></td>\n",
    "</tr>\n",
    "<tr class=\"row-odd\"><td><p>1</p></td>\n",
    "<td><p>Скорость тележки</p></td>\n",
    "<td><p>-Inf</p></td>\n",
    "<td><p>Inf</p></td>\n",
    "</tr>\n",
    "<tr class=\"row-even\"><td><p>2</p></td>\n",
    "<td><p>Угол маятника с вертикалью</p></td>\n",
    "<td><p>~ -0.418 rad (-24°)</p></td>\n",
    "<td><p>~ 0.418 rad (24°)</p></td>\n",
    "</tr>\n",
    "<tr class=\"row-odd\"><td><p>3</p></td>\n",
    "<td><p>Угловая скорость маятника</p></td>\n",
    "<td><p>-Inf</p></td>\n",
    "<td><p>Inf</p></td>\n",
    "</tr>\n",
    "</tbody>\n",
    "</table>"
   ]
  },
  {
   "cell_type": "code",
   "execution_count": 3,
   "id": "a1f4e170",
   "metadata": {},
   "outputs": [
    {
     "data": {
      "text/plain": [
       "4"
      ]
     },
     "execution_count": 3,
     "metadata": {},
     "output_type": "execute_result"
    }
   ],
   "source": [
    "env.observation_space.shape[0]"
   ]
  },
  {
   "cell_type": "code",
   "execution_count": 4,
   "id": "58173de1",
   "metadata": {},
   "outputs": [
    {
     "data": {
      "text/plain": [
       "(array([ 0.04229295,  0.00602789, -0.02952096,  0.03477902], dtype=float32),\n",
       " {})"
      ]
     },
     "execution_count": 4,
     "metadata": {},
     "output_type": "execute_result"
    }
   ],
   "source": [
    "obs = env.reset()\n",
    "obs"
   ]
  },
  {
   "cell_type": "code",
   "execution_count": 5,
   "id": "f13e2ce0",
   "metadata": {},
   "outputs": [
    {
     "data": {
      "text/plain": [
       "CartPole_obs(x=0.04229295, v=0.006027888, theta=-0.029520962, omega=0.034779023)"
      ]
     },
     "execution_count": 5,
     "metadata": {},
     "output_type": "execute_result"
    }
   ],
   "source": [
    "Obs = collections.namedtuple(\"CartPole_obs\", \"x v theta omega\")\n",
    "Obs(*obs[0])"
   ]
  },
  {
   "cell_type": "code",
   "execution_count": 6,
   "id": "8548987e",
   "metadata": {},
   "outputs": [
    {
     "data": {
      "text/plain": [
       "<matplotlib.image.AxesImage at 0x14d1e53b310>"
      ]
     },
     "execution_count": 6,
     "metadata": {},
     "output_type": "execute_result"
    },
    {
     "data": {
      "image/png": "[encoded data removed]",
      "text/plain": [
       "<Figure size 432x288 with 1 Axes>"
      ]
     },
     "metadata": {
      "needs_background": "light"
     },
     "output_type": "display_data"
    }
   ],
   "source": [
    "img = env.render()\n",
    "plt.imshow(img)"
   ]
  },
  {
   "cell_type": "markdown",
   "id": "fa867eaa",
   "metadata": {},
   "source": [
    "### Начальные условия\n",
    "\n",
    "Все переменные вектора состояний инициализируются случайными величинами равномерно распределёнными в интервале (-0.05, 0.05)\n",
    "\n",
    "\n",
    "### Начало эпизода"
   ]
  },
  {
   "cell_type": "code",
   "execution_count": 7,
   "id": "0243ddeb",
   "metadata": {},
   "outputs": [
    {
     "name": "stdout",
     "output_type": "stream",
     "text": [
      "CartPole_obs(x=-0.040047493, v=-0.0041600014, theta=0.045907978, omega=-0.012451039)\n"
     ]
    }
   ],
   "source": [
    "obs = env.reset()\n",
    "obs0 = Obs(*obs[0])\n",
    "print(obs0)"
   ]
  },
  {
   "cell_type": "markdown",
   "id": "7730e46c",
   "metadata": {},
   "source": [
    "### Действия\n",
    "\n",
    "<table class=\"docutils align-default\">\n",
    "<thead>\n",
    "<tr class=\"row-odd\"><th class=\"head\"><p>№</p></th>\n",
    "<th class=\"head\"><p>Действие</p></th>\n",
    "</tr>\n",
    "</thead>\n",
    "<tbody>\n",
    "<tr class=\"row-even\"><td><p>0</p></td>\n",
    "<td><p>Двинуть тележку налево</p></td>\n",
    "</tr>\n",
    "<tr class=\"row-odd\"><td><p>1</p></td>\n",
    "<td><p>Двинуть тележку направо</p></td>\n",
    "</tr>\n",
    "</tbody>\n",
    "</table>"
   ]
  },
  {
   "cell_type": "code",
   "execution_count": 8,
   "id": "5582aee8",
   "metadata": {},
   "outputs": [
    {
     "data": {
      "text/plain": [
       "Discrete(2)"
      ]
     },
     "execution_count": 8,
     "metadata": {},
     "output_type": "execute_result"
    }
   ],
   "source": [
    "env.action_space"
   ]
  },
  {
   "cell_type": "markdown",
   "id": "3e094c0d",
   "metadata": {},
   "source": [
    "### Действие  $a = 1$"
   ]
  },
  {
   "cell_type": "code",
   "execution_count": 9,
   "id": "eb1a7241",
   "metadata": {},
   "outputs": [
    {
     "name": "stdout",
     "output_type": "stream",
     "text": [
      "CartPole_obs(x=-0.040130693, v=0.19027454, theta=0.045658957, omega=-0.29030335)\n"
     ]
    }
   ],
   "source": [
    "obs, reward, terminated, truncated, info = env.step(1)\n",
    "obs1 = Obs(*obs)\n",
    "print(obs1)"
   ]
  },
  {
   "cell_type": "code",
   "execution_count": 10,
   "id": "8a0db837",
   "metadata": {},
   "outputs": [
    {
     "name": "stdout",
     "output_type": "stream",
     "text": [
      "True True\n"
     ]
    }
   ],
   "source": [
    "print(obs1.v > obs0.v, obs1.omega < obs0.omega)"
   ]
  },
  {
   "cell_type": "markdown",
   "id": "0ac2491b",
   "metadata": {},
   "source": [
    "### Действие $a = 0$"
   ]
  },
  {
   "cell_type": "code",
   "execution_count": 11,
   "id": "0457908a",
   "metadata": {},
   "outputs": [
    {
     "name": "stdout",
     "output_type": "stream",
     "text": [
      "CartPole_obs(x=-0.0363252, v=-0.0054677357, theta=0.03985289, omega=0.016423117)\n"
     ]
    }
   ],
   "source": [
    "obs, reward, terminated, truncated, info,  = env.step(0)\n",
    "obs2 = Obs(*obs)\n",
    "print(obs2)"
   ]
  },
  {
   "cell_type": "code",
   "execution_count": 12,
   "id": "1b30153e",
   "metadata": {},
   "outputs": [
    {
     "name": "stdout",
     "output_type": "stream",
     "text": [
      "True True\n"
     ]
    }
   ],
   "source": [
    "print(obs2.v < obs1.v, obs2.omega > obs1.omega)"
   ]
  },
  {
   "cell_type": "markdown",
   "id": "58879cf0",
   "metadata": {},
   "source": [
    "### Терминальные условия\n",
    "\n",
    "Эпизод заканчивается привыполнении одного из следующих условий:\n",
    "\n",
    "- Termination: Маятник отклонен от вертикали больше чем на ±12°\n",
    "\n",
    "- Termination: Положение тележки ±2.4 (центр тележки выходит за границы рисунка)\n",
    "\n",
    "- Truncation: Эпизод продолжается 500 шагов (200 для версии v0)"
   ]
  },
  {
   "cell_type": "markdown",
   "id": "893a03b2",
   "metadata": {},
   "source": [
    "### Вознаграждение\n",
    "\n",
    "Поскольку цель задачи - балансировать маятник около верхнего состояния, вознаграждение +1 назначается за каждый шаг, пока система не достигла терминального состояния."
   ]
  },
  {
   "cell_type": "code",
   "execution_count": 13,
   "id": "4a134429",
   "metadata": {},
   "outputs": [],
   "source": [
    "def plot_environment(env, figsize=(5,4)):\n",
    "    plt.figure(figsize=figsize)\n",
    "    img = env.render()\n",
    "    plt.imshow(img)\n",
    "    plt.axis(\"off\")\n",
    "    return img"
   ]
  },
  {
   "cell_type": "code",
   "execution_count": 14,
   "id": "72124754",
   "metadata": {},
   "outputs": [
    {
     "data": {
      "image/png": "[encoded data removed]",
      "text/plain": [
       "<Figure size 360x288 with 1 Axes>"
      ]
     },
     "metadata": {
      "needs_background": "light"
     },
     "output_type": "display_data"
    }
   ],
   "source": [
    "img = plot_environment(env)\n",
    "plt.show()"
   ]
  },
  {
   "cell_type": "markdown",
   "id": "faf558c3",
   "metadata": {},
   "source": [
    "### Пример класса для работы с Cartpole"
   ]
  },
  {
   "cell_type": "code",
   "execution_count": 22,
   "id": "cfafb29b",
   "metadata": {},
   "outputs": [],
   "source": [
    "class CartPolePlayer:\n",
    "    \n",
    "    def record_scenario(self, env, policy, num_frames=100) -> dict:\n",
    "        frames = []\n",
    "        obs_mat = np.empty((num_frames, 4))\n",
    "        actions = np.empty((num_frames,))\n",
    "        rewards = np.empty((num_frames,))\n",
    "        dones = np.empty((num_frames,), dtype=int)\n",
    "        first_done_info = ''\n",
    "        obs = env.reset()  # initial observation\n",
    "        obs = obs[0]\n",
    "    \n",
    "        for i in range(num_frames):\n",
    "            action = policy(obs)\n",
    "            obs, reward, terminated, truncated, info = env.step(action)\n",
    "            img = env.render()\n",
    "            frames.append(img)\n",
    "            obs_mat[i,:] = obs\n",
    "            actions[i] = action\n",
    "            rewards[i] = reward\n",
    "            dones[i] = int(terminated)\n",
    "        \n",
    "            if terminated and first_done_info == '':\n",
    "                first_done_info = info\n",
    "\n",
    "        record = {'frames': frames, 'obs': obs_mat, 'actions': actions, 'rewards': \n",
    "              rewards, 'dones': dones, 'first_done_info':first_done_info}\n",
    "        \n",
    "        return record\n",
    "\n",
    "    \n",
    "    def update_scene(self, num, frames, patch, time_text, obs_mat, actions, cum_rewards, dones):\n",
    "        patch.set_data(frames[num])\n",
    "        text = f\"frame: {num}\"\n",
    "        text += \", Obs: ({:.3f}, {:.3f}, {:.3f}, {:.3f})\\n\".format(*obs_mat[num,:])\n",
    "        text += f\"Action: {actions[num]}\"\n",
    "        text += f\", Cumulative Reward: {cum_rewards[num]}\"\n",
    "        text += f\", Done: {dones[num]}\"\n",
    "        time_text.set_text(text)\n",
    "        \n",
    "        return patch, time_text\n",
    "    \n",
    "    \n",
    "    def plot_animation(self, record, repeat=False, interval=40):\n",
    "        '''record should contain\n",
    "        frames: list of N frames\n",
    "        obs: (N, 4) array of observations\n",
    "        actions: (N, ) array of actions {0, 1}\n",
    "        rewards: (N, ) array of rewards at each step {0, 1}\n",
    "        dones: (N, 1) array of dones {0, 1}\n",
    "        '''\n",
    "        cum_rewards = np.cumsum(record['rewards'])\n",
    "        frames = record['frames']\n",
    "        fig = plt.figure()\n",
    "        patch = plt.imshow(record['frames'][0])\n",
    "        ax = plt.gca()\n",
    "        time_text = ax.text(0., 0.95,'',horizontalalignment='left',verticalalignment='top', transform=ax.transAxes)\n",
    "        plt.axis('off')\n",
    "        anim = animation.FuncAnimation(\n",
    "            fig, self.update_scene, fargs=(frames, patch, time_text, record['obs'], record['actions'], cum_rewards, record['dones']),\n",
    "            frames=len(frames), repeat=repeat, interval=interval)\n",
    "        plt.close()\n",
    "        \n",
    "        return anim   \n",
    "    \n",
    "    \n",
    "    def test_policy(self, policy_func, n_scenario = 1000, max_actions = 500, verbose=False):\n",
    "        final_rewards = []\n",
    "\n",
    "        for episode in range(n_scenario):\n",
    "            if verbose and episode % 50 == 0:\n",
    "                print(episode)\n",
    "\n",
    "            episode_rewards = 0\n",
    "            obs = env.reset()  # reset to a random position\n",
    "            obs = obs[0] # for reasons unexplained reset and step return differently formatted observations :(\n",
    "            for step in range(max_actions):\n",
    "                action = policy_func(obs)\n",
    "                obs, reward, terminated, truncated, info = env.step(action)\n",
    "                episode_rewards += reward\n",
    "                if terminated:\n",
    "                    break\n",
    "            \n",
    "            final_rewards.append(episode_rewards)\n",
    "    \n",
    "        return final_rewards\n",
    "\n",
    "    \n",
    "    def plot_policy(self, final_rewards, policy_name:str=''):\n",
    "        fig = plt.plot(range(len(final_rewards)), final_rewards)\n",
    "        plt.grid()\n",
    "        plt.title(policy_name + \" Mean Reward {:.2f}, Std Reward {:.2f}\".format(np.mean(final_rewards), np.std(final_rewards)))\n",
    "        plt.ylabel('Cum Reward')\n",
    "        plt.xlabel('Iteration')\n",
    "        plt.ylim(0, max(final_rewards) * 1.1)\n",
    "        \n",
    "        return fig\n",
    "    \n",
    "    \n",
    "    def save_gif(self, recorded_episode):\n",
    "        recorded_episode['frames'][1].shape\n",
    "        write_gif([np.transpose(f, axes=[2,0, 1]) for f in recorded_episode['frames']], 'recorded_episode.gif', fps=30)"
   ]
  },
  {
   "cell_type": "code",
   "execution_count": 23,
   "id": "3589cc83",
   "metadata": {},
   "outputs": [],
   "source": [
    "player = CartPolePlayer()"
   ]
  },
  {
   "cell_type": "markdown",
   "id": "3467ef18",
   "metadata": {},
   "source": [
    "### Стратегия случайных действий"
   ]
  },
  {
   "cell_type": "code",
   "execution_count": 24,
   "id": "09b40bce",
   "metadata": {},
   "outputs": [
    {
     "data": {
      "image/png": "[encoded data removed]",
      "text/plain": [
       "<Figure size 432x288 with 1 Axes>"
      ]
     },
     "metadata": {
      "needs_background": "light"
     },
     "output_type": "display_data"
    }
   ],
   "source": [
    "random.seed(0)\n",
    "\n",
    "def rand_policy(obs):\n",
    "    return random.randint(0, 1)\n",
    "\n",
    "rand_rewards = player.test_policy(rand_policy)\n",
    "pt = player.plot_policy(rand_rewards, \"Random Policy\")"
   ]
  },
  {
   "cell_type": "markdown",
   "id": "1b5d0acc",
   "metadata": {},
   "source": [
    "### Наивная стратегия (управление по отклонению маятника)"
   ]
  },
  {
   "cell_type": "code",
   "execution_count": 25,
   "id": "6cd88d15",
   "metadata": {},
   "outputs": [
    {
     "data": {
      "image/png": "[encoded data removed]",
      "text/plain": [
       "<Figure size 432x288 with 1 Axes>"
      ]
     },
     "metadata": {
      "needs_background": "light"
     },
     "output_type": "display_data"
    }
   ],
   "source": [
    "def theta_policy(obs):\n",
    "    angle = obs[2]\n",
    "    return 0 if angle < 0 else 1\n",
    "\n",
    "theta_rewards = player.test_policy(theta_policy)\n",
    "pt = player.plot_policy(theta_rewards, \"Theta Policy\")"
   ]
  },
  {
   "cell_type": "markdown",
   "id": "99b06b7c",
   "metadata": {},
   "source": [
    "### Наивная стратегия (управление по угловой скорости)"
   ]
  },
  {
   "cell_type": "code",
   "execution_count": 26,
   "id": "16260773",
   "metadata": {},
   "outputs": [
    {
     "data": {
      "image/png": "[encoded data removed]",
      "text/plain": [
       "<Figure size 432x288 with 1 Axes>"
      ]
     },
     "metadata": {
      "needs_background": "light"
     },
     "output_type": "display_data"
    }
   ],
   "source": [
    "def omega_policy(obs):\n",
    "    w = obs[3]\n",
    "    return 1 if w > 0 else 0\n",
    "\n",
    "omega_rewards = player.test_policy(omega_policy)\n",
    "pt = player.plot_policy(omega_rewards, \"Omega Policy\")"
   ]
  },
  {
   "cell_type": "markdown",
   "id": "6f50d844",
   "metadata": {},
   "source": [
    "### Комбинация двух наивных стратегий, внезапно приводящая к успеху"
   ]
  },
  {
   "cell_type": "code",
   "execution_count": 27,
   "id": "85dde33b",
   "metadata": {},
   "outputs": [
    {
     "data": {
      "text/plain": [
       "[<matplotlib.lines.Line2D at 0x14d25752b20>]"
      ]
     },
     "execution_count": 27,
     "metadata": {},
     "output_type": "execute_result"
    },
    {
     "data": {
      "image/png": "[encoded data removed]",
      "text/plain": [
       "<Figure size 432x288 with 1 Axes>"
      ]
     },
     "metadata": {
      "needs_background": "light"
     },
     "output_type": "display_data"
    }
   ],
   "source": [
    "def theta_omega_policy(obs):\n",
    "    theta, w = obs[2:4]\n",
    "    if abs(theta) < 0.03:\n",
    "        return 0 if w < 0 else 1\n",
    "    else:\n",
    "        return 0 if theta < 0 else 1\n",
    "\n",
    "# the cart-pole experiment will end if it lasts more than 500 steps, with info=\"'TimeLimit.truncated': True\"\n",
    "theta_omega_rewards = player.test_policy(theta_omega_policy, max_actions=510) \n",
    "player.plot_policy(theta_omega_rewards, \"Theta-Omega Policy\")"
   ]
  },
  {
   "cell_type": "markdown",
   "id": "92c22195",
   "metadata": {},
   "source": [
    "### Запись эпизода"
   ]
  },
  {
   "cell_type": "code",
   "execution_count": 21,
   "id": "d442b4fe",
   "metadata": {},
   "outputs": [],
   "source": [
    "theta_record = player.record_scenario(env, theta_omega_policy, 100)"
   ]
  },
  {
   "cell_type": "markdown",
   "id": "ce051828",
   "metadata": {},
   "source": [
    "### Анимация"
   ]
  },
  {
   "cell_type": "code",
   "execution_count": null,
   "id": "ba60a89f",
   "metadata": {},
   "outputs": [],
   "source": [
    "player.plot_animation(theta_record)"
   ]
  },
  {
   "cell_type": "markdown",
   "id": "3dbebee2",
   "metadata": {},
   "source": [
    "### Сохранение gif"
   ]
  },
  {
   "cell_type": "code",
   "execution_count": null,
   "id": "c0e03a0c",
   "metadata": {},
   "outputs": [],
   "source": [
    "player.save_gif(theta_record)\n",
    "\n",
    "# строка для маркдаун - <img src=\"recorded_episode.gif\" width=\"750\" align=\"center\">"
   ]
  },
  {
   "cell_type": "markdown",
   "id": "f5edf937",
   "metadata": {},
   "source": [
    "### Пример Q-learning\n",
    "\n",
    "пример адаптирован  [со статьи Aleksandar Haber](https://aleksandarhaber.com/q-learning-in-python-with-tests-in-cart-pole-openai-gym-environment-reinforcement-learning-tutorial/)\n",
    "\n",
    "#### класс для работы с q-learning"
   ]
  },
  {
   "cell_type": "code",
   "execution_count": null,
   "id": "369ba62b",
   "metadata": {},
   "outputs": [],
   "source": [
    "class Q_Learning:\n",
    "    ###########################################################################\n",
    "    #  __init__ function\n",
    "    ###########################################################################\n",
    "    # INPUTS: \n",
    "    # env - Cart Pole environment\n",
    "    # alpha - learning rate \n",
    "    # gamma - discount rate\n",
    "    # epsilon - parameter for epsilon-greedy approach\n",
    "    # episodes_count - total number of simulation episodes\n",
    "     \n",
    "    # bin_counts - this is a 4 dimensional list that defines the number of grid points \n",
    "    # for state discretization\n",
    "    # that is, this list contains number of bins for every state entry, \n",
    "    # we have 4 entries, that is,\n",
    "    # discretization for cart position, cart velocity, pole angle, and pole angular velocity\n",
    "     \n",
    "    # lower_bounds - lower bounds (limits) for discretization, list with 4 entries:\n",
    "    # lower bounds on cart position, cart velocity, pole angle, and pole angular velocity\n",
    " \n",
    "    # upper_bounds - upper bounds (limits) for discretization, list with 4 entries:\n",
    "    # upper bounds on cart position, cart velocity, pole angle, and pole angular velocity\n",
    "     \n",
    "    def __init__(self, env, alpha, gamma, epsilon, episodes_count, bin_counts, lower_bounds, upper_bounds):\n",
    "        import numpy as np\n",
    "         \n",
    "        self.env = env\n",
    "        self.alpha = alpha\n",
    "        self.gamma = gamma \n",
    "        self.epsilon = epsilon \n",
    "        self.actions_count = env.action_space.n \n",
    "        self.episodes_count = episodes_count\n",
    "        self.bin_counts = bin_counts\n",
    "        self.lower_bounds = lower_bounds\n",
    "        self.upper_bounds = upper_bounds\n",
    "         \n",
    "        # this list stores sum of rewards in every learning episode\n",
    "        self.episodes_cum_rewards = []\n",
    "         \n",
    "        # this matrix is the action value function matrix \n",
    "        binSz = (bin_counts[0], bin_counts[1], bin_counts[2], bin_counts[3], self.actions_count)\n",
    "        self.Qmatrix = np.random.uniform(low=0, high=1, size=binSz)\n",
    "        \n",
    "\n",
    "    ###########################################################################\n",
    "    # function \"calc_state_idx\"\n",
    "    # for the given 4-dimensional state, and discretization grid defined by \n",
    "    # numberOfBins, lowerBounds, and upperBounds, this function will return \n",
    "    # the index tuple (4-dimensional) that is used to index entries of the \n",
    "    # of the QvalueMatrix \n",
    " \n",
    " \n",
    "    # INPUTS:\n",
    "    # state - state list/array, 4 entries: \n",
    "    # cart position, cart velocity, pole angle, and pole angular velocity\n",
    " \n",
    "    # OUTPUT: 4-dimensional tuple defining the indices of the QvalueMatrix \n",
    "    # that correspond to \"state\" input\n",
    " \n",
    "    ###############################################################################\n",
    "    def calc_state_idx(self, state):\n",
    "        position        = state[0]\n",
    "        velocity        = state[1]\n",
    "        angle           = state[2]\n",
    "        angularVelocity = state[3]\n",
    "         \n",
    "        cart_pos_bin     = np.linspace(self.lower_bounds[0], self.upper_bounds[0], self.bin_counts[0])\n",
    "        cart_vel_bin     = np.linspace(self.lower_bounds[1], self.upper_bounds[1], self.bin_counts[1])\n",
    "        pole_angle_bin   = np.linspace(self.lower_bounds[2], self.upper_bounds[2], self.bin_counts[2])\n",
    "        pole_ang_vel_bin = np.linspace(self.lower_bounds[3], self.upper_bounds[3], self.bin_counts[3])\n",
    "         \n",
    "        pos_idx     = np.maximum(np.digitize(state[0], cart_pos_bin) - 1, 0)\n",
    "        vel_idx     = np.maximum(np.digitize(state[1], cart_vel_bin) - 1, 0)\n",
    "        angle_idx   = np.maximum(np.digitize(state[2], pole_angle_bin) - 1, 0)\n",
    "        ang_vel_idx = np.maximum(np.digitize(state[3], pole_ang_vel_bin) - 1, 0)\n",
    "         \n",
    "        return tuple([pos_idx, vel_idx, angle_idx, ang_vel_idx])   \n",
    "\n",
    "        \n",
    "    ###########################################################################\n",
    "    # function for selecting an action: epsilon-greedy approach\n",
    "    ###########################################################################\n",
    "    # this function selects an action on the basis of the current state \n",
    "    # INPUTS: \n",
    "    # state - state for which to compute the action\n",
    "    # index - index of the current episode\n",
    "    def select_action(self, state, index):\n",
    "         \n",
    "        # first 500 episodes we select completely random actions to have enough exploration\n",
    "        if index < 500:\n",
    "            return np.random.choice(self.actions_count)   \n",
    "             \n",
    "        # Returns a random real number in the half-open interval [0.0, 1.0)\n",
    "        # this number is used for the epsilon greedy approach\n",
    "        rand_number = np.random.random()\n",
    "         \n",
    "        # after 7000 episodes, we slowly start to decrease the epsilon parameter\n",
    "        if index > 7000:\n",
    "            self.epsilon = 0.999 * self.epsilon\n",
    "         \n",
    "        # if this condition is satisfied, we are exploring, that is, we select random actions\n",
    "        if rand_number < self.epsilon:\n",
    "            # returns a random action selected from: 0,1,...,actionNumber-1\n",
    "            return np.random.choice(self.actions_count)            \n",
    "         \n",
    "        # otherwise, we are selecting greedy actions\n",
    "        else:\n",
    "            # we return the index where Qmatrix[state,:] has the max value\n",
    "            # that is, since the index denotes an action, we select greedy actions\n",
    "            return np.random.choice(np.where(self.Qmatrix[self.calc_state_idx(state)] == np.max(self.Qmatrix[self.calc_state_idx(state)]))[0])\n",
    "            # here we need to return the minimum index since it can happen\n",
    "            # that there are several identical maximal entries, for example \n",
    "            # import numpy as np\n",
    "            # a=[0,1,1,0]\n",
    "            # np.where(a==np.max(a))\n",
    "            # this will return [1,2], but we only need a single index\n",
    "            # that is why we need to have np.random.choice(np.where(a==np.max(a))[0])\n",
    "            # note that zero has to be added here since np.where() returns a tuple\n",
    "     \n",
    "     \n",
    "    ###########################################################################\n",
    "    #  function for simulating learning episodes\n",
    "    ###########################################################################      \n",
    "    def simulate_episodes(self):\n",
    "        # here we loop through the episodes\n",
    "        for episode_idx in range(self.episodes_count):\n",
    "             \n",
    "            # list that stores rewards per episode - this is necessary for keeping track of convergence \n",
    "            episode_rewards = []\n",
    "             \n",
    "            # reset the environment at the beginning of every episode\n",
    "            current_state = self.env.reset()\n",
    "            current_state = current_state[0]\n",
    "            current_state = list(current_state) # s\n",
    "           \n",
    "            print(\"Simulating episode {}\".format(episode_idx))             \n",
    "             \n",
    "            # here we step from one state to another\n",
    "            # this will loop until a terminal state is reached\n",
    "            terminal_state = False\n",
    "            while not terminal_state:\n",
    "                # return a discretized index of the state\n",
    "                 \n",
    "                current_state_idx = self.calc_state_idx(current_state)\n",
    "                 \n",
    "                # select an action on the basis of the current state, denoted by stateS\n",
    "                current_action = self.select_action(current_state, episode_idx) #  a\n",
    "                                  \n",
    "                # here we step and return the state, reward, and boolean denoting if the state is a terminal state\n",
    "                # prime means that it is the next state\n",
    "                (next_state, reward, terminal_state, _, _) = self.env.step(current_action)          \n",
    "                 \n",
    "                episode_rewards.append(reward) # r\n",
    "                 \n",
    "                next_state = list(next_state) # s'\n",
    "                 \n",
    "                next_state_idx = self.calc_state_idx(next_state)\n",
    "                 \n",
    "                # return the max value, we do not need actionAprime...\n",
    "                Qmax_next = np.max(self.Qmatrix[next_state_idx])\n",
    "                                              \n",
    "                if not terminal_state:\n",
    "                    # state+(action,) - we use this notation to append the tuples\n",
    "                    # for example, for current_state = (0, 0, 0, 1) and current_action = (1, 0)\n",
    "                    # we have current_state + (current_action,) = (0, 0, 0, 1, 0)\n",
    "                    q_update = reward + self.gamma * Qmax_next - self.Qmatrix[current_state_idx + (current_action,)]\n",
    "                    self.Qmatrix[current_state_idx + (current_action,)] = self.Qmatrix[current_state_idx + (current_action,)] + self.alpha * q_update\n",
    "                else:\n",
    "                    # in the terminal state, we have Qmatrix[next_state, next_action] = 0 \n",
    "                    q_update = reward - self.Qmatrix[current_state_idx + (current_action,)]\n",
    "                    self.Qmatrix[current_state_idx + (current_action,)] = self.Qmatrix[current_state_idx + (current_action,)] + self.alpha * q_update\n",
    "                 \n",
    "                # set the current state to the next state                    \n",
    "                current_state = next_state\n",
    "         \n",
    "            print(\"Sum of rewards {}\".format(np.sum(episode_rewards)))        \n",
    "            self.episodes_cum_rewards.append(np.sum(episode_rewards))\n",
    "     \n",
    "     \n",
    "    ###########################################################################\n",
    "    # function for simulating the final learned optimal policy\n",
    "    ###########################################################################\n",
    "    # OUTPUT: \n",
    "    # obtained_rewards - a list of obtained rewards during time steps of a single episode    \n",
    "    # cartpole_env - created Cart Pole environment\n",
    "     \n",
    "    # simulate the final learned optimal policy\n",
    "    def simulate_learned_strategy(self):\n",
    "        cartpole_env = gym.make('CartPole-v1', render_mode = 'human')\n",
    "        state = cartpole_env.reset()\n",
    "        state = state[0]\n",
    "        cartpole_env.render()\n",
    "        time_steps = 1000\n",
    "        \n",
    "        # obtained rewards at every time step\n",
    "        obtained_rewards = []\n",
    "         \n",
    "        for time_step_idx in range(time_steps):\n",
    "            print(time_step_idx)\n",
    "            \n",
    "            # select greedy actions\n",
    "            action = np.random.choice(np.where(self.Qmatrix[self.calc_state_idx(state)] == np.max(self.Qmatrix[self.calc_state_idx(state)]))[0])\n",
    "            state, reward, terminated, truncated, info = cartpole_env.step(action)\n",
    "            obtained_rewards.append(reward)\n",
    "            \n",
    "            time.sleep(0.05)\n",
    "            if (terminated):\n",
    "                time.sleep(1)\n",
    "                break\n",
    "\n",
    "        return obtained_rewards, cartpole_env\n",
    "    \n",
    "    \n",
    "    ###########################################################################\n",
    "    #   function for simulating random actions many times\n",
    "    #   this is used to evaluate the optimal policy and to compare it with a random policy\n",
    "    ###########################################################################\n",
    "    #  OUTPUT:\n",
    "    # cartpole_env - created Cart Pole environment\n",
    "    # episodes_cum_rewards - every entry of this list is a sum of rewards obtained by simulating the corresponding episode\n",
    "    def simulate_random_strategy(self):\n",
    "        cartpole_env = gym.make('CartPole-v1', render_mode = 'human')\n",
    "        state = cartpole_env.reset()\n",
    "        state = state[0]\n",
    "        cartpole_env.render()\n",
    "        # number of simulation episodes\n",
    "        episodes_count = 100\n",
    "        # time steps in every episode\n",
    "        time_steps = 1000\n",
    "        # sum of rewards in each episode\n",
    "        episodes_cum_rewards = []         \n",
    "         \n",
    "        for episode_idx in range(episodes_count):\n",
    "            episode_rewards = []\n",
    "            initial_state = cartpole_env.reset()\n",
    "            print(episodeIndex)\n",
    "\n",
    "            for timeIndex in range(time_steps):\n",
    "                random_action=cartpole_env.action_space.sample()\n",
    "                observation, reward, terminated, truncated, info = cartpole_env.step(random_action)\n",
    "                episode_rewards.append(reward)\n",
    "\n",
    "                if (terminated):\n",
    "                    break\n",
    "\n",
    "            episodes_cum_rewards.append(np.sum(episode_rewards))\n",
    "            \n",
    "        return episodes_cum_rewards, cartpole_env "
   ]
  },
  {
   "cell_type": "markdown",
   "id": "53dbc6cb",
   "metadata": {},
   "source": [
    "#### пример работы с q-learning классом"
   ]
  },
  {
   "cell_type": "code",
   "execution_count": null,
   "id": "5c4a458f",
   "metadata": {},
   "outputs": [],
   "source": [
    "env = gym.make('CartPole-v1', render_mode = 'human')\n",
    "state = env.reset()\n",
    " \n",
    "# here define the parameters for state discretization\n",
    "upper_bounds = env.observation_space.high\n",
    "lower_bounds = env.observation_space.low\n",
    "cart_velocity_min = -3\n",
    "cart_velocity_max = 3\n",
    "pole_angle_velocity_min = -10\n",
    "pole_angle_velocity_max = 10\n",
    "upper_bounds[1] = cart_velocity_max\n",
    "upper_bounds[3] = pole_angle_velocity_max\n",
    "lower_bounds[1] = cart_velocity_min\n",
    "lower_bounds[3] = pole_angle_velocity_min\n",
    " \n",
    "posiiton_bins_count = 30\n",
    "velocity_bins_count = 30\n",
    "angle_bins_count = 30\n",
    "ang_velocity_bins_count = 30\n",
    "bins_counts = [posiiton_bins_count, velocity_bins_count, angle_bins_count, ang_velocity_bins_count]\n",
    " \n",
    "# define the parameters\n",
    "alpha = 0.1\n",
    "gamma = 1\n",
    "epsilon = 0.2\n",
    "episodes_count = 15000\n",
    " \n",
    "# create an object\n",
    "Q1 = Q_Learning(env, alpha, gamma, epsilon, episodes_count, bins_counts, lower_bounds, upper_bounds)\n",
    "# run the Q-Learning algorithm\n",
    "Q1.simulate_episodes()\n",
    "# simulate the learned strategy\n",
    "(optimal_rewards, env1) = Q1.simulate_learned_strategy()\n",
    " \n",
    "plt.figure(figsize=(12, 5))\n",
    "\n",
    "# plot the figure and adjust the plot parameters\n",
    "plt.plot(Q1.episodes_cum_rewards, color='blue', linewidth=1)\n",
    "plt.xlabel('Episode')\n",
    "plt.ylabel('Reward')\n",
    "plt.yscale('log')\n",
    "plt.show()\n",
    "plt.savefig('convergence.png')\n",
    " \n",
    "# close the environment\n",
    "env1.close()\n",
    "# get the sum of rewards\n",
    "np.sum(optimal_rewards)\n",
    " \n",
    "# now simulate a random strategy\n",
    "(rand_strategy_rewards, env2) = Q1.simulate_random_strategy()\n",
    "plt.hist(rand_strategy_rewards)\n",
    "plt.xlabel('Sum of rewards')\n",
    "plt.ylabel('Percentage')\n",
    "plt.savefig('histogram.png')\n",
    "plt.show()\n",
    " \n",
    "# run this several times and compare with a random learning strategy\n",
    "(optimal_rewards, env1) = Q1.simulate_learned_strategy()"
   ]
  }
 ],
 "metadata": {
  "kernelspec": {
   "display_name": "Python 3",
   "language": "python",
   "name": "python3"
  },
  "language_info": {
   "codemirror_mode": {
    "name": "ipython",
    "version": 3
   },
   "file_extension": ".py",
   "mimetype": "text/x-python",
   "name": "python",
   "nbconvert_exporter": "python",
   "pygments_lexer": "ipython3",
   "version": "3.8.8"
  }
 },
 "nbformat": 4,
 "nbformat_minor": 5
}
