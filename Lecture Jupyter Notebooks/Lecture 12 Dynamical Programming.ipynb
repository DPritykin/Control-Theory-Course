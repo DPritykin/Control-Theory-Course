{
 "cells": [
  {
   "cell_type": "markdown",
   "metadata": {},
   "source": [
    "# Постановка задачи оптимального управления\n",
    "\n",
    "$\\dot{x} = f(x,u,t), \\qquad  x \\in \\mathbb{R}^n, \\qquad  u \\in \\mathbb{U}^m$\n",
    "\n",
    "$x$ - вектор фазовых переменных, $u$ - вектор управляющих параметров.\n",
    "\n",
    "Начальные и терминальные условия условия:\n",
    "\n",
    "$$x(t_0) \\in A = \\left\\{\n",
    "    \\begin{array}\\\\\n",
    "       a_1(x,t) = 0 \\\\\n",
    "        \\dots \\\\\n",
    "        a_l(x,t) = 0\n",
    "    \\end{array}   \n",
    "\\right. \\qquad\n",
    "x(t_f) \\in B = \\left\\{\n",
    "    \\begin{array}\\\\\n",
    "       b_1(x,t) = 0 \\\\\n",
    "        \\dots \\\\\n",
    "        b_r(x,t) = 0\n",
    "    \\end{array}   \n",
    "\\right.$$\n",
    "\n",
    "\n",
    "Функционал\n",
    "$$\\int_{t_0}^{t_f}I(x,u,t)dt + \\Phi(x(t_f), t_f) \\rightarrow \\max_u$$"
   ]
  },
  {
   "cell_type": "markdown",
   "metadata": {},
   "source": [
    "# Принцип оптимальности\n",
    "\n",
    "Оптимальное поведение системы обладает тем свойством, что каковы бы ни были начальное состояние системы и принятое начальное решение (то есть управление), последующие решения должны составлять оптимальное поведение относительно состояния, получающегося в результате первоначального поведения."
   ]
  },
  {
   "cell_type": "markdown",
   "metadata": {},
   "source": [
    "# Уравнение Беллмана\n",
    "\n",
    "Пусть  поставленная задача оптимального управления имеет решение. Максимальное значение функционала для начального состояния $x, t$:\n",
    "$$J^* = V(x,t)$$\n",
    "\n",
    "Будем называть $V(x,t)$ функцией оптимального поведения или опорной функцией.\n",
    "\n",
    "Если $V(\\xi,\\tau)$ - опорная функция, согласно принципу оптимальности $V(\\xi + d\\xi, \\tau + d\\tau)$ - значение опорной функции для начальных условий $(\\xi + d\\xi, \\tau + d\\tau)$, лежащих на той же траектории, что и $(\\xi, \\tau)$.\n",
    "\n",
    "Поскольку приращение опорной функции на фиксированной траектории может происходить только за счёт изменения интеграла, оно равно $I(x,u,t)d\\tau$\n",
    "\n",
    "Таким образом\n",
    "$$V(x,t) = \\max_{u \\in U}(I(x,u,t)\\Delta t + V(x+\\Delta x, t + \\Delta t)) \\tag{1}$$.\n",
    "\n",
    "Если $V(x,t)$ достаточно гладкая\n",
    "$$V(x+\\Delta x, t+\\Delta t) = V(x,t) + \\frac{\\partial V}{\\partial x}\\Delta x + \\frac{\\partial V}{\\partial t}\\Delta t + \\dots \\tag{2}$$\n",
    "\n",
    "Подставляя (2) в (1), получим\n",
    "\n",
    "$$0 = \\max_{u(t)} \\left[ I(x,u,t) + \\frac{\\partial V}{\\partial x}\\frac{\\Delta x}{\\Delta t} + \\frac{\\partial V}{\\partial t} \\right ]$$\n",
    "\n",
    "Переходя к пределу и заменяя $\\dot{x}$ на $f(x,u,t)$, получим окончательно\n",
    "$$\\frac{\\partial V}{\\partial t} + \\max_{u(t)} \\left[ I(x,u,t) + \\frac{\\partial V}{\\partial x} \\cdot f(x,u,t)\\right]= 0$$\n",
    "\n",
    "Уравнение (3) с условием  на конечное состояние $V(x(t_f),t_f) = \\Phi(x(t_f), t_f)$ называют уравнением Беллмана."
   ]
  },
  {
   "cell_type": "markdown",
   "metadata": {},
   "source": [
    "# Достаточные условия оптимальности\n",
    "\n",
    "Если существует опорная функция $V(x,t)$, удовлетворяющая уравнению Беллмана, то по ней можно построить синтез оптимального управления для исходной задачи."
   ]
  },
  {
   "cell_type": "markdown",
   "metadata": {},
   "source": [
    "# Метод динамического программирования\n",
    "\n",
    "1. Для поставленной задачи оптимального управления состаывить и решить уравнеине Беллмана, то есть найти функцию $V(x,t)$\n",
    "\n",
    "2. Используя полученную на предыдущем шаге функцию $V(x,t)$, построить синтез управления $u^{*}(x,t)$. Для этого в каждой точке $x \\in \\mathbb{R}^n$ и для каждого момента времени $t \\in [t_0, t_f]$ определим\n",
    "\n",
    "$$v(x,t) = v \\in \\mathbb{U}^m$$\n",
    "\n",
    "как значение параметра, для которого достигается максимум в уравнении Беллмана, то есть $v(x,t)$ выбирается так, что:\n",
    "\n",
    "$$\\frac{\\partial V(x,t)}{\\partial t} + I(x,v(x,t),t) + \\frac{\\partial V(x,t)}{\\partial x} \\cdot f(x,v(x,t),t)= 0$$\n",
    "\n",
    "Затем решается задача Коши (в предположении достаточной гладкости $v(x,t)$):\n",
    "\n",
    "$$\\left\\{\n",
    "    \\begin{array}\\\\\n",
    "       \\dot{x}^{*}(s) = f(x^{*}(s), v(x^{*}(s),s), s) \\qquad (s \\in [t, t_f]) \\\\\n",
    "        x(t) = x\n",
    "    \\end{array}   \n",
    "\\right.$$\n",
    "\n",
    "Наконец, синтез управления определяется как\n",
    "$$u^{*}(s) = v(x^{*}(s), s).$$"
   ]
  },
  {
   "cell_type": "markdown",
   "metadata": {},
   "source": [
    "# Пример. Синтез управления материальной точкой\n",
    "\n",
    "Уравнения движения материальной точки, которая может перемещаться по прямой под действием управляющего воздействия F:\n",
    "$$m \\cdot \\ddot{x} = F$$\n",
    "\n",
    "Или\n",
    "$$\\left\\{\n",
    "\\begin{array}\\\\\n",
    "\\dot{x} = v \\\\\n",
    "\\dot{v} = u\n",
    "\\end{array}\n",
    "\\right.$$\n",
    "\n",
    "В качестве функционала рассмотрим интеграл:\n",
    "$$- \\int_{t_0}^{t_f} (x^2 +u^2) dt \\rightarrow \\max_u $$\n",
    "\n",
    "Граничные условия задачи:\n",
    "$$t_0 = 0 \\qquad x(t_0) = x_0 \\qquad v(t_0) = v_0 \\qquad x(t_f) = 0.$$\n",
    "\n",
    "Конечный момент времени не фиксирован.\n",
    "\n",
    "Предполагая, что управление выбирается среди внутренних точек области допустимых управлений, можно записать:\n",
    "$$\\left\\{\n",
    "\\begin{array}\\\\\n",
    "-(x^2 +u^2) + \\frac{\\partial V}{\\partial x}\\cdot v +  \\frac{\\partial V}{\\partial v}\\cdot u = 0 \\\\\n",
    "-2 \\cdot u + \\frac{\\partial V}{\\partial v} = 0\n",
    "\\end{array}\n",
    "\\right. \\rightarrow u = \\frac{1}{2}\\frac{\\partial V}{\\partial v}$$\n",
    "\n",
    "Подставляя выражение для u в первое уравнение, получим\n",
    "$$-x^2 + \\frac{1}{4}\\left(\\frac{\\partial V}{\\partial v}\\right)^2 + \\frac{\\partial V}{\\partial x}\\cdot v = 0.$$\n",
    "\n",
    "Будем искать V в виде квадратичной формы:\n",
    "$$V(x,t) = a\\cdot x^2 + 2b\\cdot x\\cdot v + c\\cdot v^2,$$\n",
    "\n",
    "тогда\n",
    "$$x^2 \\cdot(b^2 - 1) + v^2 \\cdot(c^2 + 2b) + v\\cdot x\\cdot(2dc + 2a) = 0.$$\n",
    "\n",
    "Таким образом:\n",
    "$$b = -1, \\qquad c = \\pm\\sqrt{2}, \\qquad a = \\pm\\sqrt{2}.$$\n",
    "\n",
    "Поскольку\n",
    "$$V(x(t_f), t_f) = -(x^2 +u^2),$$\n",
    "\n",
    "что является величиной неположительной, получаем окончательно, что\n",
    "\n",
    "$$V(x,t) = -\\sqrt{2}\\cdot x^2 - 2x\\cdot v - \\sqrt{2}v^2.$$\n",
    "\n",
    "Окончательно\n",
    "$$u = \\frac{1}{2}\\frac{\\partial V}{\\partial v} = -x - \\sqrt{2}\\cdot v$$"
   ]
  },
  {
   "cell_type": "code",
   "execution_count": 1,
   "metadata": {},
   "outputs": [],
   "source": [
    "import numpy as np\n",
    "import matplotlib.pyplot as plt\n",
    "from scipy.integrate import solve_ivp"
   ]
  },
  {
   "cell_type": "code",
   "execution_count": 16,
   "metadata": {},
   "outputs": [],
   "source": [
    "def u(x, v):\n",
    "    return - x - np.sqrt(2)*v\n",
    "\n",
    "def ode(t, x):\n",
    "    return [x[1], u(x[0], x[1])]\n",
    "\n",
    "def ev(t, x):\n",
    "    return x[0]\n",
    "\n",
    "def get_trajectory(x0, v0, t0, xf):\n",
    "    ev.terminal = True\n",
    "    sol = solve_ivp(lambda t, y: ode(t, y), (t0, 1e6), [x0, v0], atol = 1e-10, rtol = 1e-10, events = ev)\n",
    "    return sol.y.T"
   ]
  },
  {
   "cell_type": "code",
   "execution_count": 22,
   "metadata": {},
   "outputs": [
    {
     "data": {
      "image/png": "[encoded data removed]",
      "text/plain": [
       "<Figure size 432x288 with 1 Axes>"
      ]
     },
     "metadata": {
      "needs_background": "light"
     },
     "output_type": "display_data"
    }
   ],
   "source": [
    "x0 = 20\n",
    "v0 = 30\n",
    "t0 = 0\n",
    "xf = 0\n",
    "\n",
    "pltlim = max([x0, v0]) * 1.1\n",
    "\n",
    "x = get_trajectory(x0, v0, t0, xf)\n",
    "\n",
    "fig = plt.figure()\n",
    "ax = fig.add_subplot(111)\n",
    "plt.xlim(-pltlim, pltlim)\n",
    "plt.ylim(-pltlim, pltlim)\n",
    "ax.plot(x[:, 0], x[:, 1])\n",
    "ax.grid(True)\n",
    "ax.set_title('Phase Plane')\n",
    "ax.set_ylabel(r'v, [m/s]')\n",
    "ax.set_xlabel(r'x, [m]')\n",
    "ax.set_aspect('equal')"
   ]
  },
  {
   "cell_type": "markdown",
   "metadata": {},
   "source": [
    "1. Более содержательные примеры по методу динамического управления можно найти, например, здесь\n",
    "\n",
    "https://math.berkeley.edu/~evans/control.course.pdf\n",
    "\n",
    "глава 5\n",
    "\n",
    "Их же можно разобрать в качестве домашних задач.\n",
    "\n",
    "2. Также домашние задачи можно взять по ссылке\n",
    "\n",
    "https://www.nes.ru/files/mae/academic%20program/Syllabus-Computational-Macroeconomics.pdf"
   ]
  },
  {
   "cell_type": "code",
   "execution_count": null,
   "metadata": {},
   "outputs": [],
   "source": []
  }
 ],
 "metadata": {
  "kernelspec": {
   "display_name": "Python 3",
   "language": "python",
   "name": "python3"
  },
  "language_info": {
   "codemirror_mode": {
    "name": "ipython",
    "version": 3
   },
   "file_extension": ".py",
   "mimetype": "text/x-python",
   "name": "python",
   "nbconvert_exporter": "python",
   "pygments_lexer": "ipython3",
   "version": "3.8.8"
  }
 },
 "nbformat": 4,
 "nbformat_minor": 4
}
