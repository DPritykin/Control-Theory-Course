{
 "cells": [
  {
   "cell_type": "markdown",
   "id": "f466cb2e",
   "metadata": {},
   "source": [
    "# Постановка задачи оптимального управления\n",
    "\n",
    "$\\dot{x} = f(x,u,t), \\qquad  x \\in \\mathbb{R}^n, \\qquad  u \\in \\mathbb{U}^m$\n",
    "\n",
    "$x$ - вектор фазовых переменных, $u$ - вектор управляющих параметров.\n",
    "\n",
    "Начальные и терминальные условия условия:\n",
    "\n",
    "$$x(t_0) \\in A = \\left\\{\n",
    "    \\begin{array}\\\\\n",
    "       a_1(x,t) = 0 \\\\\n",
    "        \\dots \\\\\n",
    "        a_l(x,t) = 0\n",
    "    \\end{array}   \n",
    "\\right. \\qquad\n",
    "x(t_f) \\in B = \\left\\{\n",
    "    \\begin{array}\\\\\n",
    "       b_1(x,t) = 0 \\\\\n",
    "        \\dots \\\\\n",
    "        b_r(x,t) = 0\n",
    "    \\end{array}   \n",
    "\\right.$$\n",
    "\n",
    "\n",
    "Функционал\n",
    "$$\\Phi(x(t_f), t_f) \\rightarrow \\max_u$$"
   ]
  },
  {
   "cell_type": "markdown",
   "id": "fd6e392f",
   "metadata": {},
   "source": [
    "# Вспомогательные конструкции\n",
    "\n",
    "Вектор сопряжённых переменных:\n",
    "\n",
    "$$p \\in \\mathbf{R}^n$$\n",
    "\n",
    "Функция Гамильтона-Понтрягина (гамильтониан):\n",
    "\n",
    "$$H(x,p,u,t) = p'\\cdot f$$\n",
    "\n",
    "Дифференциальные уравнения для фазовых и сопряжённых переменных:\n",
    "\n",
    "$$\\begin{equation}\\tag{1}\n",
    " \\left\\{\n",
    "    \\begin{array}\\\\\n",
    "       \\dot{x} = \\frac{\\partial H}{\\partial p} \\\\\n",
    "       \\dot{p} = -\\frac{\\partial H}{\\partial x} \n",
    "    \\end{array}   \n",
    "\\right.\n",
    "\\end{equation}$$\n",
    "\n",
    "Расширенный вектор фазовых переменных:\n",
    "$$P = \\left( \n",
    "    \\begin{array}\\\\\n",
    "       p \\\\\n",
    "       -H \n",
    "    \\end{array}\n",
    "\\right)$$\n",
    "\n",
    "Расширенное терминальное многообразие:\n",
    "$$B^* = B \\cap (\\Phi - \\Phi^* = 0)$$\n",
    "\n",
    "Условия трансверсальности:\n",
    "$$\\begin{equation}\\tag{2}\n",
    "P(t_0) \\perp A, \\qquad P(t_f) \\perp B^*\n",
    "\\end{equation}$$"
   ]
  },
  {
   "cell_type": "markdown",
   "id": "480433ec",
   "metadata": {},
   "source": [
    "# Принцип маскимума Понтрягина\n",
    "\n",
    "Для того чтобы некоторое управление $u(t)$ было оптимальным, необходимо, чтобы на соответствующей ему траектории $x(t), p(t)$ для системы (1) с граничными условиями (2) выполнялось условие:\n",
    "$$H(x,p,u,t) = \\max_{v\\in\\mathbb{U}}H(x,p,v,t), \\quad t \\in [t_0,t_f]$$\n",
    "\n",
    "Примечание: в задаче с закреплённым левым концом (старт из фиксированной точки) и свободным левым (терминальное многообразие определяется только заданным моментом времени $t_f$) условия трансверсальности выглядят следующим образом:\n",
    "$$p(t_f) = \\frac{\\partial \\Phi(x,t)}{\\partial x}$$"
   ]
  },
  {
   "cell_type": "markdown",
   "id": "148d0dd9",
   "metadata": {},
   "source": [
    "# Пример (управление одномерным осциллятором)\n",
    "\n",
    "Уравнения модели:\n",
    "$$m\\cdot \\ddot{x} + k\\cdot x = F(t) \\qquad \\rightarrow \\qquad  \n",
    "\\left\\{\n",
    "    \\begin{array}\\\\\n",
    "       \\dot{x} = v \\\\\n",
    "       \\dot{v} = -\\omega^2 \\cdot x + u\n",
    "    \\end{array}   \n",
    "\\right. \n",
    "\\qquad \\omega^2 = \\frac{k}{m}, \\qquad \\frac{F(t)}{m} = u, \\qquad |u| \\leq u^{*}\n",
    "$$\n",
    "\n",
    "Начальное многообразие:\n",
    "$$    \\begin{array}\\\\\n",
    "       x(0) = 0 \\\\\n",
    "       v(0) = 0\n",
    "    \\end{array}  \n",
    "\\qquad \\rightarrow \\qquad   \n",
    "x(t_0) \\in A = \\left\\{\n",
    "    \\begin{array}\\\\\n",
    "       x = 0 \\\\\n",
    "       v = 0 \\\\\n",
    "       t = 0\n",
    "    \\end{array}   \n",
    "\\right.\n",
    "$$\n",
    "\n",
    "Требуется обеспечить максимальное значение координаты $x$ к моменту времени $t_f$, таким образом, функционал задачи:\n",
    "$$\\Phi(x(t_f), t_f) = x(t_f) \\rightarrow \\max_{u}$$\n",
    "\n",
    "Функция Гамильтона-Понтрягина:\n",
    "$$H(x,p,u,t) = p_x \\cdot v + p_v \\cdot (-\\omega^2 \\cdot x + u)$$\n",
    "\n",
    "Управление $u$ входит в $H$ линейно, а значит, чтобы удовлетворить условиям принципа максимума\n",
    "$$u(t) = u^{*} \\cdot sign(p_v)$$\n",
    "\n",
    "Дифференциальные уравнения на сопряженные переменные:\n",
    "$$\n",
    "\\left\\{\n",
    "    \\begin{array}\\\\\n",
    "       \\dot{p_x} = -\\frac{\\partial H}{\\partial x} = \\omega^2 p_v \\\\\n",
    "       \\dot{p_v} = -\\frac{\\partial H}{\\partial x} = - p_x\n",
    "    \\end{array}   \n",
    "\\right. \n",
    "$$\n",
    "\n",
    "Условия трансверсальности на левом конце:\n",
    "$$P(t_0) = \\lambda_x \\cdot\\frac{\\partial x}{\\partial \\left(\n",
    "    \\begin{array}\\\\\n",
    "       x \\\\\n",
    "       v \\\\\n",
    "       t\n",
    "    \\end{array}   \n",
    "\\right)} +\n",
    "\\lambda_v \\cdot\\frac{\\partial v}{\\partial \\left(\n",
    "    \\begin{array}\\\\\n",
    "       x \\\\\n",
    "       v \\\\\n",
    "       t\n",
    "    \\end{array}   \n",
    "\\right)} +\n",
    "\\lambda_t \\cdot\\frac{\\partial t}{\\partial \\left(\n",
    "    \\begin{array}\\\\\n",
    "       x \\\\\n",
    "       v \\\\\n",
    "       t\n",
    "    \\end{array}   \n",
    "\\right)}=\n",
    "\\left(\n",
    "    \\begin{array}\\\\\n",
    "       \\lambda_x \\\\\n",
    "       \\lambda_v \\\\\n",
    "       \\lambda_t\n",
    "    \\end{array}   \n",
    "\\right),\n",
    "$$\n",
    "\n",
    "то есть точке ортогонален любой вектор и никаких дополнительных ограничений на векотр сопряжённых переменных на левом конце ($t = 0$) не возникает.\n",
    "\n",
    "Многообразие $B^{*}$ определяется как\n",
    "$$B^{*} = \\left\\{\n",
    "    \\begin{array}\\\\\n",
    "       t = t_f \\\\\n",
    "       x - x^{*} = 0\n",
    "    \\end{array}   \n",
    "\\right. ,$$\n",
    "где $x^{*}$ неизвестное оптимальное значение функционала.\n",
    "\n",
    "Условие трансверсальности на правом конце (заметьте, что множитель Лагранжа при функционале равен 1):\n",
    "$$P(t_f) = \\frac{\\partial \\Phi}{\\partial \n",
    "\\left(\n",
    "    \\begin{array}\\\\\n",
    "       x \\\\\n",
    "       v \\\\\n",
    "       t\n",
    "    \\end{array}   \n",
    "\\right)} + \n",
    "\\lambda_{tf} \\cdot \\frac{\\partial t}{\\partial \n",
    "\\left(\n",
    "    \\begin{array}\\\\\n",
    "       x \\\\\n",
    "       v \\\\\n",
    "       t\n",
    "    \\end{array}   \n",
    "\\right)} = \n",
    "\\left(\n",
    "    \\begin{array}\\\\\n",
    "       1 \\\\\n",
    "       0 \\\\\n",
    "       \\lambda_{tf}\n",
    "    \\end{array}   \n",
    "\\right).$$\n",
    "\n",
    "Таким образом, уравнения на сопряжённые переменные имеют следующие решения:\n",
    "$$\n",
    "    \\begin{array}\\\\\n",
    "       p_x(t) = \\cos{(\\omega \\cdot (t - t_f))} \\\\\n",
    "       p_v(t) = - \\frac{1}{\\omega} \\sin{(\\omega \\cdot (t - t_f))} \n",
    "    \\end{array}\n",
    "$$\n",
    "\n",
    "Синтезированное оптимальное управление:\n",
    "$$ u(t) = u^{*} \\cdot sign(-\\sin{(\\omega \\cdot (t - t_f))})$$."
   ]
  },
  {
   "cell_type": "code",
   "execution_count": 2,
   "id": "4c4bbe71",
   "metadata": {},
   "outputs": [],
   "source": [
    "import numpy as np\n",
    "from numpy import cos, sin, tan\n",
    "import scipy.integrate as sci\n",
    "import matplotlib.pyplot as plt"
   ]
  },
  {
   "cell_type": "code",
   "execution_count": 3,
   "id": "9d779a5d",
   "metadata": {},
   "outputs": [],
   "source": [
    "class Parameters(object):\n",
    "    pass\n",
    "\n",
    "\n",
    "# Physical parameter\n",
    "param = Parameters()  # instance of class Parameters\n",
    "param.m = 1      # mass\n",
    "param.k = 2      # spring constant\n",
    "param.f_max = 1  # max force\n",
    "param.u_max = param.f_max / param.m \n",
    "param.omega = np.sqrt(param.k / param.m)\n",
    "param.omega2 = param.k / param.m\n",
    "\n",
    "# Simulation parameter\n",
    "sim_param = Parameters()  # instance of class Parameters\n",
    "sim_param.t0 = 0          # start time\n",
    "sim_param.tf = 10         # final time\n",
    "sim_param.dt = 0.01       # step-size"
   ]
  },
  {
   "cell_type": "code",
   "execution_count": 4,
   "id": "e8c43256",
   "metadata": {},
   "outputs": [],
   "source": [
    "def rhs(t, x, p):\n",
    "    dxdt = np.zeros(2)\n",
    "    \n",
    "    r = x[0]   # position vector\n",
    "    v = x[1]   # velocity vector \n",
    "    \n",
    "    u = control(t, p)  # control vector\n",
    "    \n",
    "    # dxdt = f(x, u, t):\n",
    "    dxdt[0] = v\n",
    "    dxdt[1] = - p.omega2 * r + u\n",
    "\n",
    "    # return state derivative\n",
    "    return dxdt"
   ]
  },
  {
   "cell_type": "code",
   "execution_count": 5,
   "id": "69ada0ea",
   "metadata": {},
   "outputs": [],
   "source": [
    "def control(t, p):\n",
    "    \n",
    "    u = p.u_max * np.sign(-np.sin(p.omega * (t - sim_param.tf)))\n",
    "\n",
    "    return u"
   ]
  },
  {
   "cell_type": "code",
   "execution_count": 6,
   "id": "ccf0f1e7",
   "metadata": {},
   "outputs": [],
   "source": [
    "def plot_data(x, u, t, fig_width, fig_height):\n",
    "    \"\"\"Plotting function of simulated state and actions\n",
    "    Args:\n",
    "        x(ndarray) : state-vector trajectory\n",
    "        u(ndarray) : control vector trajectory\n",
    "        t(ndarray) : time vector\n",
    "        fig_width  : figure width in cm\n",
    "        fig_height : figure height in cm\n",
    "        save (bool): save figure (default: False)\n",
    "    Returns: None\n",
    "    \"\"\"\n",
    "    # creating a figure with 2 subplots, that share the x-axis\n",
    "    fig1, (ax1, ax2) = plt.subplots(2)\n",
    "\n",
    "\n",
    "    # plot coords in subplot 1\n",
    "    ax1.plot(t, x[:, 0], color='r')\n",
    "\n",
    "    # plot velocities in subplot 2\n",
    "    ax2.plot(t, np.rad2deg(u[:]), label=r'$u(t)$', lw=1, color='b')\n",
    "\n",
    "    # Grids\n",
    "    ax1.grid(True)\n",
    "    ax2.grid(True)\n",
    "    \n",
    "    # set the labels on the x and y axis and the titles\n",
    "    ax1.set_title('Position')\n",
    "    ax1.set_ylabel(r'm')\n",
    "    ax1.set_xlabel(r't in s')\n",
    "    ax2.set_title('Control')\n",
    "    ax2.set_ylabel(r'm/s^2')\n",
    "    ax2.set_xlabel(r't in s')\n",
    "    \n",
    "\n",
    "    # automatically adjusts subplot to fit in figure window\n",
    "    plt.tight_layout()\n",
    "    \n",
    "    return None"
   ]
  },
  {
   "cell_type": "code",
   "execution_count": 10,
   "id": "9b5a93bd",
   "metadata": {},
   "outputs": [
    {
     "data": {
      "image/png": "[encoded data removed]",
      "text/plain": [
       "<Figure size 432x288 with 2 Axes>"
      ]
     },
     "metadata": {
      "needs_background": "light"
     },
     "output_type": "display_data"
    }
   ],
   "source": [
    "# time vector\n",
    "tt = np.arange(sim_param.t0, sim_param.tf, sim_param.dt)\n",
    "\n",
    "# initial state\n",
    "x0 = [0, 0]\n",
    "\n",
    "# simulation\n",
    "sol = sci.solve_ivp(lambda t, x: rhs(t, x, param), (sim_param.t0, sim_param.tf), x0, t_eval=tt)\n",
    "y_traj = sol.y.T\n",
    "u_traj = control(tt, param)\n",
    "\n",
    "# plot\n",
    "plot_data(y_traj, u_traj, tt, 12, 16)\n",
    "plt.show()"
   ]
  },
  {
   "cell_type": "markdown",
   "id": "75d078c3",
   "metadata": {},
   "source": [
    "# Численный метод решения задач оптимального управления\n",
    "\n",
    "Формула для малых приращений функционала задачи оптимального управления:\n",
    "$$\n",
    "\\begin{equation}\\tag{3}\n",
    "\\Delta \\Phi(x(t_f), t_f) = p'(t_0)\\cdot \\Delta x(t_0) + \\int_{t_0}^{t_f} (H(x,p,u+\\Delta u,t) - H(x,p,u,t)) dt + O(\\varepsilon^2),\n",
    "\\end{equation}$$\n",
    "где $\\Delta x(t_0) = O(\\varepsilon)$ и $\\Delta u(t) = O(\\varepsilon)$.\n",
    "\n",
    "На основе этой формулы представляется возможным реализовать следующую итеративную процедуру (на примере задачи с фиксированным левым и свободным правым концом):\n",
    "1. зафиксировать некоторое управление $u(t)$\n",
    "2. решить задачу Коши с уравнениями модели и получить $x(t)$\n",
    "3. решить задачу Коши с уравнениями для сопряжённых переменных и условиями трансверсальности на правом конце и получить \n",
    "$p(t)$\n",
    "4. разбить интервал $[t_0, t_f]$ на равные достаточно малые подинтервалы и выбрать тот из них, для которого изменение $u(t)$, оставляющее $u$ в области допустимых управлений, обеспечивает максимальное приращение функционала в силу формулы (3)\n",
    "5. изменить управление $u(t)$ в соответствии с п.4 и повторить пп. 2-4\n",
    "\n",
    "Процедура повторяется, пока удаётся обеспечивать приращение функционала, то есть улучшать управление в смысле поставленной задачи.\n",
    "\n",
    "Примечание: уравнения для $p$ придётся интегрировать в обращенном времени, т.к. условия для $p$ определены на правом конце. Пример интегрирования дифференциальных уравнений в обращенном времени приведён в следующей ячейке."
   ]
  },
  {
   "cell_type": "code",
   "execution_count": 21,
   "id": "203e4b54",
   "metadata": {},
   "outputs": [],
   "source": [
    "# функция, возвращающая непрерывное по времени управление, на основе определенного массива u(t)\n",
    "def u(t):\n",
    "    if t > sim_param.tf:\n",
    "        raise ValueError\n",
    "    i = int((t - sim_param.t0)//sim_param.dt)\n",
    "    return u0[i]\n",
    "\n",
    "#функция, вычисляющая правую часть уравнений движения осциллятора\n",
    "def rhs_x(t, x, params):\n",
    "    dxdt = np.zeros(2)\n",
    "    dxdt[0] = x[1]\n",
    "    dxdt[1] = u(t) - params.omega2 * x[0]\n",
    "    return dxdt\n",
    "\n",
    "#функция, вычисляющая правую часть уравнений на сопряжённые переменные\n",
    "def rhs_p(t, p, params):\n",
    "    dpdt = np.zeros(2)\n",
    "    dpdt[0] = params.omega2 * p[1]\n",
    "    dpdt[1] = -p[0]\n",
    "    return dpdt\n",
    "\n",
    "#функция Гамильтона-Понтрягина\n",
    "def H(t, x, p, u, params):\n",
    "    return p[:, 0] * x[:, 1] + p[:, 1]*(u - params.omega2 * x[:, 0])"
   ]
  },
  {
   "cell_type": "code",
   "execution_count": 22,
   "id": "6aac5d8c",
   "metadata": {},
   "outputs": [],
   "source": [
    "time = np.arange(sim_param.t0, sim_param.tf + sim_param.dt, sim_param.dt)\n",
    "u0 = np.zeros(time.shape[0])\n",
    "x0 = [0, 0]\n",
    "pf = [1, 0]\n",
    "\n",
    "#интегрируем уравнения движения слева направо\n",
    "sx = sci.solve_ivp(lambda t, x: rhs_x(t, x, param), (sim_param.t0, sim_param.tf), x0, t_eval = time)\n",
    "x = sx.y.T\n",
    "\n",
    "#интегрируем уравнения движения в обращенном времени (от правого конца к левому, \n",
    "#т.к. условия трансверсальности даны на правом конце)\n",
    "sp = sci.solve_ivp(lambda t, p: rhs_p(t, p , param), (sim_param.tf, sim_param.t0), pf, t_eval = sim_param.tf - time) \n",
    "p = sp.y.T[::-1] # получен в обратном порядке"
   ]
  },
  {
   "cell_type": "code",
   "execution_count": 23,
   "id": "4c897450",
   "metadata": {},
   "outputs": [],
   "source": [
    "u_min = -np.ones(time.shape[0]) * param.u_max\n",
    "u_max = np.ones(time.shape[0]) * param.u_max"
   ]
  },
  {
   "cell_type": "code",
   "execution_count": 24,
   "id": "06d0d8d7",
   "metadata": {},
   "outputs": [],
   "source": [
    "#Вычисляем гамильтониан на полученной для фиксированного управления u0(t) траектории x(t), p(t)\n",
    "H0 = H(time, x, p, u0, param)\n",
    "\n",
    "#а также гамильтонианы на той же траектории, но для управлений принадлежащих верхней (u_max) и нижней (u_min) границам\n",
    "H_min = H(time, x, p, u_min, param)\n",
    "H_max = H(time, x, p, u_max, param)"
   ]
  },
  {
   "cell_type": "code",
   "execution_count": 25,
   "id": "338bfbdf",
   "metadata": {},
   "outputs": [
    {
     "data": {
      "text/plain": [
       "(445, 223)"
      ]
     },
     "execution_count": 25,
     "metadata": {},
     "output_type": "execute_result"
    }
   ],
   "source": [
    "# вычисляем интервал на котором изменение управления с фиксированного u0 на максимальное \n",
    "# даст наибольшее локальное приращение гамильтониану, а значит и функционалу задачи\n",
    "i = np.argmax(H_max - H0)\n",
    "\n",
    "if H_max[i] - H0[i] > 0:\n",
    "    u0[i] = param.u_max\n",
    "\n",
    "# то же для изменения с u0 на u_min\n",
    "j = np.argmax(H_min - H0)\n",
    "\n",
    "if H_min[i] - H0[i] > 0:\n",
    "    u0[j] = -param.u_max\n",
    "    \n",
    "i, j"
   ]
  },
  {
   "cell_type": "markdown",
   "id": "3017c77c",
   "metadata": {},
   "source": [
    "Так выглядела одна итерация вычислительной процедуры. В следующей ячейке все описанные выше операции повторяются в цикле. Цикл может содержать некоторое наперед заданное число итераций или строиться по условию while (пока удаётся увеличивать функционал)."
   ]
  },
  {
   "cell_type": "code",
   "execution_count": 27,
   "id": "d2c18d33",
   "metadata": {},
   "outputs": [],
   "source": [
    "F = []\n",
    "\n",
    "for i in range(u0.shape[0]):\n",
    "    sx = sci.solve_ivp(lambda t, x: rhs_x(t, x, param), (sim_param.t0, sim_param.tf), x0, t_eval = time)\n",
    "    x = sx.y.T\n",
    "    \n",
    "    F.append(x[-1, 0])\n",
    "    \n",
    "    sp = sci.solve_ivp(lambda t, p: rhs_p(t, p , param), (sim_param.tf, sim_param.t0), pf, t_eval = sim_param.tf - time) \n",
    "    p = sp.y.T[::-1] # получен в обратном порядке\n",
    "    \n",
    "    H0 = H(time, x, p, u0, param)\n",
    "    H_min = H(time, x, p, u_min, param)\n",
    "    H_max = H(time, x, p, u_max, param)\n",
    "    \n",
    "    i = np.argmax(H_max - H0)\n",
    "    u0[i] = param.u_max\n",
    "    if H_max[i] - H0[i] > 0:\n",
    "        u0[i] = param.u_max\n",
    "    \n",
    "    j = np.argmax(H_min - H0)\n",
    "    if H_min[i] - H0[i] > 0:\n",
    "        u0[j] = -param.u_max"
   ]
  },
  {
   "cell_type": "markdown",
   "id": "43c2f590",
   "metadata": {},
   "source": [
    "Строим графики переменной $x$, траектории системы на фазовой плоскости ${x,v}$, полученного закона управления $u(t)$ и график изменения функционала $\\Phi$ с числом итераций"
   ]
  },
  {
   "cell_type": "code",
   "execution_count": 28,
   "id": "3f385635",
   "metadata": {},
   "outputs": [
    {
     "data": {
      "text/plain": [
       "[<matplotlib.lines.Line2D at 0x17e250dd880>]"
      ]
     },
     "execution_count": 28,
     "metadata": {},
     "output_type": "execute_result"
    },
    {
     "data": {
      "image/png": "[encoded data removed]",
      "text/plain": [
       "<Figure size 432x288 with 1 Axes>"
      ]
     },
     "metadata": {
      "needs_background": "light"
     },
     "output_type": "display_data"
    }
   ],
   "source": [
    "plt.plot(time, x[:, 0])"
   ]
  },
  {
   "cell_type": "code",
   "execution_count": 29,
   "id": "5f29e4f1",
   "metadata": {},
   "outputs": [
    {
     "data": {
      "text/plain": [
       "[<matplotlib.lines.Line2D at 0x17e25156130>]"
      ]
     },
     "execution_count": 29,
     "metadata": {},
     "output_type": "execute_result"
    },
    {
     "data": {
      "image/png": "[encoded data removed]",
      "text/plain": [
       "<Figure size 432x288 with 1 Axes>"
      ]
     },
     "metadata": {
      "needs_background": "light"
     },
     "output_type": "display_data"
    }
   ],
   "source": [
    "plt.plot(x[:, 0], x[:, 1])"
   ]
  },
  {
   "cell_type": "code",
   "execution_count": 30,
   "id": "d61866a3",
   "metadata": {},
   "outputs": [
    {
     "data": {
      "text/plain": [
       "[<matplotlib.lines.Line2D at 0x17e251ac730>]"
      ]
     },
     "execution_count": 30,
     "metadata": {},
     "output_type": "execute_result"
    },
    {
     "data": {
      "image/png": "[encoded data removed]",
      "text/plain": [
       "<Figure size 432x288 with 1 Axes>"
      ]
     },
     "metadata": {
      "needs_background": "light"
     },
     "output_type": "display_data"
    }
   ],
   "source": [
    "plt.plot(time, u0)"
   ]
  },
  {
   "cell_type": "code",
   "execution_count": 32,
   "id": "84dd8712",
   "metadata": {},
   "outputs": [
    {
     "data": {
      "text/plain": [
       "[<matplotlib.lines.Line2D at 0x17e25174f40>]"
      ]
     },
     "execution_count": 32,
     "metadata": {},
     "output_type": "execute_result"
    },
    {
     "data": {
      "image/png": "[encoded data removed]",
      "text/plain": [
       "<Figure size 432x288 with 1 Axes>"
      ]
     },
     "metadata": {
      "needs_background": "light"
     },
     "output_type": "display_data"
    }
   ],
   "source": [
    "plt.plot(F)"
   ]
  },
  {
   "cell_type": "code",
   "execution_count": null,
   "id": "91c917ea",
   "metadata": {},
   "outputs": [],
   "source": []
  }
 ],
 "metadata": {
  "kernelspec": {
   "display_name": "Python 3",
   "language": "python",
   "name": "python3"
  },
  "language_info": {
   "codemirror_mode": {
    "name": "ipython",
    "version": 3
   },
   "file_extension": ".py",
   "mimetype": "text/x-python",
   "name": "python",
   "nbconvert_exporter": "python",
   "pygments_lexer": "ipython3",
   "version": "3.8.8"
  }
 },
 "nbformat": 4,
 "nbformat_minor": 5
}
