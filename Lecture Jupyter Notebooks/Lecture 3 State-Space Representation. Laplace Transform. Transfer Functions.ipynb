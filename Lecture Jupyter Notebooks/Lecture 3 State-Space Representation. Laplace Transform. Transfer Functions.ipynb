{
 "cells": [
  {
   "cell_type": "markdown",
   "metadata": {},
   "source": [
    "# Лекция 3. Описание Линейных систем. Преобразование Лапласа\n",
    "\n",
    "<ul>\n",
    "Здесь и далее мы будем работать с математическими моделями управляемых диамических объектов. Эти модели составляются на основе физических законов. На предыдущих занятиях мы обсуждали, что модель системы, как правило будет описываться системой обыкновенных дифференциальных уравнений, имеющей вид:\n",
    "\n",
    "$$\\dot{\\mathbf{x}} = \\mathbf{f}(\\mathbf{x}, \\mathbf{u}, t), \\tag{1}$$ \n",
    "\n",
    "где $\\mathbf{x}$ - вектор состояния системы, $\\mathbf{u}$ - вектор управляющих параметров.\n",
    "    \n",
    "Довольно часто уравнение (1) представляет собой систему нелинейных дифференциальных уравнений, однако здесь речь пойдёт о тех системах, модель управляемой динамики которых может быть представлена (в силу постановки задачи или благодаря линеаризации уравнений (1)) системой линейных дифференциальных уравений.\n",
    "    \n",
    "</ul>\n",
    "\n",
    "<h3>Пространство состояний</h3>\n",
    "Линейная непрерывная сстема управления описывается векторным линейным обыкновенным дифференциальным уравнением первого порядка:\n",
    "$$\\dot{\\mathbf{x}} = \\mathbf{A}\\cdot \\mathbf{x} + \\mathbf{B} \\cdot \\mathbf{u} + \\mathbf{D}_1 \\cdot \\mathbf{v}, \\tag{2}$$\n",
    "\n",
    "где $\\mathbf{x} \\in \\mathbb{R}^n$ &mdash; вектор состояния,<br>\n",
    "$\\mathbf{u} \\in \\mathbb{R}^m$ &mdash; вектор управляющих параметров,<br>\n",
    "$\\mathbf{v} \\in \\mathbb{R}^p$ &mdash; вектор внешних возмущений или шумов, действующих на систему,<br>\n",
    "$\\mathbf{A}$ &mdash; матрица состояния.\n",
    "\n",
    "И управление $\\mathbf{u}$, и возмущение $\\mathbf{v}$ называют входами системы. \n",
    "\n",
    "На практике часто бывает так, что состояние системы неизвестно (не измеряется непосредственно), а известен некоторый выход $\\mathbf{y}(t) \\in \\mathbb{R}^l$:\n",
    "\n",
    "$$ \\mathbf{y} = \\mathbf{C}\\cdot \\mathbf{x} + \\mathbf{D}_2\\cdot \\mathbf{v}, \\tag{3}$$\n",
    "\n",
    "где $\\mathbf{C}$ &mdash; матрица выхода.\n",
    "\n",
    "Уравнение (2) принято называть уравнением состояния, уравнение (3) - уравнением выхода. Вместе они образуют описание системы в пространстве состояний.\n",
    "\n",
    "Целью управления является такой выбор функции управления $\\mathbf{u}(t)$ или $\\mathbf{u}(\\mathbf{x},t)$ которое придаёт системе управления (2) требуемые свойства (например, устойчивость или оптимальность в соответствии с некоторым критерием качества)."
   ]
  },
  {
   "cell_type": "markdown",
   "metadata": {},
   "source": [
    "<h3>Пример</h3>\n",
    "<p>Рассмотрим контур системы управления ориентацией спутника. Вектор состояния в этом случае включает в себя параметры ориентации, задаваемые, например, кватернионом $q$ и угловую скорость $\\boldsymbol{\\omega}$. \n",
    "    \n",
    "Заметим, что уравнения (1) в данном случае сводятся к системе кинематических уравнений Пуассона и динамических уравнений Эйлера (система нелинейна):</p>\n",
    "$$\\begin{cases}\n",
    "    \\dot{q} = \\frac{1}{2}q \\circ \\boldsymbol{\\omega} \\\\\n",
    "    \\dot{\\boldsymbol{\\omega}} = \\mathbf{J}^{-1}\\cdot(-\\boldsymbol{\\omega} \\times \\mathbf{J} \\cdot \\boldsymbol{\\omega} + \\mathbf{M}_{ext} + \\mathbf{M}_{ctrl})\n",
    "\\end{cases}$$\n",
    "<p>Выход &mdash; это набор наблюдаемых или измеряемых параметров, связываемых (при помощи уравнения (3)) с состоянием системы. При наличии в контуре системы управления ориентацией звёздного датчика (ЗД) и датчика угловой скорости (ДУС) выход &mdash; это сразу $q$ и $\\boldsymbol{\\omega}$:\n",
    "$$ЗД \\rightarrow q$$\n",
    "$$ДУС \\rightarrow \\boldsymbol{\\omega}$$\n",
    "\n",
    "В студенческих спутниках, как правило, находятся иные датчики: магнитометры, датчики Солнца, вертикали и др. В таком случае измеряются другие величины, которые можно конвертировать в состояние, но не само состояние. В линейных системах можно пользоваться уравнением выхода (3) для описания связи между $\\mathbf{y}$ и $\\mathbf{x}$.\n",
    "</p>\n",
    "<h3>Упражнение</h3>\n",
    "<ol>\n",
    "<li>Попробуйте записать (нелинейное) уравнение выхода для системы ориентации, в которой измеряется магнитное поле (магнитометром, в связанным со спутником осях) и сравнивается с бортовой моделью геомагнитного поля (выход которой представляется в некоторых инерциальных осях)</li>\n",
    "<li>То же самое, но для комбинаций датчиков магнитометр + датчик угловой скорости, магнитометр + солнечные датчики, магнитометр + солнечные датчики + датчики угловой скорости</li>\n",
    "</ol>\n"
   ]
  },
  {
   "cell_type": "markdown",
   "metadata": {},
   "source": [
    "<h2> Передаточные функции </h2>\n",
    "Введём <b>оператор дифференцирования</b><br>\n",
    "$$\n",
    "    s = \\frac{d}{dt}.\n",
    "$$<br>\n",
    "\n",
    "Действие оператора, соответственно,<br>\n",
    "$$\n",
    "    s \\cdot x(t) = \\dot{x}(t).\n",
    "$$\n",
    "\n",
    "Оператор, представленный в форме <b>полинома</b>:<br>\n",
    "$$\n",
    "    p(s) = a_0 + a_1 s + a_2 s^2 + ... + a_k s^k,\n",
    "$$\n",
    "действует на вектор $\\mathbf{x}$ как <br>\n",
    "$$\n",
    "    p(s) \\cdot x(t) = a_0 x(t) + a_1 \\dot{x}(t) + ...\n",
    "$$\n",
    "\n",
    "Рассмотрим ранее введённые уравнение состояния (2). Из системы\n",
    "$$\\begin{cases}\n",
    "    \\dot{\\mathbf{x}} = \\mathbf{A} \\cdot \\mathbf{x} + \\mathbf{B}\\cdot \\mathbf{u} + \\mathbf{D}_1 \\cdot \\mathbf{v}\\\\\n",
    "    \\dot{\\mathbf{x}}(t) = s\\cdot \\mathbf{x}(t) \n",
    "\\end{cases}$$\n",
    "получим\n",
    "$$\n",
    "\\mathbf{x} = (s \\cdot \\mathbf{I} - \\mathbf{A})^{-1} \\cdot(\\mathbf{B}\\cdot \\mathbf{u} + \\mathbf{D}_1\\cdot\\mathbf{v}).\n",
    "$$\n",
    "Подставляя получившееся выражение в уравнение выхода (3), получим\n",
    "$$\n",
    " \\mathbf{y} = \\mathbf{C} \\cdot (s \\mathbf{I} - \\mathbf{A})^{-1}\\cdot \\mathbf{B}\\cdot \\mathbf{u} + (\\mathbf{C}\\cdot(s \\cdot\\mathbf{I} - \\mathbf{A})^{-1}\\cdot\\mathbf{D}_1 + \\mathbf{D}_2)\\cdot\\mathbf{v}.\n",
    "$$\n",
    "Вводя новые обозначения, запишем последнее выражение в виде\n",
    "$$\n",
    "\\mathbf{y} = G_{yu}(s)\\cdot \\mathbf{u} + G_{yv}(s) \\cdot\\mathbf{v},\n",
    "$$\n",
    "где<br>\n",
    "$G_{yu}(s) = \\mathbf{C}\\cdot(s \\cdot\\mathbf{I} - \\mathbf{A})^{-1}\\cdot \\mathbf{B}$ &mdash; <b>передаточная функция от управления к выходу</b>,<br>\n",
    "$G_{yv}(s) = \\mathbf{C}\\cdot(s \\cdot\\mathbf{I} - \\mathbf{A})^{-1}\\cdot \\mathbf{D}_1 + \\mathbf{D}_2$ &mdash; <b>передаточная функция от возмущения к выходу</b>.<br>\n",
    "Таким образом, входной сигнал линейно преобразуется в выход.\n",
    "<p>\n",
    "<b>Характеристический полином</b> матрицы $\\mathbf{A}$<br>\n",
    "$$\n",
    "Q(s) = det(s\\cdot \\mathbf{I} - \\mathbf{A})\n",
    "$$\n",
    "будет находиться в знаменателе при записи формул для вычисления обратных матриц. Нули характеристического полинома, т.е. собственные числа матрицы состояния $\\mathbf{А}$ &mdash; полюса передаточных функций &mdash; характеризуют положения, при которых на ограниченное воздействие происходит неограниченный отклик.</p>"
   ]
  },
  {
   "cell_type": "markdown",
   "metadata": {},
   "source": [
    "<h2>Преобразование Лапласа</h2>\n",
    "<p><b>Преобразование Лапласа</b> $\\mathcal{L}:  x(t) \\rightarrow X(s)$ т., что\n",
    "$$\n",
    "X(s) = \\int_0^{\\infty} x(t) e^{-st} dt,\n",
    "$$\n",
    "где $s$ - комплексная переменная.<br>\n",
    "Здесь\n",
    "$x(t)$ называется оригиналом,\n",
    "$X(s)$ &mdash; изображением.<br>\n",
    "Предъявляются следующие требования:\n",
    "<ol>\n",
    "<li>$x(t)$ определена на $[0; +\\infty)$ и кусочно-дифференцируема,\n",
    "<li>$x(t) \\equiv 0$ при $t < 0$, \n",
    "<li>$\\exists \\alpha > 0$ и $\\exists M > 0:$ $|x(t)| < M e^{\\alpha t}$ на $[0; +\\infty)$.\n",
    "</ol>\n",
    "</p>\n",
    "<p><b>Обратное</b> преобразование Лапласа\n",
    "$$\n",
    "x(t) = \\frac{1}{2 \\pi i} \\int_{a - i\\infty}^{a + i \\infty} x(s) e^{st}ds,\n",
    "$$\n",
    "где $Re(S) = a > \\alpha$.\n",
    "</p>\n",
    "<p>\n",
    "<b>Свойства</b> преобразования Лапласа:\n",
    "<ol>\n",
    "<li>Линейность: $\\forall \\alpha, \\beta > 0 \\hookrightarrow$\n",
    "$$\n",
    "\\mathcal{L}\\{\\alpha x_1(t) + \\beta x_2(t)\\} = \\alpha \\mathcal{L}\\{x_1(t)\\} + \\beta \\mathcal{L}\\{x_2(t)\\}.\n",
    "$$\n",
    "</li>\n",
    "<li>Дифференцирование оригинала\n",
    "$$\n",
    "\\mathcal{L}\\{\\dot{x}(t)\\} = sX(s) - x(0),\n",
    "$$\n",
    "</li>\n",
    "где $X(s) = \\mathcal{L}\\{x(t)\\}$.\n",
    "<li>Интегрирование оригинала\n",
    "$$\n",
    "\\mathcal{L}\\{\\int_0^\\tau x(\\tau) d\\tau\\} = \\frac{X(s)}{s}\n",
    "$$\n",
    "</li>\n",
    "<li>Теорема о запаздывании:\n",
    "$$\n",
    "\\mathcal{L}\\{x(t - \\tau)\\} = e^{-\\tau s}X(s)\n",
    "$$\n",
    "</li>\n",
    "<li>\n",
    "Теорема о свёртке:\n",
    "$$\n",
    "X_1(s) X_2(s) = \\mathcal{L}\\{\\int_0^t x_1(\\tau) x_2(t - \\tau) d\\tau\\} = \\mathcal{L}\\{\\int_0^t x_1(t - \\tau) x_2(\\tau) d\\tau\\}\n",
    "$$\n",
    "</li>\n",
    "</ol>\n",
    "</p>"
   ]
  },
  {
   "cell_type": "markdown",
   "metadata": {},
   "source": []
  },
  {
   "cell_type": "markdown",
   "metadata": {},
   "source": [
    "\n",
    "## Преобразование Лапласа с помощью символьных вычислений в Python\n",
    "\n",
    "$$\\mathcal{L}\\{x(t)\\}=\\int_0^{\\infty}{x(t) e^{-st}}dt$$"
   ]
  },
  {
   "cell_type": "code",
   "execution_count": 15,
   "metadata": {},
   "outputs": [],
   "source": [
    "import sympy\n",
    "import matplotlib.pyplot as plt"
   ]
  },
  {
   "cell_type": "code",
   "execution_count": 5,
   "metadata": {},
   "outputs": [],
   "source": [
    "# t, s и a - символьные переменные\n",
    "t, s = sympy.symbols('t, s')\n",
    "a = sympy.symbols('a', real = True, positive = True)"
   ]
  },
  {
   "cell_type": "code",
   "execution_count": 16,
   "metadata": {},
   "outputs": [
    {
     "data": {
      "text/latex": [
       "$\\displaystyle e^{- a t}$"
      ],
      "text/plain": [
       "exp(-a*t)"
      ]
     },
     "execution_count": 16,
     "metadata": {},
     "output_type": "execute_result"
    }
   ],
   "source": [
    "# f - экспонента, заданная с помощью введённых ранее символов\n",
    "f = sympy.exp(-a*t)\n",
    "f"
   ]
  },
  {
   "cell_type": "code",
   "execution_count": 7,
   "metadata": {},
   "outputs": [],
   "source": [
    "# определим две функции, для прямого и обратного преобразования Лапласа\n",
    "\n",
    "def L(f):\n",
    "    return sympy.laplace_transform(f,t,s, noconds=True)\n",
    "\n",
    "def invL(F):\n",
    "    return sympy.inverse_laplace_transform(F, s, t)"
   ]
  },
  {
   "cell_type": "code",
   "execution_count": 18,
   "metadata": {},
   "outputs": [
    {
     "data": {
      "text/latex": [
       "$\\displaystyle \\frac{1}{a + s}$"
      ],
      "text/plain": [
       "1/(a + s)"
      ]
     },
     "execution_count": 18,
     "metadata": {},
     "output_type": "execute_result"
    }
   ],
   "source": [
    "# вычислим прямое преобразование Лапласа от экспоненциальной функции f\n",
    "F = L(f)\n",
    "F"
   ]
  },
  {
   "cell_type": "code",
   "execution_count": 19,
   "metadata": {},
   "outputs": [
    {
     "data": {
      "text/latex": [
       "$\\displaystyle e^{- a t} \\theta\\left(t\\right)$"
      ],
      "text/plain": [
       "exp(-a*t)*Heaviside(t)"
      ]
     },
     "execution_count": 19,
     "metadata": {},
     "output_type": "execute_result"
    }
   ],
   "source": [
    "# вычислим обратное преобразование Лапласа от получившегося изображения \n",
    "# (заметьте, результат содержит фуункцию Хевисайда, равную нулю для всех t<0)\n",
    "invL(F)"
   ]
  },
  {
   "cell_type": "code",
   "execution_count": 20,
   "metadata": {},
   "outputs": [
    {
     "data": {
      "text/plain": [
       "[1,\n",
       " DiracDelta(t),\n",
       " DiracDelta(-a + t),\n",
       " Heaviside(t),\n",
       " exp(-a*t),\n",
       " t*exp(-a*t),\n",
       " t**n*exp(-a*t),\n",
       " sin(omega*t),\n",
       " cos(omega*t)]"
      ]
     },
     "execution_count": 20,
     "metadata": {},
     "output_type": "execute_result"
    }
   ],
   "source": [
    "# построим таблицу преобразований Лапласа для некоторых стандатных функций\n",
    "# в этой ячейке определяется набор функций-оригиналов\n",
    "omega, tau = sympy.symbols('omega, tau', real=True)\n",
    "n = sympy.symbols('n', int=True, positive = True)\n",
    "exp = sympy.exp\n",
    "sin = sympy.sin\n",
    "cos = sympy.cos\n",
    "delta = sympy.DiracDelta\n",
    "hv = sympy.Heaviside\n",
    "\n",
    "functions = [1, \n",
    "             delta(t),\n",
    "             delta(t-a),\n",
    "             hv(t), \n",
    "             exp(-a*t), \n",
    "             t*exp(-a*t),\n",
    "             t**n*exp(-a*t),\n",
    "             sin(omega*t), \n",
    "             cos(omega*t)]\n",
    "\n",
    "functions"
   ]
  },
  {
   "cell_type": "code",
   "execution_count": 21,
   "metadata": {},
   "outputs": [
    {
     "data": {
      "text/plain": [
       "[1/s,\n",
       " 1 - Heaviside(0),\n",
       " exp(-a*s),\n",
       " 1/s,\n",
       " 1/(a + s),\n",
       " (a + s)**(-2),\n",
       " (a + s)**(-n - 1)*gamma(n + 1),\n",
       " omega/(omega**2 + s**2),\n",
       " s/(omega**2 + s**2)]"
      ]
     },
     "execution_count": 21,
     "metadata": {},
     "output_type": "execute_result"
    }
   ],
   "source": [
    "# в этой ячейке определяется набор функций-изображений\n",
    "Fs = [L(f) for f in functions]\n",
    "Fs"
   ]
  },
  {
   "cell_type": "code",
   "execution_count": 22,
   "metadata": {},
   "outputs": [],
   "source": [
    "from pandas import DataFrame"
   ]
  },
  {
   "cell_type": "code",
   "execution_count": 23,
   "metadata": {},
   "outputs": [],
   "source": [
    "def makelatex(args):\n",
    "    return [\"$${}$$\".format(sympy.latex(a)) for a in args]"
   ]
  },
  {
   "cell_type": "code",
   "execution_count": 24,
   "metadata": {},
   "outputs": [
    {
     "data": {
      "text/html": [
       "<div>\n",
       "<style scoped>\n",
       "    .dataframe tbody tr th:only-of-type {\n",
       "        vertical-align: middle;\n",
       "    }\n",
       "\n",
       "    .dataframe tbody tr th {\n",
       "        vertical-align: top;\n",
       "    }\n",
       "\n",
       "    .dataframe thead th {\n",
       "        text-align: right;\n",
       "    }\n",
       "</style>\n",
       "<table border=\"1\" class=\"dataframe\">\n",
       "  <thead>\n",
       "    <tr style=\"text-align: right;\">\n",
       "      <th></th>\n",
       "      <th>Оригинал</th>\n",
       "      <th>Изображение</th>\n",
       "    </tr>\n",
       "  </thead>\n",
       "  <tbody>\n",
       "    <tr>\n",
       "      <th>0</th>\n",
       "      <td>$$1$$</td>\n",
       "      <td>$$\\frac{1}{s}$$</td>\n",
       "    </tr>\n",
       "    <tr>\n",
       "      <th>1</th>\n",
       "      <td>$$\\delta\\left(t\\right)$$</td>\n",
       "      <td>$$1 - \\theta\\left(0\\right)$$</td>\n",
       "    </tr>\n",
       "    <tr>\n",
       "      <th>2</th>\n",
       "      <td>$$\\delta\\left(- a + t\\right)$$</td>\n",
       "      <td>$$e^{- a s}$$</td>\n",
       "    </tr>\n",
       "    <tr>\n",
       "      <th>3</th>\n",
       "      <td>$$\\theta\\left(t\\right)$$</td>\n",
       "      <td>$$\\frac{1}{s}$$</td>\n",
       "    </tr>\n",
       "    <tr>\n",
       "      <th>4</th>\n",
       "      <td>$$e^{- a t}$$</td>\n",
       "      <td>$$\\frac{1}{a + s}$$</td>\n",
       "    </tr>\n",
       "    <tr>\n",
       "      <th>5</th>\n",
       "      <td>$$t e^{- a t}$$</td>\n",
       "      <td>$$\\frac{1}{\\left(a + s\\right)^{2}}$$</td>\n",
       "    </tr>\n",
       "    <tr>\n",
       "      <th>6</th>\n",
       "      <td>$$t^{n} e^{- a t}$$</td>\n",
       "      <td>$$\\left(a + s\\right)^{- n - 1} \\Gamma\\left(n +...</td>\n",
       "    </tr>\n",
       "    <tr>\n",
       "      <th>7</th>\n",
       "      <td>$$\\sin{\\left(\\omega t \\right)}$$</td>\n",
       "      <td>$$\\frac{\\omega}{\\omega^{2} + s^{2}}$$</td>\n",
       "    </tr>\n",
       "    <tr>\n",
       "      <th>8</th>\n",
       "      <td>$$\\cos{\\left(\\omega t \\right)}$$</td>\n",
       "      <td>$$\\frac{s}{\\omega^{2} + s^{2}}$$</td>\n",
       "    </tr>\n",
       "  </tbody>\n",
       "</table>\n",
       "</div>"
      ],
      "text/plain": [
       "                           Оригинал  \\\n",
       "0                             $$1$$   \n",
       "1          $$\\delta\\left(t\\right)$$   \n",
       "2    $$\\delta\\left(- a + t\\right)$$   \n",
       "3          $$\\theta\\left(t\\right)$$   \n",
       "4                     $$e^{- a t}$$   \n",
       "5                   $$t e^{- a t}$$   \n",
       "6               $$t^{n} e^{- a t}$$   \n",
       "7  $$\\sin{\\left(\\omega t \\right)}$$   \n",
       "8  $$\\cos{\\left(\\omega t \\right)}$$   \n",
       "\n",
       "                                         Изображение  \n",
       "0                                    $$\\frac{1}{s}$$  \n",
       "1                       $$1 - \\theta\\left(0\\right)$$  \n",
       "2                                      $$e^{- a s}$$  \n",
       "3                                    $$\\frac{1}{s}$$  \n",
       "4                                $$\\frac{1}{a + s}$$  \n",
       "5               $$\\frac{1}{\\left(a + s\\right)^{2}}$$  \n",
       "6  $$\\left(a + s\\right)^{- n - 1} \\Gamma\\left(n +...  \n",
       "7              $$\\frac{\\omega}{\\omega^{2} + s^{2}}$$  \n",
       "8                   $$\\frac{s}{\\omega^{2} + s^{2}}$$  "
      ]
     },
     "execution_count": 24,
     "metadata": {},
     "output_type": "execute_result"
    }
   ],
   "source": [
    "tblLaplace = DataFrame(list(zip(makelatex(functions),makelatex(Fs))))\n",
    "tblLaplace.columns = [\"Оригинал\", \"Изображение\"]\n",
    "tblLaplace"
   ]
  },
  {
   "cell_type": "markdown",
   "metadata": {},
   "source": [
    "# Упражнение\n",
    "Вычислите преобразование Лапласа для $\\delta$-функции вручную, сравните результат с полученным в таблице. Объясните разницу"
   ]
  },
  {
   "cell_type": "markdown",
   "metadata": {},
   "source": [
    "# Описание и анализ одномерных систем\n",
    "\n",
    "Для простоты рассмотрим систему с одномерным входом (единичная размерность вектора управляющих параметров $\\mathbf{u}$) и одномерным выходом ($\\mathbf{y}$). Такие системы называют в литературе SISO (single input - single output system), в отличие от MIMO (multiple inpupt - multiple output).\n",
    "\n",
    "Система описывается дифференциальным уравнением\n",
    "$$\n",
    "a_nx^{(n)}(t) + a_{n-1}x^{(n-1)}(t) + ... + a_0 x(t) = b_mu^{(m)}(t) + ... + b_0 u(t). \\tag{4}\n",
    "$$\n",
    "<p>\n",
    "Подвергнем уравнение (4) преобразованию Лапласа при нулевых начальных условиях:\n",
    "$$\n",
    "Q_n(s) X(s) = P_m(s) U(s),\n",
    "$$ \n",
    "$Q_n, P_m$ &mdash; полиномы от $s$.\n",
    "Отсюда\n",
    "$$\n",
    "X(s) = \\frac{P_m(s)}{Q_n(s)}U(s)\n",
    "$$\n",
    "</p>\n",
    "\n",
    "Введём несколько определений:\n",
    "\n",
    "<p>\n",
    "<b>Передаточной функцией</b> (в изображениях Лапласа) $H(s)$ будем называть имеющее наименьший порядок отношение изображений её выходной и входной переменных при нулевых начальных условиях.\n",
    "</p>\n",
    "\n",
    "В силу линейности преобразования Лапласа, а также в силу свойства дифференцирования изображения полином $Q(s)$ является характеристическим полиномом однородного уравнения, соответствующего уравнению (4).\n",
    "\n",
    "<b>Весовой функцией</b> $h(t)$ будем называть отклик системы на единичное импульсное воздействие ($\\delta$-функцию) при нулевых начальных условиях.\n",
    "</p>\n",
    "\n",
    "<p>\n",
    "<b>Переходной функцией</b> $\\pi(t)$ будем называть отклик системы на единичное ступенчатое воздействие ($\\theta(t)$ - функция Хевисайда) при нулевых начальных условиях.\n",
    "</p>"
   ]
  },
  {
   "cell_type": "code",
   "execution_count": null,
   "metadata": {},
   "outputs": [],
   "source": []
  }
 ],
 "metadata": {
  "kernelspec": {
   "display_name": "Python 3",
   "language": "python",
   "name": "python3"
  },
  "language_info": {
   "codemirror_mode": {
    "name": "ipython",
    "version": 3
   },
   "file_extension": ".py",
   "mimetype": "text/x-python",
   "name": "python",
   "nbconvert_exporter": "python",
   "pygments_lexer": "ipython3",
   "version": "3.8.8"
  }
 },
 "nbformat": 4,
 "nbformat_minor": 1
}
